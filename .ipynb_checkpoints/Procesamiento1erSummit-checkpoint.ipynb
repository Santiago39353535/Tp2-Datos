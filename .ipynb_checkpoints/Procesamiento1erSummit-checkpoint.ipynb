{
 "cells": [
  {
   "cell_type": "code",
   "execution_count": 1,
   "metadata": {},
   "outputs": [],
   "source": [
    "import pandas as pd\n",
    "from functools import reduce\n",
    "import numpy as np\n",
    "import math as math\n",
    "from os import listdir"
   ]
  },
  {
   "cell_type": "code",
   "execution_count": 2,
   "metadata": {},
   "outputs": [
    {
     "name": "stderr",
     "output_type": "stream",
     "text": [
      "c:\\python27\\lib\\site-packages\\IPython\\core\\interactiveshell.py:2718: DtypeWarning: Columns (3,5,6,7,8,9,10,11,12,13,14,15,16,17,18,19,20,21,22) have mixed types. Specify dtype option on import or set low_memory=False.\n",
      "  interactivity=interactivity, compiler=compiler, result=result)\n"
     ]
    }
   ],
   "source": [
    "df1 = pd.read_csv(\"./csv/events_up_to_01062018.csv\")"
   ]
  },
  {
   "cell_type": "code",
   "execution_count": 3,
   "metadata": {},
   "outputs": [],
   "source": [
    "df2 = pd.read_csv(\"./csv/labels_training_set.csv\")"
   ]
  },
  {
   "cell_type": "code",
   "execution_count": 4,
   "metadata": {},
   "outputs": [],
   "source": [
    "df1['timestamp'] = pd.to_datetime(df1['timestamp'])"
   ]
  },
  {
   "cell_type": "code",
   "execution_count": 5,
   "metadata": {},
   "outputs": [],
   "source": [
    "def modelo(obj):\n",
    "    if(pd.isnull(obj)):\n",
    "        return obj\n",
    "    \n",
    "    list = obj.split(\" \")\n",
    "    if len(list) == 1:\n",
    "        return obj\n",
    "    if \"iPhone\" in list:\n",
    "        return \"iPhone\"\n",
    "    if \"Samsung\" in list:\n",
    "        return \"Samsung\"\n",
    "    if \"Motorola\" in list:\n",
    "        return \"Motorola\"\n",
    "    if \"Lenovo\" in list:\n",
    "        return \"Lenovo\"\n",
    "    if \"Sony\" in list:\n",
    "        return \"Sony\"\n",
    "    if \"LG\" in list:\n",
    "        return \"LG\"\n",
    "    if \"Asus\" in list:\n",
    "        return \"Asus\"\n",
    "    if \"iPad\" in list:\n",
    "        return \"iPad\"\n",
    "    if \"Quantum\" in list:\n",
    "        return \"Quantum\"\n",
    "    return obj\n",
    "\n",
    "df1['model'] = df1['model'].apply(modelo)"
   ]
  },
  {
   "cell_type": "code",
   "execution_count": 6,
   "metadata": {},
   "outputs": [
    {
     "data": {
      "text/plain": [
       "iPhone              593603\n",
       "Samsung             501307\n",
       "Motorola            162914\n",
       "LG                   24814\n",
       "Sony                 15599\n",
       "Lenovo               11382\n",
       "iPad                  5663\n",
       "Asus                  4536\n",
       "Quantum               1693\n",
       "Outros TV LED 15         1\n",
       "Xiaomi Redmi 2           1\n",
       "Name: model, dtype: int64"
      ]
     },
     "execution_count": 6,
     "metadata": {},
     "output_type": "execute_result"
    }
   ],
   "source": [
    "df1['model'].value_counts()"
   ]
  },
  {
   "cell_type": "code",
   "execution_count": 7,
   "metadata": {},
   "outputs": [
    {
     "data": {
      "text/plain": [
       "viewed product       1248124\n",
       "brand listing         216312\n",
       "visited site          204069\n",
       "ad campaign hit       191388\n",
       "generic listing       160176\n",
       "searched products     130616\n",
       "search engine hit     106406\n",
       "checkout               65315\n",
       "staticpage             11201\n",
       "conversion              7091\n",
       "lead                     983\n",
       "Name: event, dtype: int64"
      ]
     },
     "execution_count": 7,
     "metadata": {},
     "output_type": "execute_result"
    }
   ],
   "source": [
    "df1['event'].value_counts()"
   ]
  },
  {
   "cell_type": "markdown",
   "metadata": {},
   "source": [
    "# Analisis para los eventos distintos de convercion"
   ]
  },
  {
   "cell_type": "code",
   "execution_count": 8,
   "metadata": {},
   "outputs": [],
   "source": [
    "df_a = df1"
   ]
  },
  {
   "cell_type": "code",
   "execution_count": 9,
   "metadata": {},
   "outputs": [],
   "source": [
    "#calculo medianas de los modelos con eventos por persona\n",
    "df_a_model = df_a.dropna(subset=['model']).loc[:,['person','model']].groupby('person')\\\n",
    "                .apply(lambda x: x['model'].value_counts().idxmax())\\\n",
    "                .reset_index().rename(columns={0:\"model_no_convercion\"})\n",
    "\n",
    "\n",
    "df_a_storage = df_a.dropna(subset=['storage']).loc[:,['person','storage']].groupby('person')\\\n",
    "                .apply(lambda x: x['storage'].value_counts().idxmax())\\\n",
    "                .reset_index().rename(columns={0:\"storage_no_convercion\"})\n",
    "        \n",
    "        \n",
    "df_a_condition = df_a.dropna(subset=['condition']).loc[:,['person','condition']].groupby('person')\\\n",
    "                .apply(lambda x: x['condition'].value_counts().idxmax())\\\n",
    "                .reset_index().rename(columns={0:\"condition_no_convercion\"})\n",
    "        \n",
    "        \n",
    "df_a_color = df_a.dropna(subset=['color']).loc[:,['person','color']].groupby('person')\\\n",
    "                .apply(lambda x: x['color'].value_counts().idxmax())\\\n",
    "                .reset_index().rename(columns={0:\"color_no_convercion\"})\n",
    "\n",
    "df_a_search_engine = df_a.dropna(subset=['search_engine']).loc[:,['person','search_engine']].groupby('person')\\\n",
    "                .apply(lambda x: x['search_engine'].value_counts().idxmax())\\\n",
    "                .reset_index().rename(columns={0:\"search_engine\"})"
   ]
  },
  {
   "cell_type": "code",
   "execution_count": 10,
   "metadata": {},
   "outputs": [],
   "source": [
    "df_datos_no_convercion = df_a_model.merge(df_a_storage,how='left',on='person')\\\n",
    "                                .merge(df_a_condition,how='left',on='person')\\\n",
    "                                .merge(df_a_color,how='left',on='person')\\\n",
    "                                .merge(df_a_search_engine,how='left',on='person')"
   ]
  },
  {
   "cell_type": "code",
   "execution_count": 11,
   "metadata": {},
   "outputs": [],
   "source": [
    "dffinal = df_datos_no_convercion"
   ]
  },
  {
   "cell_type": "markdown",
   "metadata": {},
   "source": [
    "# Date"
   ]
  },
  {
   "cell_type": "markdown",
   "metadata": {},
   "source": [
    "# eventos por dia x usr ( al temporario)"
   ]
  },
  {
   "cell_type": "code",
   "execution_count": 12,
   "metadata": {},
   "outputs": [],
   "source": [
    "# creo columnas con lunes == true o false\n",
    "def dds(ele):# 0 -> lunes\n",
    "    if(ele.month == 1):\n",
    "        return (((ele.day + 6) % 7) == (i))\n",
    "    if(ele.month == 2):\n",
    "        return (((ele.day + 3 + 6) % 7) == i)\n",
    "    if(ele.month == 3):\n",
    "        return (((ele.day + 3 + 6) % 7) ==(i))\n",
    "    if(ele.month == 4):\n",
    "        return (((ele.day + 12) % 7) ==(i))\n",
    "    if(ele.month == 5):\n",
    "        return (((ele.day + 1 + 6) % 7) == (i))\n",
    "i = 0\n",
    "df1[\"lunes\"] = df1[\"timestamp\"].apply(dds)\n",
    "i = 1\n",
    "df1[\"martes\"] = df1[\"timestamp\"].apply(dds)\n",
    "i = 2\n",
    "df1[\"miercoles\"] = df1[\"timestamp\"].apply(dds)\n",
    "i = 3\n",
    "df1[\"jueves\"] = df1[\"timestamp\"].apply(dds)\n",
    "i = 4\n",
    "df1[\"viernes\"] = df1[\"timestamp\"].apply(dds)\n",
    "i = 5\n",
    "df1[\"sabado\"] = df1[\"timestamp\"].apply(dds)\n",
    "i = 6\n",
    "df1[\"domingo\"] = df1[\"timestamp\"].apply(dds)\n"
   ]
  },
  {
   "cell_type": "code",
   "execution_count": 13,
   "metadata": {},
   "outputs": [],
   "source": [
    "dffinal = dffinal.set_index(\"person\")"
   ]
  },
  {
   "cell_type": "markdown",
   "metadata": {},
   "source": [
    "# mayor cantidad de eventos separados por dia de la semaan por usr "
   ]
  },
  {
   "cell_type": "code",
   "execution_count": 14,
   "metadata": {},
   "outputs": [],
   "source": [
    "# mas actividad x dia semana\n",
    "def diaMasGrande(fila):\n",
    "    aux = fila[\"lunes\"]\n",
    "    if(aux < fila[\"martes\"]):\n",
    "        aux = fila[\"martes\"]\n",
    "    if(aux < fila[\"miercoles\"]):\n",
    "        aux = fila[\"miercoles\"]\n",
    "    if(aux < fila[\"jueves\"]):\n",
    "        aux = fila[\"jueves\"]\n",
    "    if(aux < fila[\"viernes\"]):\n",
    "        aux = fila[\"viernes\"]\n",
    "    if(aux < fila[\"sabado\"]):\n",
    "        aux = fila[\"sabado\"]\n",
    "    if(aux < fila[\"domingo\"]):\n",
    "        aux = fila[\"domingo\"]\n",
    "    return aux\n",
    "dffinal[\"numero mas usado dia\"] = df1[[\"lunes\",\"martes\",\"miercoles\",\"jueves\",\"viernes\",\"sabado\",\"domingo\",\"person\"]].groupby(\"person\").sum().apply(diaMasGrande,axis = 1)"
   ]
  },
  {
   "cell_type": "markdown",
   "metadata": {},
   "source": [
    "# dia de la semana con mas eventos por usr"
   ]
  },
  {
   "cell_type": "code",
   "execution_count": 15,
   "metadata": {},
   "outputs": [],
   "source": [
    "# dia de la semaan mas activa\n",
    "def strDiaMasGrande(fila):\n",
    "    strAux = \"lunes\"\n",
    "    aux = fila[\"lunes\"]\n",
    "    if(aux < fila[\"martes\"]):\n",
    "        strAux = \"martes\"\n",
    "        aux = fila[\"martes\"]\n",
    "    if(aux < fila[\"miercoles\"]):\n",
    "        strAux = \"miercoles\"\n",
    "        aux = fila[\"miercoles\"]\n",
    "    if(aux < fila[\"jueves\"]):\n",
    "        strAux = \"jueves\"\n",
    "        aux = fila[\"jueves\"]\n",
    "    if(aux < fila[\"viernes\"]):\n",
    "        strAux = \"viernes\"\n",
    "        aux = fila[\"viernes\"]\n",
    "    if(aux < fila[\"sabado\"]):\n",
    "        strAux = \"sabado\"\n",
    "        aux = fila[\"sabado\"]\n",
    "    if(aux < fila[\"domingo\"]):\n",
    "        strAux = \"domingo\"\n",
    "        aux = fila[\"domingo\"]\n",
    "    return strAux\n",
    "dffinal[\"nombre mas usado dia\"] = df1[[\"lunes\",\"martes\",\"miercoles\",\"jueves\",\"viernes\",\"sabado\",\"domingo\",\"person\"]].groupby(\"person\").sum().apply(strDiaMasGrande,axis = 1)"
   ]
  },
  {
   "cell_type": "markdown",
   "metadata": {},
   "source": [
    "# cuento eventos por persona"
   ]
  },
  {
   "cell_type": "code",
   "execution_count": 16,
   "metadata": {},
   "outputs": [
    {
     "name": "stderr",
     "output_type": "stream",
     "text": [
      "c:\\python27\\lib\\site-packages\\ipykernel_launcher.py:2: SettingWithCopyWarning: \n",
      "A value is trying to be set on a copy of a slice from a DataFrame.\n",
      "Try using .loc[row_indexer,col_indexer] = value instead\n",
      "\n",
      "See the caveats in the documentation: http://pandas.pydata.org/pandas-docs/stable/indexing.html#indexing-view-versus-copy\n",
      "  \n"
     ]
    }
   ],
   "source": [
    "aux = df1[[\"event\",\"person\"]]\n",
    "aux[\"aux\"] = 1\n",
    "aux = aux.groupby([\"person\",\"event\"]).count()\n",
    "aux = aux.unstack().fillna(0).reset_index().reset_index()\n",
    "aux.columns = aux.columns.droplevel()\n",
    "aux[\"person\"] = aux.iloc[:, 1].values\n",
    "aux = aux.drop(\"\",axis = 1)"
   ]
  },
  {
   "cell_type": "code",
   "execution_count": 17,
   "metadata": {},
   "outputs": [],
   "source": [
    "dffinal = dffinal.reset_index()"
   ]
  },
  {
   "cell_type": "code",
   "execution_count": 18,
   "metadata": {},
   "outputs": [],
   "source": [
    "aux = pd.merge(aux,dffinal,on=\"person\",how=\"inner\")"
   ]
  },
  {
   "cell_type": "code",
   "execution_count": 19,
   "metadata": {},
   "outputs": [
    {
     "data": {
      "text/plain": [
       "Index([u'ad campaign hit', u'brand listing', u'checkout', u'conversion',\n",
       "       u'generic listing', u'lead', u'search engine hit', u'searched products',\n",
       "       u'staticpage', u'viewed product', u'visited site', u'person',\n",
       "       u'model_no_convercion', u'storage_no_convercion',\n",
       "       u'condition_no_convercion', u'color_no_convercion', u'search_engine',\n",
       "       u'numero mas usado dia', u'nombre mas usado dia'],\n",
       "      dtype='object')"
      ]
     },
     "execution_count": 19,
     "metadata": {},
     "output_type": "execute_result"
    }
   ],
   "source": [
    "aux.columns"
   ]
  },
  {
   "cell_type": "code",
   "execution_count": 20,
   "metadata": {},
   "outputs": [],
   "source": [
    "aux = aux.dropna(subset=[\"storage_no_convercion\"])"
   ]
  },
  {
   "cell_type": "code",
   "execution_count": 21,
   "metadata": {},
   "outputs": [],
   "source": [
    "aux[\"search_engine\"] = aux[\"search_engine\"].fillna(\"not\")"
   ]
  },
  {
   "cell_type": "code",
   "execution_count": 22,
   "metadata": {},
   "outputs": [],
   "source": [
    "aux[\"storage_no_convercion\"] = aux[\"storage_no_convercion\"].str.replace(\"GB\",\"\").replace(\"512MB\",\"0.5\")"
   ]
  },
  {
   "cell_type": "markdown",
   "metadata": {},
   "source": [
    "# ultimo evento/fecha de actividad/de de la semana activo\n",
    "ultimos evento y su fecha y dias de la semana"
   ]
  },
  {
   "cell_type": "code",
   "execution_count": 23,
   "metadata": {},
   "outputs": [],
   "source": [
    "temp = df1[[\"person\",\"timestamp\"]].groupby(\"person\").max().reset_index()\n",
    "aux[\"ultima_fecha_de_actividad\"] = temp[\"timestamp\"]"
   ]
  },
  {
   "cell_type": "code",
   "execution_count": 24,
   "metadata": {},
   "outputs": [],
   "source": [
    "diasDeLaSemana =[\"lunes\",\"martes\",\"miercoles\",\"jueves\",\"viernes\",\"sabado\",\"domingo\"]\n",
    "def dds2(ele):# 0 -> lunes\n",
    "    if(ele.month == 1):\n",
    "        for i in range(0,7):\n",
    "            if(((ele.day + 6) % 7) == (i)):\n",
    "                return diasDeLaSemana[i]  \n",
    "    if(ele.month == 2):\n",
    "        for i in range(0,7):\n",
    "            if(((ele.day + 9) % 7) == (i)):\n",
    "                return diasDeLaSemana[i]\n",
    "    if(ele.month == 3):\n",
    "        for i in range(0,7):\n",
    "            if(((ele.day + 9) % 7) == (i)):\n",
    "                return diasDeLaSemana[i]\n",
    "    if(ele.month == 4):\n",
    "        for i in range(0,7):\n",
    "            if(((ele.day + 12) % 7) == (i)):\n",
    "                return diasDeLaSemana[i]\n",
    "    if(ele.month == 5):\n",
    "        for i in range(0,7):\n",
    "            if(((ele.day) % 7) == (i)):\n",
    "                return diasDeLaSemana[i]\n",
    "            \n",
    "aux[\"ultimo_dia_de_la_semana_activo\"] = aux[\"ultima_fecha_de_actividad\"].apply(dds2)"
   ]
  },
  {
   "cell_type": "code",
   "execution_count": 25,
   "metadata": {},
   "outputs": [],
   "source": [
    "temp = df1[[\"person\",\"timestamp\"]].groupby(\"person\")[\"timestamp\"].max().reset_index()"
   ]
  },
  {
   "cell_type": "code",
   "execution_count": 26,
   "metadata": {},
   "outputs": [],
   "source": [
    "df2 = pd.merge( df1[[\"person\",\"timestamp\",\"event\"]],temp,on=[\"person\",\"timestamp\"],how=\"right\")\n",
    "#personas con varios eventos en el mismo timestamp/ como elegir cual evento fue el ultimo? \n",
    "#-->uso moda x q no se me ocurre nada mejor\n",
    "tmpmod = df2.groupby(\"person\").agg(pd.Series.mode)"
   ]
  },
  {
   "cell_type": "code",
   "execution_count": null,
   "metadata": {},
   "outputs": [],
   "source": []
  },
  {
   "cell_type": "code",
   "execution_count": 27,
   "metadata": {},
   "outputs": [],
   "source": [
    "aux[\"ultimo_evento_registrado_cmode\"] = tmpmod.reset_index()[\"event\"]"
   ]
  },
  {
   "cell_type": "code",
   "execution_count": 28,
   "metadata": {},
   "outputs": [
    {
     "data": {
      "text/plain": [
       "Index([u'ad campaign hit', u'brand listing', u'checkout', u'conversion',\n",
       "       u'generic listing', u'lead', u'search engine hit', u'searched products',\n",
       "       u'staticpage', u'viewed product', u'visited site', u'person',\n",
       "       u'model_no_convercion', u'storage_no_convercion',\n",
       "       u'condition_no_convercion', u'color_no_convercion', u'search_engine',\n",
       "       u'numero mas usado dia', u'nombre mas usado dia',\n",
       "       u'ultima_fecha_de_actividad', u'ultimo_dia_de_la_semana_activo',\n",
       "       u'ultimo_evento_registrado_cmode'],\n",
       "      dtype='object')"
      ]
     },
     "execution_count": 28,
     "metadata": {},
     "output_type": "execute_result"
    }
   ],
   "source": [
    "aux.columns"
   ]
  },
  {
   "cell_type": "code",
   "execution_count": 29,
   "metadata": {},
   "outputs": [],
   "source": [
    "temp = pd.to_datetime(\"06.01.2018\") - aux[\"ultima_fecha_de_actividad\"]"
   ]
  },
  {
   "cell_type": "code",
   "execution_count": 30,
   "metadata": {},
   "outputs": [],
   "source": [
    "#lo paso a dias hasta el 1 / 06\n",
    "aux[\"dias_hasta\"] = temp.reset_index()[\"ultima_fecha_de_actividad\"].dt.days"
   ]
  },
  {
   "cell_type": "code",
   "execution_count": 31,
   "metadata": {},
   "outputs": [
    {
     "data": {
      "text/plain": [
       "array(['viewed product', 'searched products', 'ad campaign hit',\n",
       "       'staticpage', 'checkout', 'search engine hit', 'conversion',\n",
       "       'generic listing', 'brand listing', 'visited site', 'lead'], dtype=object)"
      ]
     },
     "execution_count": 31,
     "metadata": {},
     "output_type": "execute_result"
    }
   ],
   "source": [
    "word = df1[\"event\"].unique()\n",
    "word"
   ]
  },
  {
   "cell_type": "code",
   "execution_count": 32,
   "metadata": {},
   "outputs": [],
   "source": [
    "# fecha ultimo evento\n",
    "ultimosEveFecha = df1.loc[df1[\"event\"] == \"conversion\"][[\"person\",\"timestamp\"]].groupby(\"person\")[\"timestamp\"].max().reset_index().set_index(\"person\")\n",
    "del ultimosEveFecha[\"timestamp\"]"
   ]
  },
  {
   "cell_type": "code",
   "execution_count": 33,
   "metadata": {},
   "outputs": [],
   "source": [
    "eventList = df1[\"event\"].unique()\n",
    "for word in eventList:\n",
    "    ultimosEveFecha[word + \"_last\"] = df1.loc[df1[\"event\"] == word][[\"person\",\"timestamp\"]].groupby(\"person\").max()"
   ]
  },
  {
   "cell_type": "code",
   "execution_count": 34,
   "metadata": {},
   "outputs": [],
   "source": [
    "for word in eventList:\n",
    "    ultimosEveFecha[word + \"_last\"] = (pd.to_datetime(\"06.01.2018\") - pd.to_datetime(ultimosEveFecha[word + \"_last\"])).dt.days"
   ]
  },
  {
   "cell_type": "code",
   "execution_count": 35,
   "metadata": {},
   "outputs": [],
   "source": [
    "#testear diferentes fills\n",
    "ultimosEveFecha = ultimosEveFecha.fillna(-1).reset_index()"
   ]
  },
  {
   "cell_type": "code",
   "execution_count": 36,
   "metadata": {},
   "outputs": [],
   "source": [
    "aux = pd.merge(aux,ultimosEveFecha,on=\"person\",how=\"left\").fillna(-1)"
   ]
  },
  {
   "cell_type": "code",
   "execution_count": 37,
   "metadata": {},
   "outputs": [],
   "source": [
    "#cantidad de dias en los q entro\n",
    "df1[\"dias_hasta_1/6\"] = (pd.to_datetime(\"06.01.2018\") - df1[\"timestamp\"]).dt.days"
   ]
  },
  {
   "cell_type": "code",
   "execution_count": 38,
   "metadata": {},
   "outputs": [],
   "source": [
    "aux = aux.set_index(\"person\")\n",
    "aux[\"cantidad_de_dias_utilizado\"] = df1[[\"person\",\"dias_hasta_1/6\"]].groupby(\"person\")[\"dias_hasta_1/6\"].nunique().reset_index().set_index(\"person\")\n",
    "aux = aux.reset_index()"
   ]
  },
  {
   "cell_type": "code",
   "execution_count": 39,
   "metadata": {},
   "outputs": [
    {
     "data": {
      "text/plain": [
       "array(['viewed product', 'searched products', 'ad campaign hit',\n",
       "       'staticpage', 'checkout', 'search engine hit', 'conversion',\n",
       "       'generic listing', 'brand listing', 'visited site', 'lead'], dtype=object)"
      ]
     },
     "execution_count": 39,
     "metadata": {},
     "output_type": "execute_result"
    }
   ],
   "source": [
    "eventList"
   ]
  },
  {
   "cell_type": "code",
   "execution_count": 40,
   "metadata": {},
   "outputs": [],
   "source": [
    "def concatenador(item):\n",
    "       return reduce(lambda x, y: x + y, item)"
   ]
  },
  {
   "cell_type": "code",
   "execution_count": 41,
   "metadata": {},
   "outputs": [],
   "source": [
    "def enlistar(x):\n",
    "    return [x]\n",
    "df1[\"dias_hasta_1/6\"] = df1[\"dias_hasta_1/6\"].apply(enlistar)"
   ]
  },
  {
   "cell_type": "code",
   "execution_count": 43,
   "metadata": {},
   "outputs": [],
   "source": [
    "aux[\"fechas_de_conversiones\"] = df1[[\"event\",\"person\",\"dias_hasta_1/6\"]].loc[df1[\"event\"] == \"conversion\"].groupby(\"person\")[\"dias_hasta_1/6\"].agg(concatenador).reset_index()[0]"
   ]
  },
  {
   "cell_type": "code",
   "execution_count": 44,
   "metadata": {},
   "outputs": [],
   "source": [
    "aux[\"fechas_de_busqueda\"] = df1[[\"event\",\"person\",\"dias_hasta_1/6\"]].loc[df1[\"event\"] == \"searched products\"].groupby(\"person\")[\"dias_hasta_1/6\"].agg(concatenador).reset_index()[0]"
   ]
  },
  {
   "cell_type": "code",
   "execution_count": null,
   "metadata": {},
   "outputs": [],
   "source": []
  },
  {
   "cell_type": "code",
   "execution_count": 45,
   "metadata": {},
   "outputs": [],
   "source": [
    "def isNaN(num):\n",
    "    return num != num"
   ]
  },
  {
   "cell_type": "code",
   "execution_count": 46,
   "metadata": {},
   "outputs": [],
   "source": [
    "\n",
    "def haceMagia(item):\n",
    "    y = item.values\n",
    "    x = y[0]\n",
    "    y = y[1]\n",
    "    l = []\n",
    "    i = 10000\n",
    "    if(not(isNaN(x)) and not(isNaN(y))):\n",
    "        if(x and y ):\n",
    "            x.append(i)\n",
    "            x.sort(reverse = True)\n",
    "            xanterior = -1\n",
    "            l2 = []\n",
    "            for numberx in x:\n",
    "                if(xanterior != -1):\n",
    "                    for numbery in y:\n",
    "                        if(xanterior > numbery and numberx < numbery):\n",
    "                            l2.append(numbery)\n",
    "                xanterior = numberx  \n",
    "            l.append(l2)\n",
    "    return l"
   ]
  },
  {
   "cell_type": "code",
   "execution_count": 47,
   "metadata": {},
   "outputs": [
    {
     "data": {
      "text/plain": [
       "0                                                     [[]]\n",
       "1                                                     [[]]\n",
       "2        [[15, 15, 15, 15, 15, 15, 15, 15, 15, 15, 15, ...\n",
       "3                                                     [[]]\n",
       "4            [[31, 31, 31, 31, 31, 31, 31, 111, 111, 111]]\n",
       "5                                               [[14, 14]]\n",
       "6                                                  [[126]]\n",
       "7                                                     [[]]\n",
       "8                                                     [[]]\n",
       "9                                               [[32, 32]]\n",
       "10                                                    [[]]\n",
       "11       [[107, 107, 107, 107, 107, 107, 107, 107, 107,...\n",
       "12                  [[135, 9, 9, 9, 9, 9, 9, 9, 9, 9, 10]]\n",
       "13                                                    [[]]\n",
       "14                                                    [[]]\n",
       "15                                                    [[]]\n",
       "16                          [[21, 21, 21, 21, 21, 74, 74]]\n",
       "17       [[128, 128, 128, 128, 128, 128, 128, 128, 87, ...\n",
       "18                                                  [[16]]\n",
       "19                                                  [[49]]\n",
       "20                                              [[12, 12]]\n",
       "21                                                    [[]]\n",
       "22                                                    [[]]\n",
       "23       [[10, 10, 10, 10, 10, 10, 10, 10, 10, 10, 10, ...\n",
       "24                                          [[20, 20, 70]]\n",
       "25                                                  [[63]]\n",
       "26                                       [[5, 5, 5, 5, 5]]\n",
       "27                                              [[14, 14]]\n",
       "28                                                    [[]]\n",
       "29                                                [[3, 3]]\n",
       "                               ...                        \n",
       "38220                                                   []\n",
       "38221                                                   []\n",
       "38222                                                   []\n",
       "38223                                                   []\n",
       "38224                                                   []\n",
       "38225                                                   []\n",
       "38226                                                   []\n",
       "38227                                                   []\n",
       "38228                                                   []\n",
       "38229                                                   []\n",
       "38230                                                   []\n",
       "38231                                                   []\n",
       "38232                                                   []\n",
       "38233                                                   []\n",
       "38234                                                   []\n",
       "38235                                                   []\n",
       "38236                                                   []\n",
       "38237                                                   []\n",
       "38238                                                   []\n",
       "38239                                                   []\n",
       "38240                                                   []\n",
       "38241                                                   []\n",
       "38242                                                   []\n",
       "38243                                                   []\n",
       "38244                                                   []\n",
       "38245                                                   []\n",
       "38246                                                   []\n",
       "38247                                                   []\n",
       "38248                                                   []\n",
       "38249                                                   []\n",
       "Length: 38250, dtype: object"
      ]
     },
     "execution_count": 47,
     "metadata": {},
     "output_type": "execute_result"
    }
   ],
   "source": [
    "def len2(x):\n",
    "    if(len(x) == 2):\n",
    "        print(1)\n",
    "aux[[\"fechas_de_conversiones\",\"fechas_de_busqueda\"]].fillna(0).apply(haceMagia,axis = 1)"
   ]
  },
  {
   "cell_type": "code",
   "execution_count": null,
   "metadata": {},
   "outputs": [],
   "source": [
    "\n"
   ]
  },
  {
   "cell_type": "code",
   "execution_count": 48,
   "metadata": {},
   "outputs": [
    {
     "ename": "TypeError",
     "evalue": "You have to supply one of 'by' and 'level'",
     "output_type": "error",
     "traceback": [
      "\u001b[1;31m---------------------------------------------------------------------------\u001b[0m",
      "\u001b[1;31mTypeError\u001b[0m                                 Traceback (most recent call last)",
      "\u001b[1;32m<ipython-input-48-a17c496c1930>\u001b[0m in \u001b[0;36m<module>\u001b[1;34m()\u001b[0m\n\u001b[1;32m----> 1\u001b[1;33m \u001b[0mdf1\u001b[0m\u001b[1;33m[\u001b[0m\u001b[1;33m[\u001b[0m\u001b[1;34m\"event\"\u001b[0m\u001b[1;33m,\u001b[0m\u001b[1;34m\"person\"\u001b[0m\u001b[1;33m,\u001b[0m\u001b[1;34m\"timestamp\"\u001b[0m\u001b[1;33m]\u001b[0m\u001b[1;33m]\u001b[0m\u001b[1;33m.\u001b[0m\u001b[0mloc\u001b[0m\u001b[1;33m[\u001b[0m\u001b[0mdf1\u001b[0m\u001b[1;33m[\u001b[0m\u001b[1;34m\"event\"\u001b[0m\u001b[1;33m]\u001b[0m \u001b[1;33m==\u001b[0m \u001b[1;34m\"searched products\"\u001b[0m\u001b[1;33m]\u001b[0m\u001b[1;33m.\u001b[0m\u001b[0mgroupby\u001b[0m\u001b[1;33m(\u001b[0m\u001b[1;33m)\u001b[0m\u001b[1;33m\u001b[0m\u001b[0m\n\u001b[0m",
      "\u001b[1;32mc:\\python27\\lib\\site-packages\\pandas\\core\\generic.pyc\u001b[0m in \u001b[0;36mgroupby\u001b[1;34m(self, by, axis, level, as_index, sort, group_keys, squeeze, **kwargs)\u001b[0m\n\u001b[0;32m   5156\u001b[0m \u001b[1;33m\u001b[0m\u001b[0m\n\u001b[0;32m   5157\u001b[0m         \u001b[1;32mif\u001b[0m \u001b[0mlevel\u001b[0m \u001b[1;32mis\u001b[0m \u001b[0mNone\u001b[0m \u001b[1;32mand\u001b[0m \u001b[0mby\u001b[0m \u001b[1;32mis\u001b[0m \u001b[0mNone\u001b[0m\u001b[1;33m:\u001b[0m\u001b[1;33m\u001b[0m\u001b[0m\n\u001b[1;32m-> 5158\u001b[1;33m             \u001b[1;32mraise\u001b[0m \u001b[0mTypeError\u001b[0m\u001b[1;33m(\u001b[0m\u001b[1;34m\"You have to supply one of 'by' and 'level'\"\u001b[0m\u001b[1;33m)\u001b[0m\u001b[1;33m\u001b[0m\u001b[0m\n\u001b[0m\u001b[0;32m   5159\u001b[0m         \u001b[0maxis\u001b[0m \u001b[1;33m=\u001b[0m \u001b[0mself\u001b[0m\u001b[1;33m.\u001b[0m\u001b[0m_get_axis_number\u001b[0m\u001b[1;33m(\u001b[0m\u001b[0maxis\u001b[0m\u001b[1;33m)\u001b[0m\u001b[1;33m\u001b[0m\u001b[0m\n\u001b[0;32m   5160\u001b[0m         return groupby(self, by=by, axis=axis, level=level, as_index=as_index,\n",
      "\u001b[1;31mTypeError\u001b[0m: You have to supply one of 'by' and 'level'"
     ]
    }
   ],
   "source": [
    "#df1[[\"event\",\"person\",\"timestamp\"]].loc[df1[\"event\"] == \"searched products\"].groupby()"
   ]
  },
  {
   "cell_type": "code",
   "execution_count": 49,
   "metadata": {},
   "outputs": [],
   "source": [
    "del aux[\"ultima_fecha_de_actividad\"]\n",
    "aux.to_csv(\"features.csv\",index = False)"
   ]
  },
  {
   "cell_type": "code",
   "execution_count": null,
   "metadata": {},
   "outputs": [],
   "source": [
    "df1[\"dia_de_la_semana\"]= df1[\"timestamp\"].dt.dayofweek"
   ]
  },
  {
   "cell_type": "code",
   "execution_count": 56,
   "metadata": {},
   "outputs": [],
   "source": [
    "aux[\"media_dia_de_la_semana_convercion\"] = df1.loc[df1.event == \"conversion\",[\"person\",\"dia_de_la_semana\"]].groupby('person')\\\n",
    "        .apply(lambda x: x[\"dia_de_la_semana\"].value_counts().idxmax()).reset_index()[0]"
   ]
  },
  {
   "cell_type": "code",
   "execution_count": 57,
   "metadata": {},
   "outputs": [],
   "source": [
    "aux[\"media_dia_de_la_semana_no_convercion\"] = df1.loc[df1.event != \"conversion\",[\"person\",\"dia_de_la_semana\"]].groupby('person')\\\n",
    "        .apply(lambda x: x[\"dia_de_la_semana\"].value_counts().idxmax()).reset_index()[0]"
   ]
  },
  {
   "cell_type": "code",
   "execution_count": 58,
   "metadata": {},
   "outputs": [
    {
     "data": {
      "text/html": [
       "<div>\n",
       "<style scoped>\n",
       "    .dataframe tbody tr th:only-of-type {\n",
       "        vertical-align: middle;\n",
       "    }\n",
       "\n",
       "    .dataframe tbody tr th {\n",
       "        vertical-align: top;\n",
       "    }\n",
       "\n",
       "    .dataframe thead th {\n",
       "        text-align: right;\n",
       "    }\n",
       "</style>\n",
       "<table border=\"1\" class=\"dataframe\">\n",
       "  <thead>\n",
       "    <tr style=\"text-align: right;\">\n",
       "      <th></th>\n",
       "      <th>person</th>\n",
       "      <th>ad campaign hit</th>\n",
       "      <th>brand listing</th>\n",
       "      <th>checkout</th>\n",
       "      <th>conversion</th>\n",
       "      <th>generic listing</th>\n",
       "      <th>lead</th>\n",
       "      <th>search engine hit</th>\n",
       "      <th>searched products</th>\n",
       "      <th>staticpage</th>\n",
       "      <th>...</th>\n",
       "      <th>conversion_last</th>\n",
       "      <th>generic listing_last</th>\n",
       "      <th>brand listing_last</th>\n",
       "      <th>visited site_last</th>\n",
       "      <th>lead_last</th>\n",
       "      <th>cantidad_de_dias_utilizado</th>\n",
       "      <th>fechas_de_conversiones</th>\n",
       "      <th>fechas_de_busqueda</th>\n",
       "      <th>media_dia_de_la_semana_convercion</th>\n",
       "      <th>media_dia_de_la_semana_no_convercion</th>\n",
       "    </tr>\n",
       "  </thead>\n",
       "  <tbody>\n",
       "    <tr>\n",
       "      <th>0</th>\n",
       "      <td>0008ed71</td>\n",
       "      <td>0.0</td>\n",
       "      <td>0.0</td>\n",
       "      <td>3.0</td>\n",
       "      <td>0.0</td>\n",
       "      <td>1.0</td>\n",
       "      <td>0.0</td>\n",
       "      <td>0.0</td>\n",
       "      <td>0.0</td>\n",
       "      <td>0.0</td>\n",
       "      <td>...</td>\n",
       "      <td>-1.0</td>\n",
       "      <td>-1.0</td>\n",
       "      <td>-1.0</td>\n",
       "      <td>-1.0</td>\n",
       "      <td>-1.0</td>\n",
       "      <td>1</td>\n",
       "      <td>[10000, 5]</td>\n",
       "      <td>[2, 2, 2, 2, 2, 2, 2, 2, 2]</td>\n",
       "      <td>5.0</td>\n",
       "      <td>3</td>\n",
       "    </tr>\n",
       "    <tr>\n",
       "      <th>1</th>\n",
       "      <td>00091926</td>\n",
       "      <td>15.0</td>\n",
       "      <td>25.0</td>\n",
       "      <td>2.0</td>\n",
       "      <td>0.0</td>\n",
       "      <td>0.0</td>\n",
       "      <td>0.0</td>\n",
       "      <td>0.0</td>\n",
       "      <td>0.0</td>\n",
       "      <td>0.0</td>\n",
       "      <td>...</td>\n",
       "      <td>-1.0</td>\n",
       "      <td>-1.0</td>\n",
       "      <td>-1.0</td>\n",
       "      <td>-1.0</td>\n",
       "      <td>-1.0</td>\n",
       "      <td>22</td>\n",
       "      <td>[10000, 15]</td>\n",
       "      <td>[13, 14, 14, 14, 14, 14]</td>\n",
       "      <td>2.0</td>\n",
       "      <td>6</td>\n",
       "    </tr>\n",
       "    <tr>\n",
       "      <th>2</th>\n",
       "      <td>00091a7a</td>\n",
       "      <td>1.0</td>\n",
       "      <td>5.0</td>\n",
       "      <td>0.0</td>\n",
       "      <td>0.0</td>\n",
       "      <td>0.0</td>\n",
       "      <td>0.0</td>\n",
       "      <td>0.0</td>\n",
       "      <td>0.0</td>\n",
       "      <td>0.0</td>\n",
       "      <td>...</td>\n",
       "      <td>-1.0</td>\n",
       "      <td>-1.0</td>\n",
       "      <td>-1.0</td>\n",
       "      <td>-1.0</td>\n",
       "      <td>-1.0</td>\n",
       "      <td>1</td>\n",
       "      <td>[10000, 6]</td>\n",
       "      <td>[15, 15, 15, 15, 15, 15, 15, 15, 15, 15, 15, 1...</td>\n",
       "      <td>4.0</td>\n",
       "      <td>0</td>\n",
       "    </tr>\n",
       "    <tr>\n",
       "      <th>3</th>\n",
       "      <td>000ba417</td>\n",
       "      <td>1.0</td>\n",
       "      <td>24.0</td>\n",
       "      <td>6.0</td>\n",
       "      <td>1.0</td>\n",
       "      <td>14.0</td>\n",
       "      <td>0.0</td>\n",
       "      <td>1.0</td>\n",
       "      <td>0.0</td>\n",
       "      <td>0.0</td>\n",
       "      <td>...</td>\n",
       "      <td>5.0</td>\n",
       "      <td>5.0</td>\n",
       "      <td>5.0</td>\n",
       "      <td>5.0</td>\n",
       "      <td>-1.0</td>\n",
       "      <td>3</td>\n",
       "      <td>[10000, 111, 9]</td>\n",
       "      <td>[0, 0, 0, 0]</td>\n",
       "      <td>1.0</td>\n",
       "      <td>3</td>\n",
       "    </tr>\n",
       "    <tr>\n",
       "      <th>4</th>\n",
       "      <td>000c79fe</td>\n",
       "      <td>1.0</td>\n",
       "      <td>0.0</td>\n",
       "      <td>1.0</td>\n",
       "      <td>0.0</td>\n",
       "      <td>1.0</td>\n",
       "      <td>0.0</td>\n",
       "      <td>1.0</td>\n",
       "      <td>9.0</td>\n",
       "      <td>0.0</td>\n",
       "      <td>...</td>\n",
       "      <td>-1.0</td>\n",
       "      <td>-1.0</td>\n",
       "      <td>-1.0</td>\n",
       "      <td>-1.0</td>\n",
       "      <td>-1.0</td>\n",
       "      <td>1</td>\n",
       "      <td>[10000, 9]</td>\n",
       "      <td>[9, 31, 31, 31, 31, 31, 31, 31, 111, 111, 111]</td>\n",
       "      <td>1.0</td>\n",
       "      <td>1</td>\n",
       "    </tr>\n",
       "  </tbody>\n",
       "</table>\n",
       "<p>5 rows × 38 columns</p>\n",
       "</div>"
      ],
      "text/plain": [
       "     person  ad campaign hit  brand listing  checkout  conversion  \\\n",
       "0  0008ed71              0.0            0.0       3.0         0.0   \n",
       "1  00091926             15.0           25.0       2.0         0.0   \n",
       "2  00091a7a              1.0            5.0       0.0         0.0   \n",
       "3  000ba417              1.0           24.0       6.0         1.0   \n",
       "4  000c79fe              1.0            0.0       1.0         0.0   \n",
       "\n",
       "   generic listing  lead  search engine hit  searched products  staticpage  \\\n",
       "0              1.0   0.0                0.0                0.0         0.0   \n",
       "1              0.0   0.0                0.0                0.0         0.0   \n",
       "2              0.0   0.0                0.0                0.0         0.0   \n",
       "3             14.0   0.0                1.0                0.0         0.0   \n",
       "4              1.0   0.0                1.0                9.0         0.0   \n",
       "\n",
       "                  ...                   conversion_last  generic listing_last  \\\n",
       "0                 ...                              -1.0                  -1.0   \n",
       "1                 ...                              -1.0                  -1.0   \n",
       "2                 ...                              -1.0                  -1.0   \n",
       "3                 ...                               5.0                   5.0   \n",
       "4                 ...                              -1.0                  -1.0   \n",
       "\n",
       "  brand listing_last visited site_last lead_last cantidad_de_dias_utilizado  \\\n",
       "0               -1.0              -1.0      -1.0                          1   \n",
       "1               -1.0              -1.0      -1.0                         22   \n",
       "2               -1.0              -1.0      -1.0                          1   \n",
       "3                5.0               5.0      -1.0                          3   \n",
       "4               -1.0              -1.0      -1.0                          1   \n",
       "\n",
       "  fechas_de_conversiones                                 fechas_de_busqueda  \\\n",
       "0             [10000, 5]                        [2, 2, 2, 2, 2, 2, 2, 2, 2]   \n",
       "1            [10000, 15]                           [13, 14, 14, 14, 14, 14]   \n",
       "2             [10000, 6]  [15, 15, 15, 15, 15, 15, 15, 15, 15, 15, 15, 1...   \n",
       "3        [10000, 111, 9]                                       [0, 0, 0, 0]   \n",
       "4             [10000, 9]     [9, 31, 31, 31, 31, 31, 31, 31, 111, 111, 111]   \n",
       "\n",
       "  media_dia_de_la_semana_convercion media_dia_de_la_semana_no_convercion  \n",
       "0                               5.0                                    3  \n",
       "1                               2.0                                    6  \n",
       "2                               4.0                                    0  \n",
       "3                               1.0                                    3  \n",
       "4                               1.0                                    1  \n",
       "\n",
       "[5 rows x 38 columns]"
      ]
     },
     "execution_count": 58,
     "metadata": {},
     "output_type": "execute_result"
    }
   ],
   "source": [
    "aux.head()"
   ]
  },
  {
   "cell_type": "code",
   "execution_count": null,
   "metadata": {},
   "outputs": [],
   "source": []
  }
 ],
 "metadata": {
  "kernelspec": {
   "display_name": "Python 2",
   "language": "python",
   "name": "python2"
  },
  "language_info": {
   "codemirror_mode": {
    "name": "ipython",
    "version": 2
   },
   "file_extension": ".py",
   "mimetype": "text/x-python",
   "name": "python",
   "nbconvert_exporter": "python",
   "pygments_lexer": "ipython2",
   "version": "2.7.14"
  }
 },
 "nbformat": 4,
 "nbformat_minor": 2
}
