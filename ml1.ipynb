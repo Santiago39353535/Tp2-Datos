{
 "cells": [
  {
   "cell_type": "code",
   "execution_count": 1,
   "metadata": {},
   "outputs": [],
   "source": [
    "import pandas as pd\n",
    "import numpy as np\n",
    "import matplotlib.pyplot as plt\n",
    "import seaborn as sns\n",
    "%matplotlib inline\n",
    "\n",
    "from sklearn.cross_validation import train_test_split\n",
    "from sklearn.metrics import roc_auc_score\n",
    "from sklearn.metrics import mean_squared_error\n",
    "from sklearn.grid_search import GridSearchCV\n",
    "from sklearn.tree import DecisionTreeClassifier\n",
    "from sklearn.tree import DecisionTreeRegressor\n",
    "from sklearn.ensemble import RandomForestRegressor\n",
    "from sklearn.ensemble import RandomForestClassifier\n",
    "from sklearn.ensemble import GradientBoostingRegressor\n",
    "from sklearn.ensemble import AdaBoostRegressor\n",
    "from sklearn.ensemble import BaggingRegressor\n",
    "from sklearn.decomposition import TruncatedSVD\n",
    "from sklearn.pipeline import Pipeline\n",
    "from sklearn.linear_model import LogisticRegression\n",
    "import sklearn.cross_validation\n",
    "from sklearn.cross_validation import cross_val_score"
   ]
  },
  {
   "cell_type": "code",
   "execution_count": 2,
   "metadata": {},
   "outputs": [],
   "source": [
    "def setPred(col):\n",
    "    if(col > 0):\n",
    "        return 1\n",
    "    else:\n",
    "        return 0\n",
    "    \n",
    "def add_noise(series, noise_level):\n",
    "    return series * (1 + noise_level * np.random.randn(len(series)))\n",
    "\n",
    "def target_encode(trn_series=None, \n",
    "                  tst_series=None, \n",
    "                  target=None, \n",
    "                  min_samples_leaf=1, \n",
    "                  smoothing=1,\n",
    "                  noise_level=0):\n",
    "    \"\"\"\n",
    "    Smoothing is computed like in the following paper by Daniele Micci-Barreca\n",
    "    https://kaggle2.blob.core.windows.net/forum-message-attachments/225952/7441/high%20cardinality%20categoricals.pdf\n",
    "    trn_series : training categorical feature as a pd.Series\n",
    "    tst_series : test categorical feature as a pd.Series\n",
    "    target : target data as a pd.Series\n",
    "    min_samples_leaf (int) : minimum samples to take category average into account\n",
    "    smoothing (int) : smoothing effect to balance categorical average vs prior  \n",
    "    \"\"\" \n",
    "    assert len(trn_series) == len(target)\n",
    "    assert trn_series.name == tst_series.name\n",
    "    temp = pd.concat([trn_series, target], axis=1)\n",
    "    # Compute target mean \n",
    "    averages = temp.groupby(by=trn_series.name)[target.name].agg([\"mean\", \"count\"])\n",
    "    # Compute smoothing\n",
    "    smoothing = 1 / (1 + np.exp(-(averages[\"count\"] - min_samples_leaf) / smoothing))\n",
    "    # Apply average function to all target data\n",
    "    prior = target.mean()\n",
    "    # The bigger the count the less full_avg is taken into account\n",
    "    averages[target.name] = prior * (1 - smoothing) + averages[\"mean\"] * smoothing\n",
    "    averages.drop([\"mean\", \"count\"], axis=1, inplace=True)\n",
    "    # Apply averages to trn and tst series\n",
    "    ft_trn_series = pd.merge(\n",
    "        trn_series.to_frame(trn_series.name),\n",
    "        averages.reset_index().rename(columns={'index': target.name, target.name: 'average'}),\n",
    "        on=trn_series.name,\n",
    "        how='left')['average'].rename(trn_series.name + '_mean').fillna(prior)\n",
    "    # pd.merge does not keep the index so restore it\n",
    "    ft_trn_series.index = trn_series.index \n",
    "    ft_tst_series = pd.merge(\n",
    "        tst_series.to_frame(tst_series.name),\n",
    "        averages.reset_index().rename(columns={'index': target.name, target.name: 'average'}),\n",
    "        on=tst_series.name,\n",
    "        how='left')['average'].rename(trn_series.name + '_mean').fillna(prior)\n",
    "    # pd.merge does not keep the index so restore it\n",
    "    ft_tst_series.index = tst_series.index\n",
    "    return add_noise(ft_trn_series, noise_level), add_noise(ft_tst_series, noise_level)"
   ]
  },
  {
   "cell_type": "code",
   "execution_count": null,
   "metadata": {},
   "outputs": [],
   "source": []
  },
  {
   "cell_type": "markdown",
   "metadata": {},
   "source": [
    "# preparar/tweks datos "
   ]
  },
  {
   "cell_type": "code",
   "execution_count": 224,
   "metadata": {},
   "outputs": [],
   "source": [
    "features = pd.read_csv(\"features.csv\",low_memory = False)\n",
    "prediccion = pd.read_csv(\"csv/labels_training_set.csv\")"
   ]
  },
  {
   "cell_type": "code",
   "execution_count": 225,
   "metadata": {},
   "outputs": [],
   "source": [
    "#features = features.loc[features[\"conversion\"]<=5]"
   ]
  },
  {
   "cell_type": "code",
   "execution_count": 226,
   "metadata": {},
   "outputs": [],
   "source": [
    "#mergeo features y la info q nos tiran, lleno con 0 los q no se\n",
    "train = pd.merge(prediccion,features,on=\"person\",how= \"left\").dropna()"
   ]
  },
  {
   "cell_type": "code",
   "execution_count": 227,
   "metadata": {},
   "outputs": [],
   "source": [
    "prediccion = train[\"label\"]"
   ]
  },
  {
   "cell_type": "code",
   "execution_count": 228,
   "metadata": {},
   "outputs": [],
   "source": [
    "test = features.loc[~features[\"person\"].isin(train[\"person\"])]"
   ]
  },
  {
   "cell_type": "code",
   "execution_count": 229,
   "metadata": {},
   "outputs": [
    {
     "name": "stderr",
     "output_type": "stream",
     "text": [
      "/home/tito/.local/lib/python3.5/site-packages/ipykernel_launcher.py:3: SettingWithCopyWarning: \n",
      "A value is trying to be set on a copy of a slice from a DataFrame.\n",
      "Try using .loc[row_indexer,col_indexer] = value instead\n",
      "\n",
      "See the caveats in the documentation: http://pandas.pydata.org/pandas-docs/stable/indexing.html#indexing-view-versus-copy\n",
      "  This is separate from the ipykernel package so we can avoid doing imports until\n"
     ]
    }
   ],
   "source": [
    "listaDeCategoricos = [\"condition_no_convercion\",\"model_no_convercion\",\"color_no_convercion\",\"search_engine\"\\\n",
    "                      ,\"nombre mas usado dia\",\"ultimo_dia_de_la_semana_activo\",\"ultimo_evento_registrado_cmode\"]\n",
    "for word in listaDeCategoricos:\n",
    "    train[word],test[word] =  target_encode(trn_series = train[word],  \\\n",
    "                                            tst_series = test[word],\\\n",
    "                                            target=prediccion, \\\n",
    "                                            min_samples_leaf=50,\\\n",
    "                                            smoothing=5,\\\n",
    "                                            noise_level=0.01)\n"
   ]
  },
  {
   "cell_type": "code",
   "execution_count": 189,
   "metadata": {},
   "outputs": [
    {
     "data": {
      "text/plain": [
       "Index(['person', 'label', 'ad campaign hit', 'brand listing', 'checkout',\n",
       "       'conversion', 'generic listing', 'lead', 'search engine hit',\n",
       "       'searched products', 'staticpage', 'viewed product', 'visited site',\n",
       "       'model_no_convercion', 'storage_no_convercion',\n",
       "       'condition_no_convercion', 'color_no_convercion', 'search_engine',\n",
       "       'numero mas usado dia', 'nombre mas usado dia',\n",
       "       'ultimo_dia_de_la_semana_activo', 'ultimo_evento_registrado_cmode',\n",
       "       'dias_hasta', 'viewed product_last', 'searched products_last',\n",
       "       'ad campaign hit_last', 'staticpage_last', 'checkout_last',\n",
       "       'search engine hit_last', 'conversion_last', 'generic listing_last',\n",
       "       'brand listing_last', 'visited site_last', 'lead_last',\n",
       "       'cantidad_de_dias_utilizado', 'media_dia_de_la_semana_no_convercion',\n",
       "       'delta_ultimo_primer_dia_actividad',\n",
       "       'delta_ultimo_anteulit_tiempo_actividad',\n",
       "       'delta_primer_seg_tiempo_actividad', 'dTimeEve'],\n",
       "      dtype='object')"
      ]
     },
     "execution_count": 189,
     "metadata": {},
     "output_type": "execute_result"
    }
   ],
   "source": [
    "train.columns"
   ]
  },
  {
   "cell_type": "code",
   "execution_count": 230,
   "metadata": {},
   "outputs": [],
   "source": [
    "exclude = [\"ultimo_dia_de_la_semana_activo\",\"cantidad_de_dias_utilizado\"]\n",
    "train = train.drop(exclude,axis = 1)\n",
    "test = test.drop(exclude,axis = 1)"
   ]
  },
  {
   "cell_type": "code",
   "execution_count": 44,
   "metadata": {},
   "outputs": [
    {
     "data": {
      "text/plain": [
       "(264,)"
      ]
     },
     "execution_count": 44,
     "metadata": {},
     "output_type": "execute_result"
    }
   ],
   "source": [
    "prediccion.shape"
   ]
  },
  {
   "cell_type": "code",
   "execution_count": 231,
   "metadata": {},
   "outputs": [],
   "source": [
    "train = train.drop([\"person\",\"label\"],axis = 1)"
   ]
  },
  {
   "cell_type": "code",
   "execution_count": 232,
   "metadata": {},
   "outputs": [],
   "source": [
    "for word in features.columns:\n",
    "    features[word] = pd.to_numeric(features[word],errors = \"coerce\")"
   ]
  },
  {
   "cell_type": "code",
   "execution_count": 233,
   "metadata": {},
   "outputs": [],
   "source": [
    "\n",
    "X_train, X_test, y_train, y_test = train_test_split(train, prediccion, test_size=0.30, random_state=41)"
   ]
  },
  {
   "cell_type": "markdown",
   "metadata": {},
   "source": [
    "# Random Forest\n",
    "# historial cambios tweaks | score\n",
    "\n",
    "columnas: \n",
    "'ad campaign hit', 'brand listing', 'checkout', 'generic listing',\n",
    "       'lead', 'search engine hit', 'searched products', 'staticpage',\n",
    "       'viewed product', 'visited site', 'level_0', 'storage_no_convercion',\n",
    "       'numero mas usado dia', 'condition_no_convercion2',\n",
    "       'color_no_convercion2', 'search_engine2', 'nombre mas usado dia2']\n",
    "       \n",
    "features contraproductivos:\n",
    "    cantidad de dias utilizado, hora/mes/dia ultimo evento, ultimo dia de la semana activo\n",
    "\n",
    "test_size = 0.3\n",
    "cv = 20\n",
    "n_estimator 50 | .78 (Kaggle .76)\n",
    "n_estimator 100 | .79 \n",
    "\n",
    "cambio smootingbasado en: conversiones previas -> conversiones futuras\n",
    "\n",
    "test_size = 0.3\n",
    "cv = 20\n",
    "n_estimator 100 | .80 (Kaggle .78)\n",
    "\n",
    "agrego ultimo evento\n",
    "\n",
    "test_size = 0.3\n",
    "cv = 20\n",
    "n_estimator 100 | .793\n",
    "\n",
    "\n",
    "agrego: ultimo dias hasta el 1/6,suceso de cada evento, rellenados con -1\n",
    "\n",
    "test_size = 0.3\n",
    "cv = 20\n",
    "n_estimator 100 | .798\n",
    "\n",
    "agrego: ultimo dia de la semana activo\n",
    "\n",
    "test_size = 0.3\n",
    "cv = 20\n",
    "n_estimator 100 | .798\n",
    "\n",
    "cambio relleno de cantidad de veces de cada evento -1 -> mediana\n",
    "agrego  'delta_ultimo_primer_dia_actividad',\n",
    "       'delta_ultimo_anteulit_tiempo_actividad',\n",
    "       'delta_primer_seg_tiempo_actividad',\n",
    "       'dTimeEve\n",
    "\n",
    "test_size = 0.3\n",
    "cv = 20\n",
    "n_estimator 100 | .832\n",
    "\n",
    "\n",
    "\n",
    "https://www.youtube.com/watch?v=BSUMBBFjxrY"
   ]
  },
  {
   "cell_type": "code",
   "execution_count": 110,
   "metadata": {},
   "outputs": [
    {
     "data": {
      "text/plain": [
       "{'bootstrap': True,\n",
       " 'criterion': 'mse',\n",
       " 'max_depth': None,\n",
       " 'max_features': 'auto',\n",
       " 'max_leaf_nodes': None,\n",
       " 'min_samples_leaf': 1,\n",
       " 'min_samples_split': 2,\n",
       " 'min_weight_fraction_leaf': 0.0,\n",
       " 'n_estimators': 10,\n",
       " 'n_jobs': -1,\n",
       " 'oob_score': False,\n",
       " 'random_state': None,\n",
       " 'verbose': 0,\n",
       " 'warm_start': False}"
      ]
     },
     "execution_count": 110,
     "metadata": {},
     "output_type": "execute_result"
    }
   ],
   "source": [
    "# probar clasificacion\n",
    "randomforesttree = RandomForestRegressor(random_state = None, n_jobs=-1)\n",
    "randomforesttree.get_params()"
   ]
  },
  {
   "cell_type": "code",
   "execution_count": 207,
   "metadata": {},
   "outputs": [
    {
     "name": "stdout",
     "output_type": "stream",
     "text": [
      "{'max_features': 'auto', 'n_estimators': 100, 'criterion': 'mse'} 0.8384269077870133\n"
     ]
    }
   ],
   "source": [
    "#\n",
    "param_grid= {'max_features': [\"auto\"], 'n_estimators': [100], 'criterion': ['mse']}\n",
    "grid_drop = GridSearchCV(randomforesttree, param_grid, cv=20, scoring='roc_auc',n_jobs = -1,pre_dispatch = 4)\n",
    "grid_drop.fit(X_train, y_train)\n",
    "print(grid_drop.best_params_, grid_drop.best_score_)"
   ]
  },
  {
   "cell_type": "code",
   "execution_count": 86,
   "metadata": {},
   "outputs": [],
   "source": [
    "result = grid_drop.best_estimator_.predict(X_test)"
   ]
  },
  {
   "cell_type": "code",
   "execution_count": 87,
   "metadata": {},
   "outputs": [
    {
     "data": {
      "text/plain": [
       "0.8461772049839107"
      ]
     },
     "execution_count": 87,
     "metadata": {},
     "output_type": "execute_result"
    }
   ],
   "source": [
    "roc_auc_score(y_test, result)"
   ]
  },
  {
   "cell_type": "code",
   "execution_count": 132,
   "metadata": {},
   "outputs": [],
   "source": [
    "feature_importances = pd.DataFrame(grid_drop.best_estimator_.feature_importances_,\n",
    "                                   index = X_train.columns,\n",
    "                                    columns=['importance']).sort_values('importance', ascending=False)"
   ]
  },
  {
   "cell_type": "code",
   "execution_count": 133,
   "metadata": {
    "collapsed": true
   },
   "outputs": [
    {
     "data": {
      "text/html": [
       "<div>\n",
       "<style scoped>\n",
       "    .dataframe tbody tr th:only-of-type {\n",
       "        vertical-align: middle;\n",
       "    }\n",
       "\n",
       "    .dataframe tbody tr th {\n",
       "        vertical-align: top;\n",
       "    }\n",
       "\n",
       "    .dataframe thead th {\n",
       "        text-align: right;\n",
       "    }\n",
       "</style>\n",
       "<table border=\"1\" class=\"dataframe\">\n",
       "  <thead>\n",
       "    <tr style=\"text-align: right;\">\n",
       "      <th></th>\n",
       "      <th>importance</th>\n",
       "    </tr>\n",
       "  </thead>\n",
       "  <tbody>\n",
       "    <tr>\n",
       "      <th>color_no_convercion</th>\n",
       "      <td>0.093372</td>\n",
       "    </tr>\n",
       "    <tr>\n",
       "      <th>search_engine</th>\n",
       "      <td>0.088687</td>\n",
       "    </tr>\n",
       "    <tr>\n",
       "      <th>nombre mas usado dia</th>\n",
       "      <td>0.088457</td>\n",
       "    </tr>\n",
       "    <tr>\n",
       "      <th>model_no_convercion</th>\n",
       "      <td>0.086945</td>\n",
       "    </tr>\n",
       "    <tr>\n",
       "      <th>condition_no_convercion</th>\n",
       "      <td>0.086425</td>\n",
       "    </tr>\n",
       "    <tr>\n",
       "      <th>ultimo_evento_registrado_cmode</th>\n",
       "      <td>0.083037</td>\n",
       "    </tr>\n",
       "    <tr>\n",
       "      <th>checkout</th>\n",
       "      <td>0.079305</td>\n",
       "    </tr>\n",
       "    <tr>\n",
       "      <th>viewed product</th>\n",
       "      <td>0.056703</td>\n",
       "    </tr>\n",
       "    <tr>\n",
       "      <th>numero mas usado dia</th>\n",
       "      <td>0.055616</td>\n",
       "    </tr>\n",
       "    <tr>\n",
       "      <th>brand listing</th>\n",
       "      <td>0.045071</td>\n",
       "    </tr>\n",
       "    <tr>\n",
       "      <th>visited site</th>\n",
       "      <td>0.038043</td>\n",
       "    </tr>\n",
       "    <tr>\n",
       "      <th>generic listing</th>\n",
       "      <td>0.037672</td>\n",
       "    </tr>\n",
       "    <tr>\n",
       "      <th>ad campaign hit</th>\n",
       "      <td>0.035580</td>\n",
       "    </tr>\n",
       "    <tr>\n",
       "      <th>searched products</th>\n",
       "      <td>0.030847</td>\n",
       "    </tr>\n",
       "    <tr>\n",
       "      <th>search engine hit</th>\n",
       "      <td>0.028048</td>\n",
       "    </tr>\n",
       "    <tr>\n",
       "      <th>storage_no_convercion</th>\n",
       "      <td>0.026124</td>\n",
       "    </tr>\n",
       "    <tr>\n",
       "      <th>conversion</th>\n",
       "      <td>0.013361</td>\n",
       "    </tr>\n",
       "    <tr>\n",
       "      <th>staticpage</th>\n",
       "      <td>0.010257</td>\n",
       "    </tr>\n",
       "    <tr>\n",
       "      <th>searched products_last</th>\n",
       "      <td>0.002934</td>\n",
       "    </tr>\n",
       "    <tr>\n",
       "      <th>lead_last</th>\n",
       "      <td>0.002251</td>\n",
       "    </tr>\n",
       "    <tr>\n",
       "      <th>generic listing_last</th>\n",
       "      <td>0.001775</td>\n",
       "    </tr>\n",
       "    <tr>\n",
       "      <th>checkout_last</th>\n",
       "      <td>0.001366</td>\n",
       "    </tr>\n",
       "    <tr>\n",
       "      <th>viewed product_last</th>\n",
       "      <td>0.001247</td>\n",
       "    </tr>\n",
       "    <tr>\n",
       "      <th>staticpage_last</th>\n",
       "      <td>0.001193</td>\n",
       "    </tr>\n",
       "    <tr>\n",
       "      <th>ad campaign hit_last</th>\n",
       "      <td>0.001165</td>\n",
       "    </tr>\n",
       "    <tr>\n",
       "      <th>brand listing_last</th>\n",
       "      <td>0.001090</td>\n",
       "    </tr>\n",
       "    <tr>\n",
       "      <th>lead</th>\n",
       "      <td>0.001031</td>\n",
       "    </tr>\n",
       "    <tr>\n",
       "      <th>conversion_last</th>\n",
       "      <td>0.000990</td>\n",
       "    </tr>\n",
       "    <tr>\n",
       "      <th>visited site_last</th>\n",
       "      <td>0.000847</td>\n",
       "    </tr>\n",
       "    <tr>\n",
       "      <th>search engine hit_last</th>\n",
       "      <td>0.000561</td>\n",
       "    </tr>\n",
       "  </tbody>\n",
       "</table>\n",
       "</div>"
      ],
      "text/plain": [
       "                                importance\n",
       "color_no_convercion               0.093372\n",
       "search_engine                     0.088687\n",
       "nombre mas usado dia              0.088457\n",
       "model_no_convercion               0.086945\n",
       "condition_no_convercion           0.086425\n",
       "ultimo_evento_registrado_cmode    0.083037\n",
       "checkout                          0.079305\n",
       "viewed product                    0.056703\n",
       "numero mas usado dia              0.055616\n",
       "brand listing                     0.045071\n",
       "visited site                      0.038043\n",
       "generic listing                   0.037672\n",
       "ad campaign hit                   0.035580\n",
       "searched products                 0.030847\n",
       "search engine hit                 0.028048\n",
       "storage_no_convercion             0.026124\n",
       "conversion                        0.013361\n",
       "staticpage                        0.010257\n",
       "searched products_last            0.002934\n",
       "lead_last                         0.002251\n",
       "generic listing_last              0.001775\n",
       "checkout_last                     0.001366\n",
       "viewed product_last               0.001247\n",
       "staticpage_last                   0.001193\n",
       "ad campaign hit_last              0.001165\n",
       "brand listing_last                0.001090\n",
       "lead                              0.001031\n",
       "conversion_last                   0.000990\n",
       "visited site_last                 0.000847\n",
       "search engine hit_last            0.000561"
      ]
     },
     "execution_count": 133,
     "metadata": {},
     "output_type": "execute_result"
    }
   ],
   "source": [
    "feature_importances"
   ]
  },
  {
   "cell_type": "code",
   "execution_count": null,
   "metadata": {},
   "outputs": [],
   "source": []
  },
  {
   "cell_type": "code",
   "execution_count": null,
   "metadata": {
    "scrolled": false
   },
   "outputs": [],
   "source": []
  },
  {
   "cell_type": "code",
   "execution_count": null,
   "metadata": {},
   "outputs": [],
   "source": []
  },
  {
   "cell_type": "markdown",
   "metadata": {},
   "source": [
    "# Gradient Boost\n",
    "# historial cambios tweaks | score \n",
    "\n",
    "columnas: \n",
    "'ad campaign hit', 'brand listing', 'checkout', 'generic listing',\n",
    "       'lead', 'search engine hit', 'searched products', 'staticpage',\n",
    "       'viewed product', 'visited site', 'level_0', 'storage_no_convercion',\n",
    "       'numero mas usado dia', 'condition_no_convercion2',\n",
    "       'color_no_convercion2', 'search_engine2', 'nombre mas usado dia2']\n",
    "\n",
    "\n",
    "cambio smootingbasado en: conversiones previas -> conversiones futuras\n",
    "\n",
    "agrego ultimo evento\n",
    "\n",
    "agrego dias hasta el 1/6\n",
    "\n",
    "test_size = 0.3\n",
    "cv = 20\n",
    "n_estimator 100 | .82 (Kaggle .815)\n",
    "\n",
    "\n",
    "agrego: ultimo dia de semana\n",
    "\n",
    "test_size = 0.3\n",
    "cv = 20\n",
    "n_estimator 100 | .820\n",
    "\n",
    "agrego: ultimo suceso de cada evento, rellenados con -1\n",
    "\n",
    "test_size = 0.3\n",
    "cv = 20\n",
    "n_estimator 100 | .824\n",
    "\n",
    "agrego: cantidad de dias utilizado\n",
    "\n",
    "test_size = 0.3\n",
    "cv = 20\n",
    "n_estimator 100 | .824\n",
    "\n"
   ]
  },
  {
   "cell_type": "code",
   "execution_count": 234,
   "metadata": {
    "collapsed": true
   },
   "outputs": [
    {
     "data": {
      "text/plain": [
       "{'alpha': 0.9,\n",
       " 'init': None,\n",
       " 'learning_rate': 0.1,\n",
       " 'loss': 'ls',\n",
       " 'max_depth': 3,\n",
       " 'max_features': None,\n",
       " 'max_leaf_nodes': None,\n",
       " 'min_samples_leaf': 1,\n",
       " 'min_samples_split': 2,\n",
       " 'min_weight_fraction_leaf': 0.0,\n",
       " 'n_estimators': 100,\n",
       " 'presort': 'auto',\n",
       " 'random_state': None,\n",
       " 'subsample': 1.0,\n",
       " 'verbose': 0,\n",
       " 'warm_start': False}"
      ]
     },
     "execution_count": 234,
     "metadata": {},
     "output_type": "execute_result"
    }
   ],
   "source": [
    "gradientboost = GradientBoostingRegressor(random_state = None)\n",
    "gradientboost.get_params()"
   ]
  },
  {
   "cell_type": "code",
   "execution_count": 238,
   "metadata": {},
   "outputs": [
    {
     "name": "stdout",
     "output_type": "stream",
     "text": [
      "{'max_features': 'auto', 'loss': 'ls', 'n_estimators': 30} 0.8732762272718239\n"
     ]
    }
   ],
   "source": [
    "param_grid= {'max_features': [\"auto\"], 'n_estimators': [30], 'loss': ['ls']}\n",
    "grid_drop = GridSearchCV(gradientboost, param_grid, cv=20, scoring='roc_auc')\n",
    "grid_drop.fit(X_train, y_train)\n",
    "print(grid_drop.best_params_, grid_drop.best_score_)\n",
    "\n",
    "#8652|866\n",
    "#8661|867\n",
    "#865"
   ]
  },
  {
   "cell_type": "code",
   "execution_count": 253,
   "metadata": {},
   "outputs": [],
   "source": [
    "result2 = grid_drop.best_estimator_.predict(X_test)"
   ]
  },
  {
   "cell_type": "code",
   "execution_count": 257,
   "metadata": {},
   "outputs": [],
   "source": [
    "result2 = result2 * 2"
   ]
  },
  {
   "cell_type": "code",
   "execution_count": 258,
   "metadata": {},
   "outputs": [
    {
     "data": {
      "text/plain": [
       "0.848497272482145"
      ]
     },
     "execution_count": 258,
     "metadata": {},
     "output_type": "execute_result"
    }
   ],
   "source": [
    "roc_auc_score(y_test, result2)"
   ]
  },
  {
   "cell_type": "code",
   "execution_count": 183,
   "metadata": {},
   "outputs": [
    {
     "ename": "NameError",
     "evalue": "name 'feature_importances' is not defined",
     "output_type": "error",
     "traceback": [
      "\u001b[0;31m---------------------------------------------------------------------------\u001b[0m",
      "\u001b[0;31mNameError\u001b[0m                                 Traceback (most recent call last)",
      "\u001b[0;32m<ipython-input-183-ecc92678a742>\u001b[0m in \u001b[0;36m<module>\u001b[0;34m()\u001b[0m\n\u001b[1;32m      2\u001b[0m                                    \u001b[0mindex\u001b[0m \u001b[0;34m=\u001b[0m \u001b[0mX_train\u001b[0m\u001b[0;34m.\u001b[0m\u001b[0mcolumns\u001b[0m\u001b[0;34m,\u001b[0m\u001b[0;34m\u001b[0m\u001b[0m\n\u001b[1;32m      3\u001b[0m                                     columns=['importance']).sort_values('importance', ascending=False)\n\u001b[0;32m----> 4\u001b[0;31m \u001b[0mfeature_importances\u001b[0m\u001b[0;34m\u001b[0m\u001b[0m\n\u001b[0m",
      "\u001b[0;31mNameError\u001b[0m: name 'feature_importances' is not defined"
     ]
    }
   ],
   "source": [
    "feature_importances2 = pd.DataFrame(grid_drop.best_estimator_.feature_importances_,\n",
    "                                   index = X_train.columns,\n",
    "                                    columns=['importance']).sort_values('importance', ascending=False)\n",
    "feature_importances"
   ]
  },
  {
   "cell_type": "markdown",
   "metadata": {},
   "source": [
    "# Summit\n",
    "\n"
   ]
  },
  {
   "cell_type": "code",
   "execution_count": 311,
   "metadata": {},
   "outputs": [],
   "source": [
    "to_pred = pd.read_csv(\"csv/trocafone_kaggle_test.csv\")\n",
    "features = pd.read_csv(\"features.csv\")"
   ]
  },
  {
   "cell_type": "code",
   "execution_count": 446,
   "metadata": {},
   "outputs": [],
   "source": []
  },
  {
   "cell_type": "code",
   "execution_count": null,
   "metadata": {},
   "outputs": [],
   "source": []
  },
  {
   "cell_type": "code",
   "execution_count": 312,
   "metadata": {},
   "outputs": [],
   "source": [
    "to_pred_completo = pd.merge(to_pred,test,on=\"person\",how = \"left\").dropna()"
   ]
  },
  {
   "cell_type": "code",
   "execution_count": 313,
   "metadata": {},
   "outputs": [],
   "source": [
    "to_pred_completo[\"label\"] = grid_drop.best_estimator_.predict(to_pred_completo.drop([\"person\"],axis = 1))"
   ]
  },
  {
   "cell_type": "code",
   "execution_count": 314,
   "metadata": {},
   "outputs": [],
   "source": [
    "to_pred = pd.merge(to_pred_completo[[\"person\",\"label\"]],to_pred,on=\"person\",how=\"right\")"
   ]
  },
  {
   "cell_type": "code",
   "execution_count": 315,
   "metadata": {},
   "outputs": [
    {
     "name": "stderr",
     "output_type": "stream",
     "text": [
      "/usr/local/lib/python3.5/dist-packages/pandas/core/indexing.py:194: SettingWithCopyWarning: \n",
      "A value is trying to be set on a copy of a slice from a DataFrame\n",
      "\n",
      "See the caveats in the documentation: http://pandas.pydata.org/pandas-docs/stable/indexing.html#indexing-view-versus-copy\n",
      "  self._setitem_with_indexer(indexer, value)\n"
     ]
    }
   ],
   "source": [
    "#to_pred[\"label\"] = to_pred[\"label\"].apply(richGetRicher)\n",
    "to_pred[\"label\"].loc[to_pred[\"label\"] < 0] = 0\n",
    "to_pred[\"label\"].loc[to_pred[\"label\"] > 1] = 1"
   ]
  },
  {
   "cell_type": "code",
   "execution_count": 316,
   "metadata": {},
   "outputs": [],
   "source": [
    "to_pred = to_pred.fillna(to_pred[\"label\"].median())"
   ]
  },
  {
   "cell_type": "code",
   "execution_count": 317,
   "metadata": {},
   "outputs": [],
   "source": [
    "to_pred.to_csv(\"sumit0.0\", index=False)"
   ]
  },
  {
   "cell_type": "code",
   "execution_count": 310,
   "metadata": {},
   "outputs": [],
   "source": [
    "def richGetRicher(x):\n",
    "    if(x > .2):\n",
    "        return x *10\n",
    "    else: return x"
   ]
  },
  {
   "cell_type": "code",
   "execution_count": null,
   "metadata": {},
   "outputs": [],
   "source": []
  },
  {
   "cell_type": "code",
   "execution_count": 411,
   "metadata": {},
   "outputs": [
    {
     "data": {
      "text/plain": [
       "5"
      ]
     },
     "execution_count": 411,
     "metadata": {},
     "output_type": "execute_result"
    }
   ],
   "source": []
  }
 ],
 "metadata": {
  "kernelspec": {
   "display_name": "Python 3",
   "language": "python",
   "name": "python3"
  }
 },
 "nbformat": 4,
 "nbformat_minor": 2
}
