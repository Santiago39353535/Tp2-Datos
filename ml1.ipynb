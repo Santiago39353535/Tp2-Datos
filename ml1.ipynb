{
 "cells": [
  {
   "cell_type": "code",
   "execution_count": 1,
   "metadata": {},
   "outputs": [
    {
     "name": "stderr",
     "output_type": "stream",
     "text": [
      "c:\\python27\\lib\\site-packages\\sklearn\\cross_validation.py:41: DeprecationWarning: This module was deprecated in version 0.18 in favor of the model_selection module into which all the refactored classes and functions are moved. Also note that the interface of the new CV iterators are different from that of this module. This module will be removed in 0.20.\n",
      "  \"This module will be removed in 0.20.\", DeprecationWarning)\n",
      "c:\\python27\\lib\\site-packages\\sklearn\\grid_search.py:42: DeprecationWarning: This module was deprecated in version 0.18 in favor of the model_selection module into which all the refactored classes and functions are moved. This module will be removed in 0.20.\n",
      "  DeprecationWarning)\n"
     ]
    }
   ],
   "source": [
    "import pandas as pd\n",
    "import numpy as np\n",
    "import matplotlib.pyplot as plt\n",
    "#import seaborn as sns\n",
    "%matplotlib inline\n",
    "\n",
    "from sklearn.cross_validation import train_test_split\n",
    "from sklearn.metrics import roc_auc_score\n",
    "from sklearn.metrics import mean_squared_error\n",
    "from sklearn.grid_search import GridSearchCV\n",
    "from sklearn.tree import DecisionTreeClassifier\n",
    "from sklearn.tree import DecisionTreeRegressor\n",
    "from sklearn.ensemble import RandomForestRegressor\n",
    "from sklearn.ensemble import RandomForestClassifier\n",
    "from sklearn.ensemble import GradientBoostingRegressor\n",
    "from sklearn.ensemble import AdaBoostRegressor\n",
    "from sklearn.ensemble import BaggingRegressor\n",
    "from sklearn.decomposition import TruncatedSVD\n",
    "from sklearn.pipeline import Pipeline\n",
    "from sklearn.linear_model import LogisticRegression\n",
    "import sklearn.cross_validation\n",
    "from sklearn.cross_validation import cross_val_score"
   ]
  },
  {
   "cell_type": "code",
   "execution_count": 2,
   "metadata": {},
   "outputs": [],
   "source": [
    "def setPred(col):\n",
    "    if(col > 0):\n",
    "        return 1\n",
    "    else:\n",
    "        return 0\n",
    "    \n",
    "def add_noise(series, noise_level):\n",
    "    return series * (1 + noise_level * np.random.randn(len(series)))\n",
    "\n",
    "def target_encode(trn_series=None, \n",
    "                  tst_series=None, \n",
    "                  target=None, \n",
    "                  min_samples_leaf=1, \n",
    "                  smoothing=1,\n",
    "                  noise_level=0):\n",
    "    \"\"\"\n",
    "    Smoothing is computed like in the following paper by Daniele Micci-Barreca\n",
    "    https://kaggle2.blob.core.windows.net/forum-message-attachments/225952/7441/high%20cardinality%20categoricals.pdf\n",
    "    trn_series : training categorical feature as a pd.Series\n",
    "    tst_series : test categorical feature as a pd.Series\n",
    "    target : target data as a pd.Series\n",
    "    min_samples_leaf (int) : minimum samples to take category average into account\n",
    "    smoothing (int) : smoothing effect to balance categorical average vs prior  \n",
    "    \"\"\" \n",
    "    assert len(trn_series) == len(target)\n",
    "    assert trn_series.name == tst_series.name\n",
    "    temp = pd.concat([trn_series, target], axis=1)\n",
    "    # Compute target mean \n",
    "    averages = temp.groupby(by=trn_series.name)[target.name].agg([\"mean\", \"count\"])\n",
    "    # Compute smoothing\n",
    "    smoothing = 1 / (1 + np.exp(-(averages[\"count\"] - min_samples_leaf) / smoothing))\n",
    "    # Apply average function to all target data\n",
    "    prior = target.mean()\n",
    "    # The bigger the count the less full_avg is taken into account\n",
    "    averages[target.name] = prior * (1 - smoothing) + averages[\"mean\"] * smoothing\n",
    "    averages.drop([\"mean\", \"count\"], axis=1, inplace=True)\n",
    "    # Apply averages to trn and tst series\n",
    "    ft_trn_series = pd.merge(\n",
    "        trn_series.to_frame(trn_series.name),\n",
    "        averages.reset_index().rename(columns={'index': target.name, target.name: 'average'}),\n",
    "        on=trn_series.name,\n",
    "        how='left')['average'].rename(trn_series.name + '_mean').fillna(prior)\n",
    "    # pd.merge does not keep the index so restore it\n",
    "    ft_trn_series.index = trn_series.index \n",
    "    ft_tst_series = pd.merge(\n",
    "        tst_series.to_frame(tst_series.name),\n",
    "        averages.reset_index().rename(columns={'index': target.name, target.name: 'average'}),\n",
    "        on=tst_series.name,\n",
    "        how='left')['average'].rename(trn_series.name + '_mean').fillna(prior)\n",
    "    # pd.merge does not keep the index so restore it\n",
    "    ft_tst_series.index = tst_series.index\n",
    "    return add_noise(ft_trn_series, noise_level), add_noise(ft_tst_series, noise_level)"
   ]
  },
  {
   "cell_type": "code",
   "execution_count": null,
   "metadata": {},
   "outputs": [],
   "source": []
  },
  {
   "cell_type": "markdown",
   "metadata": {},
   "source": [
    "# preparar/tweks datos "
   ]
  },
  {
   "cell_type": "code",
   "execution_count": 3,
   "metadata": {},
   "outputs": [],
   "source": [
    "features = pd.read_csv(\"features.csv\",low_memory = False)\n",
    "prediccion = pd.read_csv(\"csv/labels_training_set.csv\")"
   ]
  },
  {
   "cell_type": "code",
   "execution_count": 4,
   "metadata": {},
   "outputs": [],
   "source": [
    "#features = features.loc[features[\"conversion\"]<=5]"
   ]
  },
  {
   "cell_type": "code",
   "execution_count": 5,
   "metadata": {},
   "outputs": [],
   "source": [
    "#mergeo features y la info q nos tiran, lleno con 0 los q no se\n",
    "train = pd.merge(prediccion,features,on=\"person\",how= \"left\").dropna()"
   ]
  },
  {
   "cell_type": "code",
   "execution_count": 6,
   "metadata": {},
   "outputs": [],
   "source": [
    "prediccion = train[\"label\"]"
   ]
  },
  {
   "cell_type": "code",
   "execution_count": 7,
   "metadata": {},
   "outputs": [],
   "source": [
    "test = features.loc[~features[\"person\"].isin(train[\"person\"])]"
   ]
  },
  {
   "cell_type": "code",
   "execution_count": 8,
   "metadata": {},
   "outputs": [
    {
     "name": "stderr",
     "output_type": "stream",
     "text": [
      "c:\\python27\\lib\\site-packages\\ipykernel_launcher.py:3: SettingWithCopyWarning: \n",
      "A value is trying to be set on a copy of a slice from a DataFrame.\n",
      "Try using .loc[row_indexer,col_indexer] = value instead\n",
      "\n",
      "See the caveats in the documentation: http://pandas.pydata.org/pandas-docs/stable/indexing.html#indexing-view-versus-copy\n",
      "  This is separate from the ipykernel package so we can avoid doing imports until\n"
     ]
    }
   ],
   "source": [
    "listaDeCategoricos = [\"condition_no_convercion\",\"model_no_convercion\",\"color_no_convercion\",\"search_engine\"\\\n",
    "                      ,\"nombre mas usado dia\",\"ultimo_dia_de_la_semana_activo\",\"ultimo_evento_registrado_cmode\",\\\n",
    "                  'sistema_operativo','condition_last','condition_first','condition_med','new_ret_last','new_ret_first']\n",
    "for word in listaDeCategoricos:\n",
    "    train[word],test[word] =  target_encode(trn_series = train[word],  \\\n",
    "                                            tst_series = test[word],\\\n",
    "                                            target=prediccion, \\\n",
    "                                            min_samples_leaf=10,\\\n",
    "                                            smoothing=0.1,\\\n",
    "                                            noise_level=0.00)\n"
   ]
  },
  {
   "cell_type": "code",
   "execution_count": 9,
   "metadata": {},
   "outputs": [
    {
     "data": {
      "text/plain": [
       "Index([u'person', u'label', u'ad campaign hit', u'brand listing', u'checkout',\n",
       "       u'conversion', u'generic listing', u'lead', u'search engine hit',\n",
       "       u'searched products', u'staticpage', u'viewed product', u'visited site',\n",
       "       u'model_no_convercion', u'storage_no_convercion',\n",
       "       u'condition_no_convercion', u'color_no_convercion', u'search_engine',\n",
       "       u'numero mas usado dia', u'nombre mas usado dia',\n",
       "       u'ultimo_dia_de_la_semana_activo', u'ultimo_evento_registrado_cmode',\n",
       "       u'dias_hasta', u'viewed product_last', u'searched products_last',\n",
       "       u'ad campaign hit_last', u'staticpage_last', u'checkout_last',\n",
       "       u'search engine hit_last', u'conversion_last', u'generic listing_last',\n",
       "       u'brand listing_last', u'visited site_last', u'lead_last',\n",
       "       u'cantidad_de_dias_utilizado', u'media_dia_de_la_semana_no_convercion',\n",
       "       u'delta_ultimo_primer_dia_actividad',\n",
       "       u'delta_ultimo_anteulit_tiempo_actividad',\n",
       "       u'delta_primer_seg_tiempo_actividad', u'dTimeEveMax', u'dTimeEveMean0',\n",
       "       u'dTimeEveMean1', u'dHTimeEveMax', u'dHTimeEveMean1', u'dHTimeEveMean0',\n",
       "       u'Estado Bien', u'Estado Excelente', u'Estado Muy Bien',\n",
       "       u'Estado Nuevo', u'contador_visitas_ret_new', u'condition_last',\n",
       "       u'condition_first', u'condition_med', u'sistema_operativo',\n",
       "       u'new_ret_last', u'new_ret_first'],\n",
       "      dtype='object')"
      ]
     },
     "execution_count": 9,
     "metadata": {},
     "output_type": "execute_result"
    }
   ],
   "source": [
    "train.columns"
   ]
  },
  {
   "cell_type": "code",
   "execution_count": 10,
   "metadata": {},
   "outputs": [],
   "source": [
    "exclude = [\"ultimo_dia_de_la_semana_activo\",\"cantidad_de_dias_utilizado\", \\\n",
    "           \"media_dia_de_la_semana_no_convercion\",  \"storage_no_convercion\",\\\n",
    "            \"generic listing\", 'Estado Excelente','Estado Bien','Estado Muy Bien','Estado Nuevo',\\\n",
    "           \"visited site\",\"dias_hasta\",\"staticpage\",\\\n",
    "          \"dTimeEveMean0\",\"dHTimeEveMean0\",\"dTimeEveMax\",\"search engine hit_last\",\"search engine hit\",\\\n",
    "           \"searched products_last\",'new_ret_first', 'condition_first', 'new_ret_last']\n",
    "train = train.drop(exclude,axis = 1)\n",
    "test = test.drop(exclude,axis = 1)\n",
    "#"
   ]
  },
  {
   "cell_type": "code",
   "execution_count": 11,
   "metadata": {},
   "outputs": [
    {
     "data": {
      "text/plain": [
       "(19126L,)"
      ]
     },
     "execution_count": 11,
     "metadata": {},
     "output_type": "execute_result"
    }
   ],
   "source": [
    "prediccion.shape"
   ]
  },
  {
   "cell_type": "code",
   "execution_count": 12,
   "metadata": {},
   "outputs": [],
   "source": [
    "train = train.drop([\"person\",\"label\"],axis = 1)"
   ]
  },
  {
   "cell_type": "code",
   "execution_count": 13,
   "metadata": {},
   "outputs": [],
   "source": [
    "for word in features.columns:\n",
    "    features[word] = pd.to_numeric(features[word],errors = \"coerce\")"
   ]
  },
  {
   "cell_type": "code",
   "execution_count": 14,
   "metadata": {},
   "outputs": [],
   "source": [
    "\n",
    "X_train, X_test, y_train, y_test = train_test_split(train, prediccion, test_size=0.30, random_state=41)"
   ]
  },
  {
   "cell_type": "markdown",
   "metadata": {},
   "source": [
    "# Random Forest\n",
    "# historial cambios tweaks | score\n",
    "\n",
    "columnas: \n",
    "'ad campaign hit', 'brand listing', 'checkout', 'generic listing',\n",
    "       'lead', 'search engine hit', 'searched products', 'staticpage',\n",
    "       'viewed product', 'visited site', 'level_0', 'storage_no_convercion',\n",
    "       'numero mas usado dia', 'condition_no_convercion2',\n",
    "       'color_no_convercion2', 'search_engine2', 'nombre mas usado dia2']\n",
    "       \n",
    "features contraproductivos:\n",
    "    cantidad de dias utilizado, hora/mes/dia ultimo evento, ultimo dia de la semana activo\n",
    "\n",
    "test_size = 0.3\n",
    "cv = 20\n",
    "n_estimator 50 | .78 (Kaggle .76)\n",
    "n_estimator 100 | .79 \n",
    "\n",
    "cambio smootingbasado en: conversiones previas -> conversiones futuras\n",
    "\n",
    "test_size = 0.3\n",
    "cv = 20\n",
    "n_estimator 100 | .80 (Kaggle .78)\n",
    "\n",
    "agrego ultimo evento\n",
    "\n",
    "test_size = 0.3\n",
    "cv = 20\n",
    "n_estimator 100 | .793\n",
    "\n",
    "\n",
    "agrego: ultimo dias hasta el 1/6,suceso de cada evento, rellenados con -1\n",
    "\n",
    "test_size = 0.3\n",
    "cv = 20\n",
    "n_estimator 100 | .798\n",
    "\n",
    "agrego: ultimo dia de la semana activo\n",
    "\n",
    "test_size = 0.3\n",
    "cv = 20\n",
    "n_estimator 100 | .798\n",
    "\n",
    "cambio relleno de cantidad de veces de cada evento -1 -> mediana\n",
    "agrego  'delta_ultimo_primer_dia_actividad',\n",
    "       'delta_ultimo_anteulit_tiempo_actividad',\n",
    "       'delta_primer_seg_tiempo_actividad',\n",
    "       'dTimeEve\n",
    "\n",
    "test_size = 0.3\n",
    "cv = 20\n",
    "n_estimator 100 | .832\n",
    "\n",
    "\n",
    "\n",
    "https://www.youtube.com/watch?v=BSUMBBFjxrY"
   ]
  },
  {
   "cell_type": "code",
   "execution_count": 47,
   "metadata": {},
   "outputs": [
    {
     "data": {
      "text/plain": [
       "{'bootstrap': True,\n",
       " 'criterion': 'mse',\n",
       " 'max_depth': None,\n",
       " 'max_features': 'auto',\n",
       " 'max_leaf_nodes': None,\n",
       " 'min_impurity_decrease': 0.0,\n",
       " 'min_impurity_split': None,\n",
       " 'min_samples_leaf': 1,\n",
       " 'min_samples_split': 2,\n",
       " 'min_weight_fraction_leaf': 0.0,\n",
       " 'n_estimators': 10,\n",
       " 'n_jobs': -1,\n",
       " 'oob_score': False,\n",
       " 'random_state': None,\n",
       " 'verbose': 0,\n",
       " 'warm_start': False}"
      ]
     },
     "execution_count": 47,
     "metadata": {},
     "output_type": "execute_result"
    }
   ],
   "source": [
    "# probar clasificacion\n",
    "randomforesttree = RandomForestRegressor(random_state = None, n_jobs=-1)\n",
    "randomforesttree.get_params()"
   ]
  },
  {
   "cell_type": "code",
   "execution_count": 48,
   "metadata": {},
   "outputs": [
    {
     "name": "stdout",
     "output_type": "stream",
     "text": [
      "{'max_features': 'auto', 'criterion': 'mse', 'n_estimators': 100} 0.8323142053840852\n"
     ]
    }
   ],
   "source": [
    "#\n",
    "param_grid= {'max_features': [\"auto\"], 'n_estimators': [100], 'criterion': ['mse']}\n",
    "grid_drop = GridSearchCV(randomforesttree, param_grid, cv=20, scoring='roc_auc',n_jobs = -1,pre_dispatch = 4)\n",
    "grid_drop.fit(X_train, y_train)\n",
    "print(grid_drop.best_params_, grid_drop.best_score_)"
   ]
  },
  {
   "cell_type": "code",
   "execution_count": 49,
   "metadata": {},
   "outputs": [],
   "source": [
    "result = grid_drop.best_estimator_.predict(X_test)"
   ]
  },
  {
   "cell_type": "code",
   "execution_count": 50,
   "metadata": {},
   "outputs": [
    {
     "data": {
      "text/plain": [
       "0.8313608030146638"
      ]
     },
     "execution_count": 50,
     "metadata": {},
     "output_type": "execute_result"
    }
   ],
   "source": [
    "roc_auc_score(y_test, result)"
   ]
  },
  {
   "cell_type": "code",
   "execution_count": 51,
   "metadata": {},
   "outputs": [],
   "source": [
    "feature_importances = pd.DataFrame(grid_drop.best_estimator_.feature_importances_,\n",
    "                                   index = X_train.columns,\n",
    "                                    columns=['importance']).sort_values('importance', ascending=False)"
   ]
  },
  {
   "cell_type": "code",
   "execution_count": 52,
   "metadata": {},
   "outputs": [
    {
     "data": {
      "text/html": [
       "<div>\n",
       "<style scoped>\n",
       "    .dataframe tbody tr th:only-of-type {\n",
       "        vertical-align: middle;\n",
       "    }\n",
       "\n",
       "    .dataframe tbody tr th {\n",
       "        vertical-align: top;\n",
       "    }\n",
       "\n",
       "    .dataframe thead th {\n",
       "        text-align: right;\n",
       "    }\n",
       "</style>\n",
       "<table border=\"1\" class=\"dataframe\">\n",
       "  <thead>\n",
       "    <tr style=\"text-align: right;\">\n",
       "      <th></th>\n",
       "      <th>importance</th>\n",
       "    </tr>\n",
       "  </thead>\n",
       "  <tbody>\n",
       "    <tr>\n",
       "      <th>dHTimeEveMax</th>\n",
       "      <td>0.079809</td>\n",
       "    </tr>\n",
       "    <tr>\n",
       "      <th>checkout</th>\n",
       "      <td>0.078849</td>\n",
       "    </tr>\n",
       "    <tr>\n",
       "      <th>dHTimeEveMean1</th>\n",
       "      <td>0.059754</td>\n",
       "    </tr>\n",
       "    <tr>\n",
       "      <th>viewed product</th>\n",
       "      <td>0.059311</td>\n",
       "    </tr>\n",
       "    <tr>\n",
       "      <th>numero mas usado dia</th>\n",
       "      <td>0.056900</td>\n",
       "    </tr>\n",
       "    <tr>\n",
       "      <th>checkout_last</th>\n",
       "      <td>0.055070</td>\n",
       "    </tr>\n",
       "    <tr>\n",
       "      <th>dTimeEveMean1</th>\n",
       "      <td>0.048520</td>\n",
       "    </tr>\n",
       "    <tr>\n",
       "      <th>brand listing</th>\n",
       "      <td>0.045782</td>\n",
       "    </tr>\n",
       "    <tr>\n",
       "      <th>ultimo_evento_registrado_cmode</th>\n",
       "      <td>0.042356</td>\n",
       "    </tr>\n",
       "    <tr>\n",
       "      <th>ad campaign hit</th>\n",
       "      <td>0.042268</td>\n",
       "    </tr>\n",
       "    <tr>\n",
       "      <th>ad campaign hit_last</th>\n",
       "      <td>0.038348</td>\n",
       "    </tr>\n",
       "    <tr>\n",
       "      <th>searched products</th>\n",
       "      <td>0.036352</td>\n",
       "    </tr>\n",
       "    <tr>\n",
       "      <th>generic listing_last</th>\n",
       "      <td>0.035136</td>\n",
       "    </tr>\n",
       "    <tr>\n",
       "      <th>brand listing_last</th>\n",
       "      <td>0.034275</td>\n",
       "    </tr>\n",
       "    <tr>\n",
       "      <th>viewed product_last</th>\n",
       "      <td>0.033868</td>\n",
       "    </tr>\n",
       "    <tr>\n",
       "      <th>delta_ultimo_primer_dia_actividad</th>\n",
       "      <td>0.031653</td>\n",
       "    </tr>\n",
       "    <tr>\n",
       "      <th>nombre mas usado dia</th>\n",
       "      <td>0.030689</td>\n",
       "    </tr>\n",
       "    <tr>\n",
       "      <th>contador_visitas_ret_new</th>\n",
       "      <td>0.030422</td>\n",
       "    </tr>\n",
       "    <tr>\n",
       "      <th>visited site_last</th>\n",
       "      <td>0.027588</td>\n",
       "    </tr>\n",
       "    <tr>\n",
       "      <th>conversion_last</th>\n",
       "      <td>0.019888</td>\n",
       "    </tr>\n",
       "    <tr>\n",
       "      <th>model_no_convercion</th>\n",
       "      <td>0.016710</td>\n",
       "    </tr>\n",
       "    <tr>\n",
       "      <th>condition_med</th>\n",
       "      <td>0.016671</td>\n",
       "    </tr>\n",
       "    <tr>\n",
       "      <th>color_no_convercion</th>\n",
       "      <td>0.016628</td>\n",
       "    </tr>\n",
       "    <tr>\n",
       "      <th>condition_last</th>\n",
       "      <td>0.016589</td>\n",
       "    </tr>\n",
       "    <tr>\n",
       "      <th>staticpage_last</th>\n",
       "      <td>0.014276</td>\n",
       "    </tr>\n",
       "    <tr>\n",
       "      <th>conversion</th>\n",
       "      <td>0.010697</td>\n",
       "    </tr>\n",
       "    <tr>\n",
       "      <th>condition_no_convercion</th>\n",
       "      <td>0.005356</td>\n",
       "    </tr>\n",
       "    <tr>\n",
       "      <th>delta_primer_seg_tiempo_actividad</th>\n",
       "      <td>0.004637</td>\n",
       "    </tr>\n",
       "    <tr>\n",
       "      <th>lead_last</th>\n",
       "      <td>0.003695</td>\n",
       "    </tr>\n",
       "    <tr>\n",
       "      <th>delta_ultimo_anteulit_tiempo_actividad</th>\n",
       "      <td>0.003694</td>\n",
       "    </tr>\n",
       "    <tr>\n",
       "      <th>lead</th>\n",
       "      <td>0.002791</td>\n",
       "    </tr>\n",
       "    <tr>\n",
       "      <th>sistema_operativo</th>\n",
       "      <td>0.001372</td>\n",
       "    </tr>\n",
       "    <tr>\n",
       "      <th>search_engine</th>\n",
       "      <td>0.000045</td>\n",
       "    </tr>\n",
       "  </tbody>\n",
       "</table>\n",
       "</div>"
      ],
      "text/plain": [
       "                                        importance\n",
       "dHTimeEveMax                              0.079809\n",
       "checkout                                  0.078849\n",
       "dHTimeEveMean1                            0.059754\n",
       "viewed product                            0.059311\n",
       "numero mas usado dia                      0.056900\n",
       "checkout_last                             0.055070\n",
       "dTimeEveMean1                             0.048520\n",
       "brand listing                             0.045782\n",
       "ultimo_evento_registrado_cmode            0.042356\n",
       "ad campaign hit                           0.042268\n",
       "ad campaign hit_last                      0.038348\n",
       "searched products                         0.036352\n",
       "generic listing_last                      0.035136\n",
       "brand listing_last                        0.034275\n",
       "viewed product_last                       0.033868\n",
       "delta_ultimo_primer_dia_actividad         0.031653\n",
       "nombre mas usado dia                      0.030689\n",
       "contador_visitas_ret_new                  0.030422\n",
       "visited site_last                         0.027588\n",
       "conversion_last                           0.019888\n",
       "model_no_convercion                       0.016710\n",
       "condition_med                             0.016671\n",
       "color_no_convercion                       0.016628\n",
       "condition_last                            0.016589\n",
       "staticpage_last                           0.014276\n",
       "conversion                                0.010697\n",
       "condition_no_convercion                   0.005356\n",
       "delta_primer_seg_tiempo_actividad         0.004637\n",
       "lead_last                                 0.003695\n",
       "delta_ultimo_anteulit_tiempo_actividad    0.003694\n",
       "lead                                      0.002791\n",
       "sistema_operativo                         0.001372\n",
       "search_engine                             0.000045"
      ]
     },
     "execution_count": 52,
     "metadata": {},
     "output_type": "execute_result"
    }
   ],
   "source": [
    "feature_importances"
   ]
  },
  {
   "cell_type": "code",
   "execution_count": null,
   "metadata": {},
   "outputs": [],
   "source": []
  },
  {
   "cell_type": "code",
   "execution_count": null,
   "metadata": {
    "scrolled": false
   },
   "outputs": [],
   "source": []
  },
  {
   "cell_type": "code",
   "execution_count": null,
   "metadata": {},
   "outputs": [],
   "source": []
  },
  {
   "cell_type": "markdown",
   "metadata": {},
   "source": [
    "# Gradient Boost\n",
    "# historial cambios tweaks | score \n",
    "\n",
    "columnas: \n",
    "'ad campaign hit', 'brand listing', 'checkout', 'generic listing',\n",
    "       'lead', 'search engine hit', 'searched products', 'staticpage',\n",
    "       'viewed product', 'visited site', 'level_0', 'storage_no_convercion',\n",
    "       'numero mas usado dia', 'condition_no_convercion2',\n",
    "       'color_no_convercion2', 'search_engine2', 'nombre mas usado dia2']\n",
    "\n",
    "\n",
    "cambio smootingbasado en: conversiones previas -> conversiones futuras\n",
    "\n",
    "agrego ultimo evento\n",
    "\n",
    "agrego dias hasta el 1/6\n",
    "\n",
    "test_size = 0.3\n",
    "cv = 20\n",
    "n_estimator 100 | .82 (Kaggle .815)\n",
    "\n",
    "\n",
    "agrego: ultimo dia de semana\n",
    "\n",
    "test_size = 0.3\n",
    "cv = 20\n",
    "n_estimator 100 | .820\n",
    "\n",
    "agrego: ultimo suceso de cada evento, rellenados con -1\n",
    "\n",
    "test_size = 0.3\n",
    "cv = 20\n",
    "n_estimator 100 | .824\n",
    "\n",
    "agrego: cantidad de dias utilizado\n",
    "\n",
    "test_size = 0.3\n",
    "cv = 20\n",
    "n_estimator 100 | .824\n",
    "\n"
   ]
  },
  {
   "cell_type": "code",
   "execution_count": 52,
   "metadata": {},
   "outputs": [
    {
     "data": {
      "text/plain": [
       "{'alpha': 0.9,\n",
       " 'criterion': 'friedman_mse',\n",
       " 'init': None,\n",
       " 'learning_rate': 0.1,\n",
       " 'loss': 'ls',\n",
       " 'max_depth': 3,\n",
       " 'max_features': None,\n",
       " 'max_leaf_nodes': None,\n",
       " 'min_impurity_decrease': 0.0,\n",
       " 'min_impurity_split': None,\n",
       " 'min_samples_leaf': 1,\n",
       " 'min_samples_split': 2,\n",
       " 'min_weight_fraction_leaf': 0.0,\n",
       " 'n_estimators': 100,\n",
       " 'presort': 'auto',\n",
       " 'random_state': None,\n",
       " 'subsample': 1.0,\n",
       " 'verbose': 0,\n",
       " 'warm_start': False}"
      ]
     },
     "execution_count": 52,
     "metadata": {},
     "output_type": "execute_result"
    }
   ],
   "source": [
    "gradientboost = GradientBoostingRegressor(random_state = None)\n",
    "gradientboost.get_params()"
   ]
  },
  {
   "cell_type": "markdown",
   "metadata": {},
   "source": [
    "busco mejores hiper-parametros mintras cambio el cv"
   ]
  },
  {
   "cell_type": "code",
   "execution_count": 72,
   "metadata": {},
   "outputs": [
    {
     "name": "stdout",
     "output_type": "stream",
     "text": [
      "({'max_features': 'auto', 'loss': 'ls', 'n_estimators': 40}, 0.8565313413746177)\n",
      "('score de la iteracion: ', 1, ' ', 0.86340479944725568)\n",
      "({'max_features': 'auto', 'loss': 'ls', 'n_estimators': 40}, 0.8577753181925692)\n",
      "('score de la iteracion: ', 2, ' ', 0.86341319617085399)\n",
      "({'max_features': 'auto', 'loss': 'ls', 'n_estimators': 50}, 0.856673121967796)\n",
      "('score de la iteracion: ', 3, ' ', 0.85961038002971246)\n",
      "({'max_features': 'auto', 'loss': 'ls', 'n_estimators': 40}, 0.8589067299612458)\n",
      "('score de la iteracion: ', 4, ' ', 0.8634761715978424)\n",
      "({'max_features': 'auto', 'loss': 'ls', 'n_estimators': 40}, 0.8570184085694112)\n",
      "('score de la iteracion: ', 5, ' ', 0.86329024414673405)\n",
      "({'max_features': 'auto', 'loss': 'ls', 'n_estimators': 40}, 0.8556817266832846)\n",
      "('score de la iteracion: ', 6, ' ', 0.86336101653134956)\n",
      "({'max_features': 'auto', 'loss': 'ls', 'n_estimators': 20}, 0.8583536846956211)\n",
      "('score de la iteracion: ', 7, ' ', 0.86121775283284463)\n",
      "({'max_features': 'auto', 'loss': 'ls', 'n_estimators': 40}, 0.8560737679831789)\n",
      "('score de la iteracion: ', 8, ' ', 0.86335741793552156)\n",
      "({'max_features': 'auto', 'loss': 'ls', 'n_estimators': 40}, 0.8576650494667409)\n",
      "('score de la iteracion: ', 9, ' ', 0.8634287900861084)\n",
      "({'max_features': 'auto', 'loss': 'ls', 'n_estimators': 40}, 0.8542093929646879)\n",
      "('score de la iteracion: ', 10, ' ', 0.86345517978884656)\n",
      "({'max_features': 'auto', 'loss': 'ls', 'n_estimators': 50}, 0.8519734811378511)\n",
      "('score de la iteracion: ', 11, ' ', 0.85968115241432796)\n",
      "({'max_features': 'auto', 'loss': 'ls', 'n_estimators': 30}, 0.853371277978007)\n",
      "('score de la iteracion: ', 12, ' ', 0.86279993546518141)\n",
      "({'max_features': 'auto', 'loss': 'ls', 'n_estimators': 25}, 0.8491009221147003)\n",
      "('score de la iteracion: ', 13, ' ', 0.86007609830644083)\n",
      "({'max_features': 'auto', 'loss': 'ls', 'n_estimators': 25}, 0.8530881574585945)\n",
      "('score de la iteracion: ', 14, ' ', 0.86007609830644072)\n"
     ]
    }
   ],
   "source": [
    "for i in range(1,15):\n",
    "    cv = i*10\n",
    "    param_grid= {'max_features': [\"auto\"], 'n_estimators': [10,20,25,30,40,50,100], 'loss': ['ls']}\n",
    "    grid_drop = GridSearchCV(gradientboost, param_grid, cv=cv, scoring='roc_auc')\n",
    "    grid_drop.fit(X_train, y_train)\n",
    "    print(grid_drop.best_params_, grid_drop.best_score_)\n",
    "    result2 = grid_drop.best_estimator_.predict(X_test)\n",
    "    print(\"score de la iteracion: \",i,\" \",roc_auc_score(y_test, result2))"
   ]
  },
  {
   "cell_type": "markdown",
   "metadata": {},
   "source": [
    "busqueda con los hiper-parametros encontrados"
   ]
  },
  {
   "cell_type": "code",
   "execution_count": 74,
   "metadata": {},
   "outputs": [
    {
     "name": "stdout",
     "output_type": "stream",
     "text": [
      "({'max_features': 'auto', 'loss': 'ls', 'n_estimators': 40}, 0.856007904770962)\n"
     ]
    }
   ],
   "source": [
    "param_grid= {'max_features': [\"auto\"], 'n_estimators': [40], 'loss': ['ls']}\n",
    "grid_drop = GridSearchCV(gradientboost, param_grid, cv=80, scoring='roc_auc')\n",
    "grid_drop.fit(X_train, y_train)\n",
    "print(grid_drop.best_params_, grid_drop.best_score_)"
   ]
  },
  {
   "cell_type": "code",
   "execution_count": 75,
   "metadata": {},
   "outputs": [],
   "source": [
    "result2 = grid_drop.best_estimator_.predict(X_test)"
   ]
  },
  {
   "cell_type": "code",
   "execution_count": null,
   "metadata": {},
   "outputs": [],
   "source": []
  },
  {
   "cell_type": "code",
   "execution_count": 76,
   "metadata": {},
   "outputs": [
    {
     "data": {
      "text/plain": [
       "0.8633580177014929"
      ]
     },
     "execution_count": 76,
     "metadata": {},
     "output_type": "execute_result"
    }
   ],
   "source": [
    "roc_auc_score(y_test, result2)"
   ]
  },
  {
   "cell_type": "code",
   "execution_count": 56,
   "metadata": {},
   "outputs": [
    {
     "data": {
      "text/html": [
       "<div>\n",
       "<style scoped>\n",
       "    .dataframe tbody tr th:only-of-type {\n",
       "        vertical-align: middle;\n",
       "    }\n",
       "\n",
       "    .dataframe tbody tr th {\n",
       "        vertical-align: top;\n",
       "    }\n",
       "\n",
       "    .dataframe thead th {\n",
       "        text-align: right;\n",
       "    }\n",
       "</style>\n",
       "<table border=\"1\" class=\"dataframe\">\n",
       "  <thead>\n",
       "    <tr style=\"text-align: right;\">\n",
       "      <th></th>\n",
       "      <th>importance</th>\n",
       "    </tr>\n",
       "  </thead>\n",
       "  <tbody>\n",
       "    <tr>\n",
       "      <th>checkout</th>\n",
       "      <td>0.242669</td>\n",
       "    </tr>\n",
       "    <tr>\n",
       "      <th>checkout_last</th>\n",
       "      <td>0.165587</td>\n",
       "    </tr>\n",
       "    <tr>\n",
       "      <th>ultimo_evento_registrado_cmode</th>\n",
       "      <td>0.064841</td>\n",
       "    </tr>\n",
       "    <tr>\n",
       "      <th>brand listing</th>\n",
       "      <td>0.055406</td>\n",
       "    </tr>\n",
       "    <tr>\n",
       "      <th>viewed product_last</th>\n",
       "      <td>0.050763</td>\n",
       "    </tr>\n",
       "    <tr>\n",
       "      <th>viewed product</th>\n",
       "      <td>0.046170</td>\n",
       "    </tr>\n",
       "    <tr>\n",
       "      <th>conversion_last</th>\n",
       "      <td>0.043289</td>\n",
       "    </tr>\n",
       "    <tr>\n",
       "      <th>dHTimeEveMax</th>\n",
       "      <td>0.036533</td>\n",
       "    </tr>\n",
       "    <tr>\n",
       "      <th>dHTimeEveMean1</th>\n",
       "      <td>0.034571</td>\n",
       "    </tr>\n",
       "    <tr>\n",
       "      <th>conversion</th>\n",
       "      <td>0.031594</td>\n",
       "    </tr>\n",
       "    <tr>\n",
       "      <th>staticpage_last</th>\n",
       "      <td>0.029807</td>\n",
       "    </tr>\n",
       "    <tr>\n",
       "      <th>ad campaign hit</th>\n",
       "      <td>0.025662</td>\n",
       "    </tr>\n",
       "    <tr>\n",
       "      <th>model_no_convercion</th>\n",
       "      <td>0.025469</td>\n",
       "    </tr>\n",
       "    <tr>\n",
       "      <th>generic listing_last</th>\n",
       "      <td>0.021296</td>\n",
       "    </tr>\n",
       "    <tr>\n",
       "      <th>delta_primer_seg_tiempo_actividad</th>\n",
       "      <td>0.019775</td>\n",
       "    </tr>\n",
       "    <tr>\n",
       "      <th>numero mas usado dia</th>\n",
       "      <td>0.014669</td>\n",
       "    </tr>\n",
       "    <tr>\n",
       "      <th>searched products</th>\n",
       "      <td>0.014647</td>\n",
       "    </tr>\n",
       "    <tr>\n",
       "      <th>dTimeEveMean1</th>\n",
       "      <td>0.013201</td>\n",
       "    </tr>\n",
       "    <tr>\n",
       "      <th>delta_ultimo_primer_dia_actividad</th>\n",
       "      <td>0.011940</td>\n",
       "    </tr>\n",
       "    <tr>\n",
       "      <th>visited site_last</th>\n",
       "      <td>0.010468</td>\n",
       "    </tr>\n",
       "    <tr>\n",
       "      <th>delta_ultimo_anteulit_tiempo_actividad</th>\n",
       "      <td>0.010125</td>\n",
       "    </tr>\n",
       "    <tr>\n",
       "      <th>condition_last</th>\n",
       "      <td>0.007132</td>\n",
       "    </tr>\n",
       "    <tr>\n",
       "      <th>color_no_convercion</th>\n",
       "      <td>0.006691</td>\n",
       "    </tr>\n",
       "    <tr>\n",
       "      <th>lead_last</th>\n",
       "      <td>0.005017</td>\n",
       "    </tr>\n",
       "    <tr>\n",
       "      <th>contador_visitas_ret_new</th>\n",
       "      <td>0.004977</td>\n",
       "    </tr>\n",
       "    <tr>\n",
       "      <th>ad campaign hit_last</th>\n",
       "      <td>0.004371</td>\n",
       "    </tr>\n",
       "    <tr>\n",
       "      <th>lead</th>\n",
       "      <td>0.002730</td>\n",
       "    </tr>\n",
       "    <tr>\n",
       "      <th>condition_med</th>\n",
       "      <td>0.000349</td>\n",
       "    </tr>\n",
       "    <tr>\n",
       "      <th>brand listing_last</th>\n",
       "      <td>0.000251</td>\n",
       "    </tr>\n",
       "    <tr>\n",
       "      <th>nombre mas usado dia</th>\n",
       "      <td>0.000000</td>\n",
       "    </tr>\n",
       "    <tr>\n",
       "      <th>condition_no_convercion</th>\n",
       "      <td>0.000000</td>\n",
       "    </tr>\n",
       "    <tr>\n",
       "      <th>search_engine</th>\n",
       "      <td>0.000000</td>\n",
       "    </tr>\n",
       "    <tr>\n",
       "      <th>sistema_operativo</th>\n",
       "      <td>0.000000</td>\n",
       "    </tr>\n",
       "  </tbody>\n",
       "</table>\n",
       "</div>"
      ],
      "text/plain": [
       "                                        importance\n",
       "checkout                                  0.242669\n",
       "checkout_last                             0.165587\n",
       "ultimo_evento_registrado_cmode            0.064841\n",
       "brand listing                             0.055406\n",
       "viewed product_last                       0.050763\n",
       "viewed product                            0.046170\n",
       "conversion_last                           0.043289\n",
       "dHTimeEveMax                              0.036533\n",
       "dHTimeEveMean1                            0.034571\n",
       "conversion                                0.031594\n",
       "staticpage_last                           0.029807\n",
       "ad campaign hit                           0.025662\n",
       "model_no_convercion                       0.025469\n",
       "generic listing_last                      0.021296\n",
       "delta_primer_seg_tiempo_actividad         0.019775\n",
       "numero mas usado dia                      0.014669\n",
       "searched products                         0.014647\n",
       "dTimeEveMean1                             0.013201\n",
       "delta_ultimo_primer_dia_actividad         0.011940\n",
       "visited site_last                         0.010468\n",
       "delta_ultimo_anteulit_tiempo_actividad    0.010125\n",
       "condition_last                            0.007132\n",
       "color_no_convercion                       0.006691\n",
       "lead_last                                 0.005017\n",
       "contador_visitas_ret_new                  0.004977\n",
       "ad campaign hit_last                      0.004371\n",
       "lead                                      0.002730\n",
       "condition_med                             0.000349\n",
       "brand listing_last                        0.000251\n",
       "nombre mas usado dia                      0.000000\n",
       "condition_no_convercion                   0.000000\n",
       "search_engine                             0.000000\n",
       "sistema_operativo                         0.000000"
      ]
     },
     "execution_count": 56,
     "metadata": {},
     "output_type": "execute_result"
    }
   ],
   "source": [
    "feature_importances2 = pd.DataFrame(grid_drop.best_estimator_.feature_importances_,\n",
    "                                   index = X_train.columns,\n",
    "                                    columns=['importance']).sort_values('importance', ascending=False)\n",
    "feature_importances2"
   ]
  },
  {
   "cell_type": "code",
   "execution_count": null,
   "metadata": {},
   "outputs": [],
   "source": []
  },
  {
   "cell_type": "markdown",
   "metadata": {},
   "source": [
    "# Bagging"
   ]
  },
  {
   "cell_type": "code",
   "execution_count": 40,
   "metadata": {},
   "outputs": [],
   "source": [
    "rng = sklearn.utils.check_random_state(0)\n",
    "ensemble = BaggingRegressor(base_estimator=RandomForestRegressor(),\n",
    "                                n_estimators = 800,\n",
    "                                max_samples=0.9,\n",
    "                                bootstrap=True,\n",
    "                                random_state=rng).fit(X_train, y_train)"
   ]
  },
  {
   "cell_type": "code",
   "execution_count": 41,
   "metadata": {},
   "outputs": [],
   "source": [
    "result2 = ensemble.predict(X_test)"
   ]
  },
  {
   "cell_type": "code",
   "execution_count": 42,
   "metadata": {},
   "outputs": [
    {
     "data": {
      "text/plain": [
       "0.85234541481913761"
      ]
     },
     "execution_count": 42,
     "metadata": {},
     "output_type": "execute_result"
    }
   ],
   "source": [
    "roc_auc_score(y_test, result2)"
   ]
  },
  {
   "cell_type": "code",
   "execution_count": null,
   "metadata": {},
   "outputs": [],
   "source": []
  },
  {
   "cell_type": "markdown",
   "metadata": {},
   "source": [
    "# Summit\n",
    "\n"
   ]
  },
  {
   "cell_type": "code",
   "execution_count": 77,
   "metadata": {},
   "outputs": [],
   "source": [
    "to_pred = pd.read_csv(\"csv/trocafone_kaggle_test.csv\")\n",
    "features = pd.read_csv(\"features.csv\")"
   ]
  },
  {
   "cell_type": "code",
   "execution_count": null,
   "metadata": {},
   "outputs": [],
   "source": []
  },
  {
   "cell_type": "code",
   "execution_count": null,
   "metadata": {},
   "outputs": [],
   "source": []
  },
  {
   "cell_type": "code",
   "execution_count": 78,
   "metadata": {},
   "outputs": [],
   "source": [
    "to_pred_completo = pd.merge(to_pred,test,on=\"person\",how = \"left\").dropna()"
   ]
  },
  {
   "cell_type": "code",
   "execution_count": 79,
   "metadata": {},
   "outputs": [],
   "source": [
    "to_pred_completo[\"label\"] = grid_drop.best_estimator_.predict(to_pred_completo.drop([\"person\"],axis = 1))"
   ]
  },
  {
   "cell_type": "code",
   "execution_count": 80,
   "metadata": {},
   "outputs": [],
   "source": [
    "to_pred = pd.merge(to_pred_completo[[\"person\",\"label\"]],to_pred,on=\"person\",how=\"right\")"
   ]
  },
  {
   "cell_type": "code",
   "execution_count": 81,
   "metadata": {},
   "outputs": [],
   "source": [
    "#to_pred[\"label\"] = to_pred[\"label\"].apply(richGetRicher)\n",
    "to_pred[\"label\"].loc[to_pred[\"label\"] < 0] = 0\n",
    "to_pred[\"label\"].loc[to_pred[\"label\"] > 1] = 1"
   ]
  },
  {
   "cell_type": "code",
   "execution_count": 82,
   "metadata": {},
   "outputs": [],
   "source": [
    "# mode < median < mean\n",
    "to_pred = to_pred.fillna(to_pred[\"label\"].mean())"
   ]
  },
  {
   "cell_type": "code",
   "execution_count": 83,
   "metadata": {},
   "outputs": [],
   "source": [
    "to_pred.to_csv(\"sumit0.2\", index=False)"
   ]
  },
  {
   "cell_type": "code",
   "execution_count": 84,
   "metadata": {},
   "outputs": [],
   "source": [
    "def richGetRicher(x):\n",
    "    if(x > .2):\n",
    "        return x *10\n",
    "    else: return x"
   ]
  },
  {
   "cell_type": "code",
   "execution_count": 85,
   "metadata": {},
   "outputs": [
    {
     "data": {
      "text/plain": [
       "0"
      ]
     },
     "execution_count": 85,
     "metadata": {},
     "output_type": "execute_result"
    }
   ],
   "source": [
    "to_pred[\"label\"].isna().sum()"
   ]
  },
  {
   "cell_type": "code",
   "execution_count": null,
   "metadata": {},
   "outputs": [],
   "source": []
  }
 ],
 "metadata": {
  "kernelspec": {
   "display_name": "Python 2",
   "language": "python",
   "name": "python2"
  },
  "language_info": {
   "codemirror_mode": {
    "name": "ipython",
    "version": 2
   },
   "file_extension": ".py",
   "mimetype": "text/x-python",
   "name": "python",
   "nbconvert_exporter": "python",
   "pygments_lexer": "ipython2",
   "version": "2.7.14"
  }
 },
 "nbformat": 4,
 "nbformat_minor": 2
}
