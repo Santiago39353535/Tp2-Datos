{
 "cells": [
  {
   "cell_type": "code",
   "execution_count": 1,
   "metadata": {},
   "outputs": [],
   "source": [
    "import pandas as pd\n",
    "import numpy as np\n",
    "import matplotlib.pyplot as plt\n",
    "import seaborn as sns\n",
    "%matplotlib inline\n",
    "\n",
    "from sklearn.cross_validation import train_test_split\n",
    "from sklearn.metrics import roc_auc_score\n",
    "from sklearn.metrics import mean_squared_error\n",
    "from sklearn.grid_search import GridSearchCV\n",
    "from sklearn.tree import DecisionTreeClassifier\n",
    "from sklearn.tree import DecisionTreeRegressor\n",
    "from sklearn.ensemble import RandomForestRegressor\n",
    "from sklearn.ensemble import RandomForestClassifier\n",
    "from sklearn.ensemble import GradientBoostingRegressor\n",
    "from sklearn.ensemble import AdaBoostRegressor\n",
    "from sklearn.ensemble import BaggingRegressor\n",
    "from sklearn.decomposition import TruncatedSVD\n",
    "from sklearn.pipeline import Pipeline\n",
    "from sklearn.linear_model import LogisticRegression\n",
    "import sklearn.cross_validation\n",
    "from sklearn.cross_validation import cross_val_score"
   ]
  },
  {
   "cell_type": "code",
   "execution_count": 2,
   "metadata": {},
   "outputs": [],
   "source": [
    "def setPred(col):\n",
    "    if(col > 0):\n",
    "        return 1\n",
    "    else:\n",
    "        return 0\n",
    "    \n",
    "def add_noise(series, noise_level):\n",
    "    return series * (1 + noise_level * np.random.randn(len(series)))\n",
    "\n",
    "def target_encode(trn_series=None, \n",
    "                  tst_series=None, \n",
    "                  target=None, \n",
    "                  min_samples_leaf=1, \n",
    "                  smoothing=1,\n",
    "                  noise_level=0):\n",
    "    \"\"\"\n",
    "    Smoothing is computed like in the following paper by Daniele Micci-Barreca\n",
    "    https://kaggle2.blob.core.windows.net/forum-message-attachments/225952/7441/high%20cardinality%20categoricals.pdf\n",
    "    trn_series : training categorical feature as a pd.Series\n",
    "    tst_series : test categorical feature as a pd.Series\n",
    "    target : target data as a pd.Series\n",
    "    min_samples_leaf (int) : minimum samples to take category average into account\n",
    "    smoothing (int) : smoothing effect to balance categorical average vs prior  \n",
    "    \"\"\" \n",
    "    assert len(trn_series) == len(target)\n",
    "    assert trn_series.name == tst_series.name\n",
    "    temp = pd.concat([trn_series, target], axis=1)\n",
    "    # Compute target mean \n",
    "    averages = temp.groupby(by=trn_series.name)[target.name].agg([\"mean\", \"count\"])\n",
    "    # Compute smoothing\n",
    "    smoothing = 1 / (1 + np.exp(-(averages[\"count\"] - min_samples_leaf) / smoothing))\n",
    "    # Apply average function to all target data\n",
    "    prior = target.mean()\n",
    "    # The bigger the count the less full_avg is taken into account\n",
    "    averages[target.name] = prior * (1 - smoothing) + averages[\"mean\"] * smoothing\n",
    "    averages.drop([\"mean\", \"count\"], axis=1, inplace=True)\n",
    "    # Apply averages to trn and tst series\n",
    "    ft_trn_series = pd.merge(\n",
    "        trn_series.to_frame(trn_series.name),\n",
    "        averages.reset_index().rename(columns={'index': target.name, target.name: 'average'}),\n",
    "        on=trn_series.name,\n",
    "        how='left')['average'].rename(trn_series.name + '_mean').fillna(prior)\n",
    "    # pd.merge does not keep the index so restore it\n",
    "    ft_trn_series.index = trn_series.index \n",
    "    ft_tst_series = pd.merge(\n",
    "        tst_series.to_frame(tst_series.name),\n",
    "        averages.reset_index().rename(columns={'index': target.name, target.name: 'average'}),\n",
    "        on=tst_series.name,\n",
    "        how='left')['average'].rename(trn_series.name + '_mean').fillna(prior)\n",
    "    # pd.merge does not keep the index so restore it\n",
    "    ft_tst_series.index = tst_series.index\n",
    "    return add_noise(ft_trn_series, noise_level), add_noise(ft_tst_series, noise_level)"
   ]
  },
  {
   "cell_type": "code",
   "execution_count": null,
   "metadata": {},
   "outputs": [],
   "source": []
  },
  {
   "cell_type": "markdown",
   "metadata": {},
   "source": [
    "# preparar/tweks datos "
   ]
  },
  {
   "cell_type": "code",
   "execution_count": 418,
   "metadata": {},
   "outputs": [],
   "source": [
    "features = pd.read_csv(\"features.csv\",low_memory = False)\n",
    "prediccion = pd.read_csv(\"csv/labels_training_set.csv\")"
   ]
  },
  {
   "cell_type": "code",
   "execution_count": 255,
   "metadata": {},
   "outputs": [],
   "source": [
    "#features = features.loc[features[\"conversion\"]<=5]"
   ]
  },
  {
   "cell_type": "code",
   "execution_count": 419,
   "metadata": {},
   "outputs": [],
   "source": [
    "#mergeo features y la info q nos tiran, lleno con 0 los q no se\n",
    "train = pd.merge(prediccion,features,on=\"person\",how= \"left\").dropna()"
   ]
  },
  {
   "cell_type": "code",
   "execution_count": 420,
   "metadata": {},
   "outputs": [],
   "source": [
    "prediccion = train[\"label\"]"
   ]
  },
  {
   "cell_type": "code",
   "execution_count": 421,
   "metadata": {},
   "outputs": [],
   "source": [
    "test = features.loc[~features[\"person\"].isin(train[\"person\"])]"
   ]
  },
  {
   "cell_type": "code",
   "execution_count": 422,
   "metadata": {},
   "outputs": [
    {
     "name": "stderr",
     "output_type": "stream",
     "text": [
      "/home/tito/.local/lib/python3.5/site-packages/ipykernel_launcher.py:3: SettingWithCopyWarning: \n",
      "A value is trying to be set on a copy of a slice from a DataFrame.\n",
      "Try using .loc[row_indexer,col_indexer] = value instead\n",
      "\n",
      "See the caveats in the documentation: http://pandas.pydata.org/pandas-docs/stable/indexing.html#indexing-view-versus-copy\n",
      "  This is separate from the ipykernel package so we can avoid doing imports until\n"
     ]
    }
   ],
   "source": [
    "listaDeCategoricos = [\"condition_no_convercion\",\"model_no_convercion\",\"color_no_convercion\",\"search_engine\"\\\n",
    "                      ,\"nombre mas usado dia\",\"ultimo_dia_de_la_semana_activo\",\"ultimo_evento_registrado_cmode\",\\\n",
    "                  ]\n",
    "for word in listaDeCategoricos:\n",
    "    train[word],test[word] =  target_encode(trn_series = train[word],  \\\n",
    "                                            tst_series = test[word],\\\n",
    "                                            target=prediccion, \\\n",
    "                                            min_samples_leaf=10,\\\n",
    "                                            smoothing=0.1,\\\n",
    "                                            noise_level=0.00)\n"
   ]
  },
  {
   "cell_type": "code",
   "execution_count": 401,
   "metadata": {},
   "outputs": [
    {
     "data": {
      "text/plain": [
       "Index(['person', 'label', 'ad campaign hit', 'brand listing', 'checkout',\n",
       "       'conversion', 'generic listing', 'lead', 'search engine hit',\n",
       "       'searched products', 'staticpage', 'viewed product', 'visited site',\n",
       "       'model_no_convercion', 'storage_no_convercion',\n",
       "       'condition_no_convercion', 'color_no_convercion', 'search_engine',\n",
       "       'numero mas usado dia', 'nombre mas usado dia',\n",
       "       'ultimo_dia_de_la_semana_activo', 'ultimo_evento_registrado_cmode',\n",
       "       'dias_hasta', 'viewed product_last', 'searched products_last',\n",
       "       'ad campaign hit_last', 'staticpage_last', 'checkout_last',\n",
       "       'search engine hit_last', 'conversion_last', 'generic listing_last',\n",
       "       'brand listing_last', 'visited site_last', 'lead_last',\n",
       "       'cantidad_de_dias_utilizado', 'media_dia_de_la_semana_no_convercion',\n",
       "       'delta_ultimo_primer_dia_actividad',\n",
       "       'delta_ultimo_anteulit_tiempo_actividad',\n",
       "       'delta_primer_seg_tiempo_actividad', 'dTimeEveMax', 'dTimeEveMean0',\n",
       "       'dTimeEveMean1', 'dHTimeEveMax', 'dHTimeEveMean1', 'dHTimeEveMean0',\n",
       "       'Estado Bien', 'Estado Excelente', 'Estado Muy Bien', 'Estado Nuevo'],\n",
       "      dtype='object')"
      ]
     },
     "execution_count": 401,
     "metadata": {},
     "output_type": "execute_result"
    }
   ],
   "source": [
    "train.columns"
   ]
  },
  {
   "cell_type": "code",
   "execution_count": 423,
   "metadata": {},
   "outputs": [],
   "source": [
    "exclude = [\"ultimo_dia_de_la_semana_activo\",\"cantidad_de_dias_utilizado\", \\\n",
    "           \"media_dia_de_la_semana_no_convercion\", \"searched products_last\", \"storage_no_convercion\",\\\n",
    "            \"search engine hit\",\"Estado Nuevo\",\"generic listing\", \"Estado Excelente\",\\\n",
    "           \"search engine hit_last\",\"visited site\",\"dias_hasta\",\"staticpage\",\\\n",
    "          \"dTimeEveMean0\",\"dHTimeEveMean0\",\"dTimeEveMax\"]\n",
    "train = train.drop(exclude,axis = 1)\n",
    "test = test.drop(exclude,axis = 1)"
   ]
  },
  {
   "cell_type": "code",
   "execution_count": 424,
   "metadata": {},
   "outputs": [
    {
     "data": {
      "text/plain": [
       "(19126,)"
      ]
     },
     "execution_count": 424,
     "metadata": {},
     "output_type": "execute_result"
    }
   ],
   "source": [
    "prediccion.shape"
   ]
  },
  {
   "cell_type": "code",
   "execution_count": 425,
   "metadata": {},
   "outputs": [],
   "source": [
    "train = train.drop([\"person\",\"label\"],axis = 1)"
   ]
  },
  {
   "cell_type": "code",
   "execution_count": 426,
   "metadata": {},
   "outputs": [],
   "source": [
    "for word in features.columns:\n",
    "    features[word] = pd.to_numeric(features[word],errors = \"coerce\")"
   ]
  },
  {
   "cell_type": "code",
   "execution_count": 427,
   "metadata": {},
   "outputs": [],
   "source": [
    "\n",
    "X_train, X_test, y_train, y_test = train_test_split(train, prediccion, test_size=0.30, random_state=41)"
   ]
  },
  {
   "cell_type": "markdown",
   "metadata": {},
   "source": [
    "# Random Forest\n",
    "# historial cambios tweaks | score\n",
    "\n",
    "columnas: \n",
    "'ad campaign hit', 'brand listing', 'checkout', 'generic listing',\n",
    "       'lead', 'search engine hit', 'searched products', 'staticpage',\n",
    "       'viewed product', 'visited site', 'level_0', 'storage_no_convercion',\n",
    "       'numero mas usado dia', 'condition_no_convercion2',\n",
    "       'color_no_convercion2', 'search_engine2', 'nombre mas usado dia2']\n",
    "       \n",
    "features contraproductivos:\n",
    "    cantidad de dias utilizado, hora/mes/dia ultimo evento, ultimo dia de la semana activo\n",
    "\n",
    "test_size = 0.3\n",
    "cv = 20\n",
    "n_estimator 50 | .78 (Kaggle .76)\n",
    "n_estimator 100 | .79 \n",
    "\n",
    "cambio smootingbasado en: conversiones previas -> conversiones futuras\n",
    "\n",
    "test_size = 0.3\n",
    "cv = 20\n",
    "n_estimator 100 | .80 (Kaggle .78)\n",
    "\n",
    "agrego ultimo evento\n",
    "\n",
    "test_size = 0.3\n",
    "cv = 20\n",
    "n_estimator 100 | .793\n",
    "\n",
    "\n",
    "agrego: ultimo dias hasta el 1/6,suceso de cada evento, rellenados con -1\n",
    "\n",
    "test_size = 0.3\n",
    "cv = 20\n",
    "n_estimator 100 | .798\n",
    "\n",
    "agrego: ultimo dia de la semana activo\n",
    "\n",
    "test_size = 0.3\n",
    "cv = 20\n",
    "n_estimator 100 | .798\n",
    "\n",
    "cambio relleno de cantidad de veces de cada evento -1 -> mediana\n",
    "agrego  'delta_ultimo_primer_dia_actividad',\n",
    "       'delta_ultimo_anteulit_tiempo_actividad',\n",
    "       'delta_primer_seg_tiempo_actividad',\n",
    "       'dTimeEve\n",
    "\n",
    "test_size = 0.3\n",
    "cv = 20\n",
    "n_estimator 100 | .832\n",
    "\n",
    "\n",
    "\n",
    "https://www.youtube.com/watch?v=BSUMBBFjxrY"
   ]
  },
  {
   "cell_type": "code",
   "execution_count": 265,
   "metadata": {},
   "outputs": [
    {
     "data": {
      "text/plain": [
       "{'bootstrap': True,\n",
       " 'criterion': 'mse',\n",
       " 'max_depth': None,\n",
       " 'max_features': 'auto',\n",
       " 'max_leaf_nodes': None,\n",
       " 'min_samples_leaf': 1,\n",
       " 'min_samples_split': 2,\n",
       " 'min_weight_fraction_leaf': 0.0,\n",
       " 'n_estimators': 10,\n",
       " 'n_jobs': -1,\n",
       " 'oob_score': False,\n",
       " 'random_state': None,\n",
       " 'verbose': 0,\n",
       " 'warm_start': False}"
      ]
     },
     "execution_count": 265,
     "metadata": {},
     "output_type": "execute_result"
    }
   ],
   "source": [
    "# probar clasificacion\n",
    "randomforesttree = RandomForestRegressor(random_state = None, n_jobs=-1)\n",
    "randomforesttree.get_params()"
   ]
  },
  {
   "cell_type": "code",
   "execution_count": 266,
   "metadata": {},
   "outputs": [
    {
     "name": "stdout",
     "output_type": "stream",
     "text": [
      "{'max_features': 'auto', 'n_estimators': 100, 'criterion': 'mse'} 0.835923548664443\n"
     ]
    }
   ],
   "source": [
    "#\n",
    "param_grid= {'max_features': [\"auto\"], 'n_estimators': [100], 'criterion': ['mse']}\n",
    "grid_drop = GridSearchCV(randomforesttree, param_grid, cv=20, scoring='roc_auc',n_jobs = -1,pre_dispatch = 4)\n",
    "grid_drop.fit(X_train, y_train)\n",
    "print(grid_drop.best_params_, grid_drop.best_score_)"
   ]
  },
  {
   "cell_type": "code",
   "execution_count": 267,
   "metadata": {},
   "outputs": [],
   "source": [
    "result = grid_drop.best_estimator_.predict(X_test)"
   ]
  },
  {
   "cell_type": "code",
   "execution_count": 268,
   "metadata": {},
   "outputs": [
    {
     "data": {
      "text/plain": [
       "0.8364520528068147"
      ]
     },
     "execution_count": 268,
     "metadata": {},
     "output_type": "execute_result"
    }
   ],
   "source": [
    "roc_auc_score(y_test, result)"
   ]
  },
  {
   "cell_type": "code",
   "execution_count": 269,
   "metadata": {},
   "outputs": [],
   "source": [
    "feature_importances = pd.DataFrame(grid_drop.best_estimator_.feature_importances_,\n",
    "                                   index = X_train.columns,\n",
    "                                    columns=['importance']).sort_values('importance', ascending=False)"
   ]
  },
  {
   "cell_type": "code",
   "execution_count": 270,
   "metadata": {},
   "outputs": [
    {
     "data": {
      "text/html": [
       "<div>\n",
       "<style scoped>\n",
       "    .dataframe tbody tr th:only-of-type {\n",
       "        vertical-align: middle;\n",
       "    }\n",
       "\n",
       "    .dataframe tbody tr th {\n",
       "        vertical-align: top;\n",
       "    }\n",
       "\n",
       "    .dataframe thead th {\n",
       "        text-align: right;\n",
       "    }\n",
       "</style>\n",
       "<table border=\"1\" class=\"dataframe\">\n",
       "  <thead>\n",
       "    <tr style=\"text-align: right;\">\n",
       "      <th></th>\n",
       "      <th>importance</th>\n",
       "    </tr>\n",
       "  </thead>\n",
       "  <tbody>\n",
       "    <tr>\n",
       "      <th>checkout</th>\n",
       "      <td>0.080363</td>\n",
       "    </tr>\n",
       "    <tr>\n",
       "      <th>numero mas usado dia</th>\n",
       "      <td>0.071972</td>\n",
       "    </tr>\n",
       "    <tr>\n",
       "      <th>Estado Bien</th>\n",
       "      <td>0.058443</td>\n",
       "    </tr>\n",
       "    <tr>\n",
       "      <th>viewed product</th>\n",
       "      <td>0.055205</td>\n",
       "    </tr>\n",
       "    <tr>\n",
       "      <th>ultimo_evento_registrado_cmode</th>\n",
       "      <td>0.051781</td>\n",
       "    </tr>\n",
       "    <tr>\n",
       "      <th>checkout_last</th>\n",
       "      <td>0.049783</td>\n",
       "    </tr>\n",
       "    <tr>\n",
       "      <th>brand listing</th>\n",
       "      <td>0.048309</td>\n",
       "    </tr>\n",
       "    <tr>\n",
       "      <th>color_no_convercion</th>\n",
       "      <td>0.044726</td>\n",
       "    </tr>\n",
       "    <tr>\n",
       "      <th>Estado Muy Bien</th>\n",
       "      <td>0.044279</td>\n",
       "    </tr>\n",
       "    <tr>\n",
       "      <th>dTimeEveMax</th>\n",
       "      <td>0.044197</td>\n",
       "    </tr>\n",
       "    <tr>\n",
       "      <th>delta_ultimo_primer_dia_actividad</th>\n",
       "      <td>0.042814</td>\n",
       "    </tr>\n",
       "    <tr>\n",
       "      <th>ad campaign hit</th>\n",
       "      <td>0.042167</td>\n",
       "    </tr>\n",
       "    <tr>\n",
       "      <th>ad campaign hit_last</th>\n",
       "      <td>0.039611</td>\n",
       "    </tr>\n",
       "    <tr>\n",
       "      <th>generic listing_last</th>\n",
       "      <td>0.038837</td>\n",
       "    </tr>\n",
       "    <tr>\n",
       "      <th>searched products</th>\n",
       "      <td>0.036780</td>\n",
       "    </tr>\n",
       "    <tr>\n",
       "      <th>brand listing_last</th>\n",
       "      <td>0.033953</td>\n",
       "    </tr>\n",
       "    <tr>\n",
       "      <th>nombre mas usado dia</th>\n",
       "      <td>0.033785</td>\n",
       "    </tr>\n",
       "    <tr>\n",
       "      <th>viewed product_last</th>\n",
       "      <td>0.030017</td>\n",
       "    </tr>\n",
       "    <tr>\n",
       "      <th>visited site_last</th>\n",
       "      <td>0.027759</td>\n",
       "    </tr>\n",
       "    <tr>\n",
       "      <th>model_no_convercion</th>\n",
       "      <td>0.024896</td>\n",
       "    </tr>\n",
       "    <tr>\n",
       "      <th>condition_no_convercion</th>\n",
       "      <td>0.020168</td>\n",
       "    </tr>\n",
       "    <tr>\n",
       "      <th>conversion_last</th>\n",
       "      <td>0.017519</td>\n",
       "    </tr>\n",
       "    <tr>\n",
       "      <th>conversion</th>\n",
       "      <td>0.017186</td>\n",
       "    </tr>\n",
       "    <tr>\n",
       "      <th>search_engine</th>\n",
       "      <td>0.014551</td>\n",
       "    </tr>\n",
       "    <tr>\n",
       "      <th>staticpage_last</th>\n",
       "      <td>0.014192</td>\n",
       "    </tr>\n",
       "    <tr>\n",
       "      <th>delta_primer_seg_tiempo_actividad</th>\n",
       "      <td>0.005787</td>\n",
       "    </tr>\n",
       "    <tr>\n",
       "      <th>lead_last</th>\n",
       "      <td>0.004811</td>\n",
       "    </tr>\n",
       "    <tr>\n",
       "      <th>lead</th>\n",
       "      <td>0.003717</td>\n",
       "    </tr>\n",
       "    <tr>\n",
       "      <th>delta_ultimo_anteulit_tiempo_actividad</th>\n",
       "      <td>0.002392</td>\n",
       "    </tr>\n",
       "  </tbody>\n",
       "</table>\n",
       "</div>"
      ],
      "text/plain": [
       "                                        importance\n",
       "checkout                                  0.080363\n",
       "numero mas usado dia                      0.071972\n",
       "Estado Bien                               0.058443\n",
       "viewed product                            0.055205\n",
       "ultimo_evento_registrado_cmode            0.051781\n",
       "checkout_last                             0.049783\n",
       "brand listing                             0.048309\n",
       "color_no_convercion                       0.044726\n",
       "Estado Muy Bien                           0.044279\n",
       "dTimeEveMax                               0.044197\n",
       "delta_ultimo_primer_dia_actividad         0.042814\n",
       "ad campaign hit                           0.042167\n",
       "ad campaign hit_last                      0.039611\n",
       "generic listing_last                      0.038837\n",
       "searched products                         0.036780\n",
       "brand listing_last                        0.033953\n",
       "nombre mas usado dia                      0.033785\n",
       "viewed product_last                       0.030017\n",
       "visited site_last                         0.027759\n",
       "model_no_convercion                       0.024896\n",
       "condition_no_convercion                   0.020168\n",
       "conversion_last                           0.017519\n",
       "conversion                                0.017186\n",
       "search_engine                             0.014551\n",
       "staticpage_last                           0.014192\n",
       "delta_primer_seg_tiempo_actividad         0.005787\n",
       "lead_last                                 0.004811\n",
       "lead                                      0.003717\n",
       "delta_ultimo_anteulit_tiempo_actividad    0.002392"
      ]
     },
     "execution_count": 270,
     "metadata": {},
     "output_type": "execute_result"
    }
   ],
   "source": [
    "feature_importances"
   ]
  },
  {
   "cell_type": "code",
   "execution_count": null,
   "metadata": {},
   "outputs": [],
   "source": []
  },
  {
   "cell_type": "code",
   "execution_count": null,
   "metadata": {
    "scrolled": false
   },
   "outputs": [],
   "source": []
  },
  {
   "cell_type": "code",
   "execution_count": null,
   "metadata": {},
   "outputs": [],
   "source": []
  },
  {
   "cell_type": "markdown",
   "metadata": {},
   "source": [
    "# Gradient Boost\n",
    "# historial cambios tweaks | score \n",
    "\n",
    "columnas: \n",
    "'ad campaign hit', 'brand listing', 'checkout', 'generic listing',\n",
    "       'lead', 'search engine hit', 'searched products', 'staticpage',\n",
    "       'viewed product', 'visited site', 'level_0', 'storage_no_convercion',\n",
    "       'numero mas usado dia', 'condition_no_convercion2',\n",
    "       'color_no_convercion2', 'search_engine2', 'nombre mas usado dia2']\n",
    "\n",
    "\n",
    "cambio smootingbasado en: conversiones previas -> conversiones futuras\n",
    "\n",
    "agrego ultimo evento\n",
    "\n",
    "agrego dias hasta el 1/6\n",
    "\n",
    "test_size = 0.3\n",
    "cv = 20\n",
    "n_estimator 100 | .82 (Kaggle .815)\n",
    "\n",
    "\n",
    "agrego: ultimo dia de semana\n",
    "\n",
    "test_size = 0.3\n",
    "cv = 20\n",
    "n_estimator 100 | .820\n",
    "\n",
    "agrego: ultimo suceso de cada evento, rellenados con -1\n",
    "\n",
    "test_size = 0.3\n",
    "cv = 20\n",
    "n_estimator 100 | .824\n",
    "\n",
    "agrego: cantidad de dias utilizado\n",
    "\n",
    "test_size = 0.3\n",
    "cv = 20\n",
    "n_estimator 100 | .824\n",
    "\n"
   ]
  },
  {
   "cell_type": "code",
   "execution_count": 428,
   "metadata": {},
   "outputs": [
    {
     "data": {
      "text/plain": [
       "{'alpha': 0.9,\n",
       " 'init': None,\n",
       " 'learning_rate': 0.1,\n",
       " 'loss': 'ls',\n",
       " 'max_depth': 3,\n",
       " 'max_features': None,\n",
       " 'max_leaf_nodes': None,\n",
       " 'min_samples_leaf': 1,\n",
       " 'min_samples_split': 2,\n",
       " 'min_weight_fraction_leaf': 0.0,\n",
       " 'n_estimators': 100,\n",
       " 'presort': 'auto',\n",
       " 'random_state': None,\n",
       " 'subsample': 1.0,\n",
       " 'verbose': 0,\n",
       " 'warm_start': False}"
      ]
     },
     "execution_count": 428,
     "metadata": {},
     "output_type": "execute_result"
    }
   ],
   "source": [
    "gradientboost = GradientBoostingRegressor(random_state = None)\n",
    "gradientboost.get_params()"
   ]
  },
  {
   "cell_type": "code",
   "execution_count": 429,
   "metadata": {},
   "outputs": [
    {
     "name": "stdout",
     "output_type": "stream",
     "text": [
      "{'max_features': 'auto', 'loss': 'ls', 'n_estimators': 30} 0.865684344679409\n"
     ]
    }
   ],
   "source": [
    "param_grid= {'max_features': [\"auto\"], 'n_estimators': [30], 'loss': ['ls']}\n",
    "grid_drop = GridSearchCV(gradientboost, param_grid, cv=20, scoring='roc_auc')\n",
    "grid_drop.fit(X_train, y_train)\n",
    "print(grid_drop.best_params_, grid_drop.best_score_)\n"
   ]
  },
  {
   "cell_type": "code",
   "execution_count": 430,
   "metadata": {},
   "outputs": [],
   "source": [
    "result2 = grid_drop.best_estimator_.predict(X_test)"
   ]
  },
  {
   "cell_type": "code",
   "execution_count": null,
   "metadata": {},
   "outputs": [],
   "source": []
  },
  {
   "cell_type": "code",
   "execution_count": 431,
   "metadata": {},
   "outputs": [
    {
     "data": {
      "text/plain": [
       "0.865663620826743"
      ]
     },
     "execution_count": 431,
     "metadata": {},
     "output_type": "execute_result"
    }
   ],
   "source": [
    "roc_auc_score(y_test, result2)"
   ]
  },
  {
   "cell_type": "code",
   "execution_count": 317,
   "metadata": {},
   "outputs": [
    {
     "data": {
      "text/html": [
       "<div>\n",
       "<style scoped>\n",
       "    .dataframe tbody tr th:only-of-type {\n",
       "        vertical-align: middle;\n",
       "    }\n",
       "\n",
       "    .dataframe tbody tr th {\n",
       "        vertical-align: top;\n",
       "    }\n",
       "\n",
       "    .dataframe thead th {\n",
       "        text-align: right;\n",
       "    }\n",
       "</style>\n",
       "<table border=\"1\" class=\"dataframe\">\n",
       "  <thead>\n",
       "    <tr style=\"text-align: right;\">\n",
       "      <th></th>\n",
       "      <th>importance</th>\n",
       "    </tr>\n",
       "  </thead>\n",
       "  <tbody>\n",
       "    <tr>\n",
       "      <th>checkout</th>\n",
       "      <td>0.254717</td>\n",
       "    </tr>\n",
       "    <tr>\n",
       "      <th>checkout_last</th>\n",
       "      <td>0.138533</td>\n",
       "    </tr>\n",
       "    <tr>\n",
       "      <th>brand listing</th>\n",
       "      <td>0.059267</td>\n",
       "    </tr>\n",
       "    <tr>\n",
       "      <th>conversion</th>\n",
       "      <td>0.049978</td>\n",
       "    </tr>\n",
       "    <tr>\n",
       "      <th>dHTimeEveMax</th>\n",
       "      <td>0.042501</td>\n",
       "    </tr>\n",
       "    <tr>\n",
       "      <th>ad campaign hit_last</th>\n",
       "      <td>0.041523</td>\n",
       "    </tr>\n",
       "    <tr>\n",
       "      <th>visited site_last</th>\n",
       "      <td>0.040924</td>\n",
       "    </tr>\n",
       "    <tr>\n",
       "      <th>conversion_last</th>\n",
       "      <td>0.040748</td>\n",
       "    </tr>\n",
       "    <tr>\n",
       "      <th>Estado Bien</th>\n",
       "      <td>0.036329</td>\n",
       "    </tr>\n",
       "    <tr>\n",
       "      <th>color_no_convercion</th>\n",
       "      <td>0.035725</td>\n",
       "    </tr>\n",
       "    <tr>\n",
       "      <th>staticpage_last</th>\n",
       "      <td>0.028204</td>\n",
       "    </tr>\n",
       "    <tr>\n",
       "      <th>ultimo_evento_registrado_cmode</th>\n",
       "      <td>0.026145</td>\n",
       "    </tr>\n",
       "    <tr>\n",
       "      <th>generic listing_last</th>\n",
       "      <td>0.023388</td>\n",
       "    </tr>\n",
       "    <tr>\n",
       "      <th>lead_last</th>\n",
       "      <td>0.019315</td>\n",
       "    </tr>\n",
       "    <tr>\n",
       "      <th>brand listing_last</th>\n",
       "      <td>0.019064</td>\n",
       "    </tr>\n",
       "    <tr>\n",
       "      <th>viewed product</th>\n",
       "      <td>0.018205</td>\n",
       "    </tr>\n",
       "    <tr>\n",
       "      <th>searched products</th>\n",
       "      <td>0.017886</td>\n",
       "    </tr>\n",
       "    <tr>\n",
       "      <th>search_engine</th>\n",
       "      <td>0.014069</td>\n",
       "    </tr>\n",
       "    <tr>\n",
       "      <th>dTimeEveMean0</th>\n",
       "      <td>0.011472</td>\n",
       "    </tr>\n",
       "    <tr>\n",
       "      <th>dHTimeEveMean0</th>\n",
       "      <td>0.010555</td>\n",
       "    </tr>\n",
       "    <tr>\n",
       "      <th>lead</th>\n",
       "      <td>0.009628</td>\n",
       "    </tr>\n",
       "    <tr>\n",
       "      <th>numero mas usado dia</th>\n",
       "      <td>0.009174</td>\n",
       "    </tr>\n",
       "    <tr>\n",
       "      <th>Estado Muy Bien</th>\n",
       "      <td>0.009080</td>\n",
       "    </tr>\n",
       "    <tr>\n",
       "      <th>dTimeEveMax</th>\n",
       "      <td>0.008846</td>\n",
       "    </tr>\n",
       "    <tr>\n",
       "      <th>ad campaign hit</th>\n",
       "      <td>0.008800</td>\n",
       "    </tr>\n",
       "    <tr>\n",
       "      <th>nombre mas usado dia</th>\n",
       "      <td>0.007570</td>\n",
       "    </tr>\n",
       "    <tr>\n",
       "      <th>viewed product_last</th>\n",
       "      <td>0.005623</td>\n",
       "    </tr>\n",
       "    <tr>\n",
       "      <th>delta_primer_seg_tiempo_actividad</th>\n",
       "      <td>0.005253</td>\n",
       "    </tr>\n",
       "    <tr>\n",
       "      <th>condition_no_convercion</th>\n",
       "      <td>0.004664</td>\n",
       "    </tr>\n",
       "    <tr>\n",
       "      <th>delta_ultimo_anteulit_tiempo_actividad</th>\n",
       "      <td>0.002816</td>\n",
       "    </tr>\n",
       "    <tr>\n",
       "      <th>delta_ultimo_primer_dia_actividad</th>\n",
       "      <td>0.000000</td>\n",
       "    </tr>\n",
       "    <tr>\n",
       "      <th>model_no_convercion</th>\n",
       "      <td>0.000000</td>\n",
       "    </tr>\n",
       "  </tbody>\n",
       "</table>\n",
       "</div>"
      ],
      "text/plain": [
       "                                        importance\n",
       "checkout                                  0.254717\n",
       "checkout_last                             0.138533\n",
       "brand listing                             0.059267\n",
       "conversion                                0.049978\n",
       "dHTimeEveMax                              0.042501\n",
       "ad campaign hit_last                      0.041523\n",
       "visited site_last                         0.040924\n",
       "conversion_last                           0.040748\n",
       "Estado Bien                               0.036329\n",
       "color_no_convercion                       0.035725\n",
       "staticpage_last                           0.028204\n",
       "ultimo_evento_registrado_cmode            0.026145\n",
       "generic listing_last                      0.023388\n",
       "lead_last                                 0.019315\n",
       "brand listing_last                        0.019064\n",
       "viewed product                            0.018205\n",
       "searched products                         0.017886\n",
       "search_engine                             0.014069\n",
       "dTimeEveMean0                             0.011472\n",
       "dHTimeEveMean0                            0.010555\n",
       "lead                                      0.009628\n",
       "numero mas usado dia                      0.009174\n",
       "Estado Muy Bien                           0.009080\n",
       "dTimeEveMax                               0.008846\n",
       "ad campaign hit                           0.008800\n",
       "nombre mas usado dia                      0.007570\n",
       "viewed product_last                       0.005623\n",
       "delta_primer_seg_tiempo_actividad         0.005253\n",
       "condition_no_convercion                   0.004664\n",
       "delta_ultimo_anteulit_tiempo_actividad    0.002816\n",
       "delta_ultimo_primer_dia_actividad         0.000000\n",
       "model_no_convercion                       0.000000"
      ]
     },
     "execution_count": 317,
     "metadata": {},
     "output_type": "execute_result"
    }
   ],
   "source": [
    "feature_importances2 = pd.DataFrame(grid_drop.best_estimator_.feature_importances_,\n",
    "                                   index = X_train.columns,\n",
    "                                    columns=['importance']).sort_values('importance', ascending=False)\n",
    "feature_importances2"
   ]
  },
  {
   "cell_type": "markdown",
   "metadata": {},
   "source": [
    "# Summit\n",
    "\n"
   ]
  },
  {
   "cell_type": "code",
   "execution_count": 435,
   "metadata": {},
   "outputs": [],
   "source": [
    "to_pred = pd.read_csv(\"csv/trocafone_kaggle_test.csv\")\n",
    "features = pd.read_csv(\"features.csv\")"
   ]
  },
  {
   "cell_type": "code",
   "execution_count": 446,
   "metadata": {},
   "outputs": [],
   "source": []
  },
  {
   "cell_type": "code",
   "execution_count": null,
   "metadata": {},
   "outputs": [],
   "source": []
  },
  {
   "cell_type": "code",
   "execution_count": 436,
   "metadata": {},
   "outputs": [],
   "source": [
    "to_pred_completo = pd.merge(to_pred,test,on=\"person\",how = \"left\").dropna()"
   ]
  },
  {
   "cell_type": "code",
   "execution_count": 437,
   "metadata": {},
   "outputs": [],
   "source": [
    "to_pred_completo[\"label\"] = grid_drop.best_estimator_.predict(to_pred_completo.drop([\"person\"],axis = 1))"
   ]
  },
  {
   "cell_type": "code",
   "execution_count": 438,
   "metadata": {},
   "outputs": [],
   "source": [
    "to_pred = pd.merge(to_pred_completo[[\"person\",\"label\"]],to_pred,on=\"person\",how=\"right\")"
   ]
  },
  {
   "cell_type": "code",
   "execution_count": 439,
   "metadata": {},
   "outputs": [
    {
     "name": "stderr",
     "output_type": "stream",
     "text": [
      "/usr/local/lib/python3.5/dist-packages/pandas/core/indexing.py:194: SettingWithCopyWarning: \n",
      "A value is trying to be set on a copy of a slice from a DataFrame\n",
      "\n",
      "See the caveats in the documentation: http://pandas.pydata.org/pandas-docs/stable/indexing.html#indexing-view-versus-copy\n",
      "  self._setitem_with_indexer(indexer, value)\n"
     ]
    }
   ],
   "source": [
    "#to_pred[\"label\"] = to_pred[\"label\"].apply(richGetRicher)\n",
    "to_pred[\"label\"].loc[to_pred[\"label\"] < 0] = 0\n",
    "to_pred[\"label\"].loc[to_pred[\"label\"] > 1] = 1"
   ]
  },
  {
   "cell_type": "code",
   "execution_count": 440,
   "metadata": {},
   "outputs": [],
   "source": [
    "# mode < median < mean\n",
    "to_pred = to_pred.fillna(to_pred[\"label\"].mean())"
   ]
  },
  {
   "cell_type": "code",
   "execution_count": 441,
   "metadata": {},
   "outputs": [],
   "source": [
    "to_pred.to_csv(\"sumit0.0\", index=False)"
   ]
  },
  {
   "cell_type": "code",
   "execution_count": 310,
   "metadata": {},
   "outputs": [],
   "source": [
    "def richGetRicher(x):\n",
    "    if(x > .2):\n",
    "        return x *10\n",
    "    else: return x"
   ]
  },
  {
   "cell_type": "code",
   "execution_count": 137,
   "metadata": {},
   "outputs": [
    {
     "data": {
      "text/plain": [
       "0"
      ]
     },
     "execution_count": 137,
     "metadata": {},
     "output_type": "execute_result"
    }
   ],
   "source": [
    "to_pred[\"label\"].isna().sum()"
   ]
  },
  {
   "cell_type": "code",
   "execution_count": 60,
   "metadata": {},
   "outputs": [
    {
     "data": {
      "text/plain": [
       "0    0.007391\n",
       "dtype: float64"
      ]
     },
     "execution_count": 60,
     "metadata": {},
     "output_type": "execute_result"
    }
   ],
   "source": [
    "i"
   ]
  }
 ],
 "metadata": {
  "kernelspec": {
   "display_name": "Python 3",
   "language": "python",
   "name": "python3"
  },
  "language_info": {
   "codemirror_mode": {
    "name": "ipython",
    "version": 3
   },
   "file_extension": ".py",
   "mimetype": "text/x-python",
   "name": "python",
   "nbconvert_exporter": "python",
   "pygments_lexer": "ipython3",
   "version": "3.5.2"
  }
 },
 "nbformat": 4,
 "nbformat_minor": 2
}
