{
 "cells": [
  {
   "cell_type": "code",
   "execution_count": 1,
   "metadata": {},
   "outputs": [],
   "source": [
    "import pandas as pd\n",
    "import numpy as np\n",
    "from os import listdir"
   ]
  },
  {
   "cell_type": "code",
   "execution_count": 2,
   "metadata": {},
   "outputs": [],
   "source": [
    "df1 = pd.read_csv(\"./csv/events_up_to_01062018.csv\",low_memory=False)"
   ]
  },
  {
   "cell_type": "code",
   "execution_count": 3,
   "metadata": {},
   "outputs": [],
   "source": [
    "df2 = pd.read_csv(\"./csv/labels_training_set.csv\")"
   ]
  },
  {
   "cell_type": "code",
   "execution_count": 4,
   "metadata": {},
   "outputs": [],
   "source": [
    "df1['timestamp'] = pd.to_datetime(df1['timestamp'])"
   ]
  },
  {
   "cell_type": "code",
   "execution_count": 5,
   "metadata": {},
   "outputs": [],
   "source": [
    "def modelo(obj):\n",
    "    if(pd.isnull(obj)):\n",
    "        return obj\n",
    "    \n",
    "    list = obj.split(\" \")\n",
    "    if len(list) == 1:\n",
    "        return obj\n",
    "    if \"iPhone\" in list:\n",
    "        return \"iPhone\"\n",
    "    if \"Samsung\" in list:\n",
    "        return \"Samsung\"\n",
    "    if \"Motorola\" in list:\n",
    "        return \"Motorola\"\n",
    "    if \"Lenovo\" in list:\n",
    "        return \"Lenovo\"\n",
    "    if \"Sony\" in list:\n",
    "        return \"Sony\"\n",
    "    if \"LG\" in list:\n",
    "        return \"LG\"\n",
    "    if \"Asus\" in list:\n",
    "        return \"Asus\"\n",
    "    if \"iPad\" in list:\n",
    "        return \"iPad\"\n",
    "    if \"Quantum\" in list:\n",
    "        return \"Quantum\"\n",
    "    return obj\n",
    "\n",
    "df1['model'] = df1['model'].apply(modelo)"
   ]
  },
  {
   "cell_type": "code",
   "execution_count": 6,
   "metadata": {},
   "outputs": [
    {
     "data": {
      "text/plain": [
       "iPhone              593603\n",
       "Samsung             501307\n",
       "Motorola            162914\n",
       "LG                   24814\n",
       "Sony                 15599\n",
       "Lenovo               11382\n",
       "iPad                  5663\n",
       "Asus                  4536\n",
       "Quantum               1693\n",
       "Outros TV LED 15         1\n",
       "Xiaomi Redmi 2           1\n",
       "Name: model, dtype: int64"
      ]
     },
     "execution_count": 6,
     "metadata": {},
     "output_type": "execute_result"
    }
   ],
   "source": [
    "df1['model'].value_counts()"
   ]
  },
  {
   "cell_type": "code",
   "execution_count": 7,
   "metadata": {},
   "outputs": [
    {
     "data": {
      "text/plain": [
       "viewed product       1248124\n",
       "brand listing         216312\n",
       "visited site          204069\n",
       "ad campaign hit       191388\n",
       "generic listing       160176\n",
       "searched products     130616\n",
       "search engine hit     106406\n",
       "checkout               65315\n",
       "staticpage             11201\n",
       "conversion              7091\n",
       "lead                     983\n",
       "Name: event, dtype: int64"
      ]
     },
     "execution_count": 7,
     "metadata": {},
     "output_type": "execute_result"
    }
   ],
   "source": [
    "df1['event'].value_counts()"
   ]
  },
  {
   "cell_type": "code",
   "execution_count": 8,
   "metadata": {},
   "outputs": [
    {
     "data": {
      "text/plain": [
       "16GB     442096\n",
       "32GB     430283\n",
       "64GB     228413\n",
       "128GB     99345\n",
       "8GB       96019\n",
       "256GB     17623\n",
       "4GB        5409\n",
       "512MB      1342\n",
       "Name: storage, dtype: int64"
      ]
     },
     "execution_count": 8,
     "metadata": {},
     "output_type": "execute_result"
    }
   ],
   "source": [
    "df1['storage'].value_counts()"
   ]
  },
  {
   "cell_type": "code",
   "execution_count": 9,
   "metadata": {},
   "outputs": [],
   "source": [
    "def convertir_storage(obj):\n",
    "    number = \"\"\n",
    "    if(pd.isnull(obj)):\n",
    "        return obj\n",
    "    for char in obj:\n",
    "        if (char != 'G') & (char != 'B') & (char != 'M'):\n",
    "            number += char\n",
    "    return int(number)"
   ]
  },
  {
   "cell_type": "code",
   "execution_count": 10,
   "metadata": {},
   "outputs": [],
   "source": [
    "df1['storage'] = df1['storage'].apply(convertir_storage)"
   ]
  },
  {
   "cell_type": "code",
   "execution_count": 11,
   "metadata": {},
   "outputs": [
    {
     "data": {
      "text/plain": [
       "16.0     442096\n",
       "32.0     430283\n",
       "64.0     228413\n",
       "128.0     99345\n",
       "8.0       96019\n",
       "256.0     17623\n",
       "4.0        5409\n",
       "512.0      1342\n",
       "Name: storage, dtype: int64"
      ]
     },
     "execution_count": 11,
     "metadata": {},
     "output_type": "execute_result"
    }
   ],
   "source": [
    "df1['storage'].value_counts()"
   ]
  },
  {
   "cell_type": "markdown",
   "metadata": {},
   "source": [
    "# Aalisis para evento convercion"
   ]
  },
  {
   "cell_type": "code",
   "execution_count": 12,
   "metadata": {},
   "outputs": [],
   "source": [
    "df1 = df1.loc[df1['timestamp'].dt.month == 5,:]"
   ]
  },
  {
   "cell_type": "code",
   "execution_count": 13,
   "metadata": {},
   "outputs": [
    {
     "data": {
      "text/html": [
       "<div>\n",
       "<style scoped>\n",
       "    .dataframe tbody tr th:only-of-type {\n",
       "        vertical-align: middle;\n",
       "    }\n",
       "\n",
       "    .dataframe tbody tr th {\n",
       "        vertical-align: top;\n",
       "    }\n",
       "\n",
       "    .dataframe thead th {\n",
       "        text-align: right;\n",
       "    }\n",
       "</style>\n",
       "<table border=\"1\" class=\"dataframe\">\n",
       "  <thead>\n",
       "    <tr style=\"text-align: right;\">\n",
       "      <th></th>\n",
       "      <th>timestamp</th>\n",
       "      <th>event</th>\n",
       "      <th>person</th>\n",
       "      <th>url</th>\n",
       "      <th>sku</th>\n",
       "      <th>model</th>\n",
       "      <th>condition</th>\n",
       "      <th>storage</th>\n",
       "      <th>color</th>\n",
       "      <th>skus</th>\n",
       "      <th>...</th>\n",
       "      <th>search_engine</th>\n",
       "      <th>channel</th>\n",
       "      <th>new_vs_returning</th>\n",
       "      <th>city</th>\n",
       "      <th>region</th>\n",
       "      <th>country</th>\n",
       "      <th>device_type</th>\n",
       "      <th>screen_resolution</th>\n",
       "      <th>operating_system_version</th>\n",
       "      <th>browser_version</th>\n",
       "    </tr>\n",
       "  </thead>\n",
       "  <tbody>\n",
       "    <tr>\n",
       "      <th>0</th>\n",
       "      <td>2018-05-18 00:11:59</td>\n",
       "      <td>viewed product</td>\n",
       "      <td>4886f805</td>\n",
       "      <td>NaN</td>\n",
       "      <td>9288.0</td>\n",
       "      <td>Samsung</td>\n",
       "      <td>Excelente</td>\n",
       "      <td>32.0</td>\n",
       "      <td>Dourado</td>\n",
       "      <td>NaN</td>\n",
       "      <td>...</td>\n",
       "      <td>NaN</td>\n",
       "      <td>NaN</td>\n",
       "      <td>NaN</td>\n",
       "      <td>NaN</td>\n",
       "      <td>NaN</td>\n",
       "      <td>NaN</td>\n",
       "      <td>NaN</td>\n",
       "      <td>NaN</td>\n",
       "      <td>NaN</td>\n",
       "      <td>NaN</td>\n",
       "    </tr>\n",
       "    <tr>\n",
       "      <th>1</th>\n",
       "      <td>2018-05-18 00:11:27</td>\n",
       "      <td>viewed product</td>\n",
       "      <td>ad93850f</td>\n",
       "      <td>NaN</td>\n",
       "      <td>304.0</td>\n",
       "      <td>iPhone</td>\n",
       "      <td>Muito Bom</td>\n",
       "      <td>32.0</td>\n",
       "      <td>Cinza espacial</td>\n",
       "      <td>NaN</td>\n",
       "      <td>...</td>\n",
       "      <td>NaN</td>\n",
       "      <td>NaN</td>\n",
       "      <td>NaN</td>\n",
       "      <td>NaN</td>\n",
       "      <td>NaN</td>\n",
       "      <td>NaN</td>\n",
       "      <td>NaN</td>\n",
       "      <td>NaN</td>\n",
       "      <td>NaN</td>\n",
       "      <td>NaN</td>\n",
       "    </tr>\n",
       "    <tr>\n",
       "      <th>2</th>\n",
       "      <td>2018-05-18 00:11:16</td>\n",
       "      <td>viewed product</td>\n",
       "      <td>0297fc1e</td>\n",
       "      <td>NaN</td>\n",
       "      <td>6888.0</td>\n",
       "      <td>iPhone</td>\n",
       "      <td>Muito Bom</td>\n",
       "      <td>64.0</td>\n",
       "      <td>Prateado</td>\n",
       "      <td>NaN</td>\n",
       "      <td>...</td>\n",
       "      <td>NaN</td>\n",
       "      <td>NaN</td>\n",
       "      <td>NaN</td>\n",
       "      <td>NaN</td>\n",
       "      <td>NaN</td>\n",
       "      <td>NaN</td>\n",
       "      <td>NaN</td>\n",
       "      <td>NaN</td>\n",
       "      <td>NaN</td>\n",
       "      <td>NaN</td>\n",
       "    </tr>\n",
       "    <tr>\n",
       "      <th>3</th>\n",
       "      <td>2018-05-18 00:11:14</td>\n",
       "      <td>viewed product</td>\n",
       "      <td>2d681dd8</td>\n",
       "      <td>NaN</td>\n",
       "      <td>11890.0</td>\n",
       "      <td>iPhone</td>\n",
       "      <td>Bom</td>\n",
       "      <td>128.0</td>\n",
       "      <td>Vermelho</td>\n",
       "      <td>NaN</td>\n",
       "      <td>...</td>\n",
       "      <td>NaN</td>\n",
       "      <td>NaN</td>\n",
       "      <td>NaN</td>\n",
       "      <td>NaN</td>\n",
       "      <td>NaN</td>\n",
       "      <td>NaN</td>\n",
       "      <td>NaN</td>\n",
       "      <td>NaN</td>\n",
       "      <td>NaN</td>\n",
       "      <td>NaN</td>\n",
       "    </tr>\n",
       "    <tr>\n",
       "      <th>4</th>\n",
       "      <td>2018-05-18 00:11:09</td>\n",
       "      <td>viewed product</td>\n",
       "      <td>cccea85e</td>\n",
       "      <td>NaN</td>\n",
       "      <td>7517.0</td>\n",
       "      <td>LG</td>\n",
       "      <td>Excelente</td>\n",
       "      <td>32.0</td>\n",
       "      <td>Branco</td>\n",
       "      <td>NaN</td>\n",
       "      <td>...</td>\n",
       "      <td>NaN</td>\n",
       "      <td>NaN</td>\n",
       "      <td>NaN</td>\n",
       "      <td>NaN</td>\n",
       "      <td>NaN</td>\n",
       "      <td>NaN</td>\n",
       "      <td>NaN</td>\n",
       "      <td>NaN</td>\n",
       "      <td>NaN</td>\n",
       "      <td>NaN</td>\n",
       "    </tr>\n",
       "  </tbody>\n",
       "</table>\n",
       "<p>5 rows × 23 columns</p>\n",
       "</div>"
      ],
      "text/plain": [
       "            timestamp           event    person  url      sku    model  \\\n",
       "0 2018-05-18 00:11:59  viewed product  4886f805  NaN   9288.0  Samsung   \n",
       "1 2018-05-18 00:11:27  viewed product  ad93850f  NaN    304.0   iPhone   \n",
       "2 2018-05-18 00:11:16  viewed product  0297fc1e  NaN   6888.0   iPhone   \n",
       "3 2018-05-18 00:11:14  viewed product  2d681dd8  NaN  11890.0   iPhone   \n",
       "4 2018-05-18 00:11:09  viewed product  cccea85e  NaN   7517.0       LG   \n",
       "\n",
       "   condition  storage           color skus       ...       search_engine  \\\n",
       "0  Excelente     32.0         Dourado  NaN       ...                 NaN   \n",
       "1  Muito Bom     32.0  Cinza espacial  NaN       ...                 NaN   \n",
       "2  Muito Bom     64.0        Prateado  NaN       ...                 NaN   \n",
       "3        Bom    128.0        Vermelho  NaN       ...                 NaN   \n",
       "4  Excelente     32.0          Branco  NaN       ...                 NaN   \n",
       "\n",
       "  channel new_vs_returning city region country device_type screen_resolution  \\\n",
       "0     NaN              NaN  NaN    NaN     NaN         NaN               NaN   \n",
       "1     NaN              NaN  NaN    NaN     NaN         NaN               NaN   \n",
       "2     NaN              NaN  NaN    NaN     NaN         NaN               NaN   \n",
       "3     NaN              NaN  NaN    NaN     NaN         NaN               NaN   \n",
       "4     NaN              NaN  NaN    NaN     NaN         NaN               NaN   \n",
       "\n",
       "  operating_system_version browser_version  \n",
       "0                      NaN             NaN  \n",
       "1                      NaN             NaN  \n",
       "2                      NaN             NaN  \n",
       "3                      NaN             NaN  \n",
       "4                      NaN             NaN  \n",
       "\n",
       "[5 rows x 23 columns]"
      ]
     },
     "execution_count": 13,
     "metadata": {},
     "output_type": "execute_result"
    }
   ],
   "source": [
    "df1.head()"
   ]
  },
  {
   "cell_type": "code",
   "execution_count": 14,
   "metadata": {},
   "outputs": [],
   "source": [
    "df_a = df1.loc[df1['event']=='conversion',:]"
   ]
  },
  {
   "cell_type": "code",
   "execution_count": 15,
   "metadata": {},
   "outputs": [
    {
     "data": {
      "text/plain": [
       "timestamp                      0\n",
       "event                          0\n",
       "person                         0\n",
       "url                         5498\n",
       "sku                            0\n",
       "model                          0\n",
       "condition                      0\n",
       "storage                        0\n",
       "color                          0\n",
       "skus                        5388\n",
       "search_term                 5498\n",
       "staticpage                  5498\n",
       "campaign_source             5498\n",
       "search_engine               5498\n",
       "channel                     5498\n",
       "new_vs_returning            5498\n",
       "city                        5498\n",
       "region                      5498\n",
       "country                     5498\n",
       "device_type                 5498\n",
       "screen_resolution           5498\n",
       "operating_system_version    5498\n",
       "browser_version             5498\n",
       "dtype: int64"
      ]
     },
     "execution_count": 15,
     "metadata": {},
     "output_type": "execute_result"
    }
   ],
   "source": [
    "df_a.isnull().sum()"
   ]
  },
  {
   "cell_type": "code",
   "execution_count": 16,
   "metadata": {},
   "outputs": [],
   "source": [
    "df_a_model = df_a.loc[:,['person','model','storage','color']].groupby('person')\\\n",
    "                .apply(lambda x: x['model'].value_counts().idxmax())\\\n",
    "                .reset_index().rename(columns={0:\"model\"})\n",
    "        \n",
    "df_a_storage = df_a.loc[:,['person','storage']].groupby('person')\\\n",
    "                .apply(lambda x: x['storage'].value_counts().idxmax())\\\n",
    "                .reset_index().rename(columns={0:\"storage\"})\n",
    "        \n",
    "df_a_condition = df_a.loc[:,['person','condition']].groupby('person')\\\n",
    "                .apply(lambda x: x['condition'].value_counts().idxmax())\\\n",
    "                .reset_index().rename(columns={0:\"condition\"})\n",
    "        \n",
    "df_a_color = df_a.loc[:,['person','color']].groupby('person')\\\n",
    "                .apply(lambda x: x['color'].value_counts().idxmax())\\\n",
    "                .reset_index().rename(columns={0:\"color\"})"
   ]
  },
  {
   "cell_type": "code",
   "execution_count": 17,
   "metadata": {},
   "outputs": [],
   "source": [
    "df_datos_convercion = df_a_model.merge(df_a_storage,how='left',on='person')\\\n",
    "                                .merge(df_a_condition,how='left',on='person')\\\n",
    "                                .merge(df_a_color,how='left',on='person')\\"
   ]
  },
  {
   "cell_type": "code",
   "execution_count": 18,
   "metadata": {},
   "outputs": [],
   "source": [
    "df_datos_convercion.to_csv(\"df_datos_convercion.csv\", index = True, header = True, sep = ',', \n",
    "          encoding = 'utf-8-sig')"
   ]
  },
  {
   "cell_type": "markdown",
   "metadata": {},
   "source": [
    "# Analisis para los eventos distintos de convercion"
   ]
  },
  {
   "cell_type": "code",
   "execution_count": 19,
   "metadata": {},
   "outputs": [],
   "source": [
    "df_a = df1.loc[df1['event']!='conversion',:]"
   ]
  },
  {
   "cell_type": "code",
   "execution_count": 20,
   "metadata": {},
   "outputs": [],
   "source": [
    "df_a_model = df_a.dropna(subset=['model']).loc[:,['person','model']].groupby('person')\\\n",
    "                .apply(lambda x: x['model'].value_counts().idxmax())\\\n",
    "                .reset_index().rename(columns={0:\"model_no_convercion\"})\n",
    "\n",
    "\n",
    "df_a_storage = df_a.dropna(subset=['storage']).loc[:,['person','storage']].groupby('person')\\\n",
    "                .apply(lambda x: x['storage'].value_counts().idxmax())\\\n",
    "                .reset_index().rename(columns={0:\"storage_no_convercion\"})\n",
    "        \n",
    "        \n",
    "df_a_condition = df_a.dropna(subset=['condition']).loc[:,['person','condition']].groupby('person')\\\n",
    "                .apply(lambda x: x['condition'].value_counts().idxmax())\\\n",
    "                .reset_index().rename(columns={0:\"condition_no_convercion\"})\n",
    "        \n",
    "        \n",
    "df_a_color = df_a.dropna(subset=['color']).loc[:,['person','color']].groupby('person')\\\n",
    "                .apply(lambda x: x['color'].value_counts().idxmax())\\\n",
    "                .reset_index().rename(columns={0:\"color_no_convercion\"})"
   ]
  },
  {
   "cell_type": "code",
   "execution_count": 21,
   "metadata": {},
   "outputs": [],
   "source": [
    "df_datos_no_convercion = df_a_model.merge(df_a_storage,how='left',on='person')\\\n",
    "                                .merge(df_a_condition,how='left',on='person')\\\n",
    "                                .merge(df_a_color,how='left',on='person')\\"
   ]
  },
  {
   "cell_type": "code",
   "execution_count": 22,
   "metadata": {},
   "outputs": [],
   "source": [
    "df_datos_no_convercion.to_csv(\"df_datos_no_convercion.csv\", index = True, header = True, sep = ',', \n",
    "          encoding = 'utf-8-sig')"
   ]
  },
  {
   "cell_type": "markdown",
   "metadata": {},
   "source": [
    "# Mergeo de los DF y procesamiento"
   ]
  },
  {
   "cell_type": "code",
   "execution_count": 23,
   "metadata": {},
   "outputs": [],
   "source": [
    "DF_a_procesar = df_datos_convercion.merge(df_datos_no_convercion,how='left',on='person')\\\n",
    "                                    .merge(df2,how='left',on='person')"
   ]
  },
  {
   "cell_type": "code",
   "execution_count": 24,
   "metadata": {},
   "outputs": [],
   "source": [
    "DF_a_procesar = DF_a_procesar.dropna(subset=['label'])"
   ]
  },
  {
   "cell_type": "code",
   "execution_count": 25,
   "metadata": {},
   "outputs": [],
   "source": [
    "def procesar_df(df):\n",
    "    df_2 = df\n",
    "    for element in df.index.tolist():\n",
    "        label = df.at[element,'label']\n",
    "        if label==0:\n",
    "            person = df.at[element,'person']\n",
    "            df_2.loc[df_2.person==person,['model']] = df.at[element,'model_no_convercion']\n",
    "            df_2.loc[df_2.person==person,['storage']] = df.at[element,'storage_no_convercion']\n",
    "            df_2.loc[df_2.person==person,['condition']] = df.at[element,'condition_no_convercion']\n",
    "            df_2.loc[df_2.person==person,['color']] = df.at[element,'color_no_convercion']\n",
    "    df_2 = df_2.loc[:,['person','model','storage','condition','color','label']]\n",
    "    return df_2"
   ]
  },
  {
   "cell_type": "code",
   "execution_count": 26,
   "metadata": {},
   "outputs": [],
   "source": [
    "dffinal=procesar_df(DF_a_procesar)"
   ]
  },
  {
   "cell_type": "markdown",
   "metadata": {},
   "source": [
    "Le agrego el serch_engine a la persona"
   ]
  },
  {
   "cell_type": "code",
   "execution_count": 27,
   "metadata": {},
   "outputs": [],
   "source": [
    "dfa = df1"
   ]
  },
  {
   "cell_type": "code",
   "execution_count": 28,
   "metadata": {},
   "outputs": [
    {
     "data": {
      "text/html": [
       "<div>\n",
       "<style scoped>\n",
       "    .dataframe tbody tr th:only-of-type {\n",
       "        vertical-align: middle;\n",
       "    }\n",
       "\n",
       "    .dataframe tbody tr th {\n",
       "        vertical-align: top;\n",
       "    }\n",
       "\n",
       "    .dataframe thead th {\n",
       "        text-align: right;\n",
       "    }\n",
       "</style>\n",
       "<table border=\"1\" class=\"dataframe\">\n",
       "  <thead>\n",
       "    <tr style=\"text-align: right;\">\n",
       "      <th></th>\n",
       "      <th>person</th>\n",
       "      <th>search_engine</th>\n",
       "    </tr>\n",
       "  </thead>\n",
       "  <tbody>\n",
       "    <tr>\n",
       "      <th>0</th>\n",
       "      <td>000ba417</td>\n",
       "      <td>Google</td>\n",
       "    </tr>\n",
       "    <tr>\n",
       "      <th>1</th>\n",
       "      <td>000c79fe</td>\n",
       "      <td>Google</td>\n",
       "    </tr>\n",
       "    <tr>\n",
       "      <th>2</th>\n",
       "      <td>000e4d9e</td>\n",
       "      <td>Google</td>\n",
       "    </tr>\n",
       "    <tr>\n",
       "      <th>3</th>\n",
       "      <td>000e619d</td>\n",
       "      <td>Google</td>\n",
       "    </tr>\n",
       "    <tr>\n",
       "      <th>4</th>\n",
       "      <td>0019e639</td>\n",
       "      <td>Google</td>\n",
       "    </tr>\n",
       "  </tbody>\n",
       "</table>\n",
       "</div>"
      ],
      "text/plain": [
       "     person search_engine\n",
       "0  000ba417        Google\n",
       "1  000c79fe        Google\n",
       "2  000e4d9e        Google\n",
       "3  000e619d        Google\n",
       "4  0019e639        Google"
      ]
     },
     "execution_count": 28,
     "metadata": {},
     "output_type": "execute_result"
    }
   ],
   "source": [
    "df_a_search_engine = dfa.dropna(subset=['search_engine']).loc[:,['person','search_engine']].groupby('person')\\\n",
    "                .apply(lambda x: x['search_engine'].value_counts().idxmax())\\\n",
    "                .reset_index().rename(columns={0:\"search_engine\"})\n",
    "df_a_search_engine.head()"
   ]
  },
  {
   "cell_type": "code",
   "execution_count": 29,
   "metadata": {},
   "outputs": [],
   "source": [
    "dffinal = dffinal.merge(df_a_search_engine,how='left',on='person')"
   ]
  },
  {
   "cell_type": "code",
   "execution_count": 30,
   "metadata": {},
   "outputs": [
    {
     "name": "stdout",
     "output_type": "stream",
     "text": [
      "<class 'pandas.core.frame.DataFrame'>\n",
      "Int64Index: 1395 entries, 0 to 1872\n",
      "Data columns (total 7 columns):\n",
      "person           1395 non-null object\n",
      "model            1395 non-null object\n",
      "storage          1395 non-null float64\n",
      "condition        1395 non-null object\n",
      "color            1395 non-null object\n",
      "label            1395 non-null float64\n",
      "search_engine    1395 non-null object\n",
      "dtypes: float64(2), object(5)\n",
      "memory usage: 87.2+ KB\n"
     ]
    }
   ],
   "source": [
    "dffinal = dffinal.dropna(subset=['search_engine'])\n",
    "dffinal.info()"
   ]
  },
  {
   "cell_type": "code",
   "execution_count": 31,
   "metadata": {},
   "outputs": [],
   "source": [
    "BRS = [\"Vivaldi\",\"Chrome\",\"Android\",\"Safari\",\"Chromium\",\"Opera\",\"Firefox\",\"UC\",\"Facebook\",\"Edge\",\"Samsung\",\"IE\"]\n",
    "i = 0\n",
    "def brow(obj) :\n",
    "    if(pd.isnull(obj)):\n",
    "        return obj\n",
    "    if(obj == \"\"):\n",
    "        return float(\"NaN\")\n",
    "    list = obj.split(\" \")\n",
    "    true_list = []\n",
    "    for word in list:\n",
    "        if word in BRS:\n",
    "            true_list.append(word)\n",
    "    if( len(true_list) == 0):\n",
    "        #print (' '.join(word for word in list))\n",
    "        return \"Other\"\n",
    "    \n",
    "    return ' '.join(word for word in true_list)\n",
    "    \n",
    "df1[\"browser\"] = df1[\"browser_version\"].apply(brow)"
   ]
  },
  {
   "cell_type": "code",
   "execution_count": 37,
   "metadata": {},
   "outputs": [
    {
     "data": {
      "text/html": [
       "<div>\n",
       "<style scoped>\n",
       "    .dataframe tbody tr th:only-of-type {\n",
       "        vertical-align: middle;\n",
       "    }\n",
       "\n",
       "    .dataframe tbody tr th {\n",
       "        vertical-align: top;\n",
       "    }\n",
       "\n",
       "    .dataframe thead th {\n",
       "        text-align: right;\n",
       "    }\n",
       "</style>\n",
       "<table border=\"1\" class=\"dataframe\">\n",
       "  <thead>\n",
       "    <tr style=\"text-align: right;\">\n",
       "      <th></th>\n",
       "      <th>person</th>\n",
       "      <th>browser</th>\n",
       "    </tr>\n",
       "  </thead>\n",
       "  <tbody>\n",
       "    <tr>\n",
       "      <th>0</th>\n",
       "      <td>0008ed71</td>\n",
       "      <td>Chrome</td>\n",
       "    </tr>\n",
       "    <tr>\n",
       "      <th>1</th>\n",
       "      <td>00091926</td>\n",
       "      <td>Chrome</td>\n",
       "    </tr>\n",
       "    <tr>\n",
       "      <th>2</th>\n",
       "      <td>000ba417</td>\n",
       "      <td>Chrome</td>\n",
       "    </tr>\n",
       "    <tr>\n",
       "      <th>3</th>\n",
       "      <td>000c79fe</td>\n",
       "      <td>Chrome</td>\n",
       "    </tr>\n",
       "    <tr>\n",
       "      <th>4</th>\n",
       "      <td>000e4d9e</td>\n",
       "      <td>Chrome</td>\n",
       "    </tr>\n",
       "  </tbody>\n",
       "</table>\n",
       "</div>"
      ],
      "text/plain": [
       "     person browser\n",
       "0  0008ed71  Chrome\n",
       "1  00091926  Chrome\n",
       "2  000ba417  Chrome\n",
       "3  000c79fe  Chrome\n",
       "4  000e4d9e  Chrome"
      ]
     },
     "execution_count": 37,
     "metadata": {},
     "output_type": "execute_result"
    }
   ],
   "source": [
    "dfb = df1\n",
    "df_a_browser = dfb.dropna(subset=['browser']).loc[:,['person','browser']].groupby('person')\\\n",
    "                .apply(lambda x: x['browser'].value_counts().idxmax())\\\n",
    "                .reset_index().rename(columns={0:\"browser\"})\n",
    "df_a_browser.head()"
   ]
  },
  {
   "cell_type": "code",
   "execution_count": 35,
   "metadata": {},
   "outputs": [],
   "source": [
    "dffinal = dffinal.merge(df_a_browser,how='left',on='person')"
   ]
  },
  {
   "cell_type": "code",
   "execution_count": 36,
   "metadata": {},
   "outputs": [
    {
     "name": "stdout",
     "output_type": "stream",
     "text": [
      "<class 'pandas.core.frame.DataFrame'>\n",
      "Int64Index: 1395 entries, 0 to 1394\n",
      "Data columns (total 8 columns):\n",
      "person           1395 non-null object\n",
      "model            1395 non-null object\n",
      "storage          1395 non-null float64\n",
      "condition        1395 non-null object\n",
      "color            1395 non-null object\n",
      "label            1395 non-null float64\n",
      "search_engine    1395 non-null object\n",
      "browser          1392 non-null object\n",
      "dtypes: float64(2), object(6)\n",
      "memory usage: 98.1+ KB\n"
     ]
    }
   ],
   "source": [
    "dffinal = dffinal.dropna(subset=['search_engine'])\n",
    "dffinal.info()"
   ]
  },
  {
   "cell_type": "markdown",
   "metadata": {},
   "source": [
    "Escribo el data frame para usar machine learning"
   ]
  },
  {
   "cell_type": "code",
   "execution_count": 39,
   "metadata": {},
   "outputs": [],
   "source": [
    "dffinal.to_csv(\"df_a_procesar.csv\", index = True, header = True, sep = ',', \n",
    "          encoding = 'utf-8-sig')"
   ]
  },
  {
   "cell_type": "code",
   "execution_count": null,
   "metadata": {},
   "outputs": [],
   "source": []
  }
 ],
 "metadata": {
  "kernelspec": {
   "display_name": "Python 2",
   "language": "python",
   "name": "python2"
  },
  "language_info": {
   "codemirror_mode": {
    "name": "ipython",
    "version": 2
   },
   "file_extension": ".py",
   "mimetype": "text/x-python",
   "name": "python",
   "nbconvert_exporter": "python",
   "pygments_lexer": "ipython2",
   "version": "2.7.14"
  }
 },
 "nbformat": 4,
 "nbformat_minor": 2
}
