{
 "cells": [
  {
   "cell_type": "code",
   "execution_count": 1,
   "metadata": {},
   "outputs": [],
   "source": [
    "import pandas as pd\n",
    "import numpy as np\n",
    "from os import listdir"
   ]
  },
  {
   "cell_type": "code",
   "execution_count": 2,
   "metadata": {},
   "outputs": [],
   "source": [
    "df1 = pd.read_csv(\"./csv/events_up_to_01062018.csv\",low_memory=False)"
   ]
  },
  {
   "cell_type": "code",
   "execution_count": 3,
   "metadata": {},
   "outputs": [],
   "source": [
    "df2 = pd.read_csv(\"./csv/labels_training_set.csv\")"
   ]
  },
  {
   "cell_type": "code",
   "execution_count": 4,
   "metadata": {},
   "outputs": [],
   "source": [
    "df1['timestamp'] = pd.to_datetime(df1['timestamp'])"
   ]
  },
  {
   "cell_type": "code",
   "execution_count": 5,
   "metadata": {},
   "outputs": [],
   "source": [
    "def modelo(obj):\n",
    "    if(pd.isnull(obj)):\n",
    "        return obj\n",
    "    \n",
    "    list = obj.split(\" \")\n",
    "    if len(list) == 1:\n",
    "        return obj\n",
    "    if \"iPhone\" in list:\n",
    "        return \"iPhone\"\n",
    "    if \"Samsung\" in list:\n",
    "        return \"Samsung\"\n",
    "    if \"Motorola\" in list:\n",
    "        return \"Motorola\"\n",
    "    if \"Lenovo\" in list:\n",
    "        return \"Lenovo\"\n",
    "    if \"Sony\" in list:\n",
    "        return \"Sony\"\n",
    "    if \"LG\" in list:\n",
    "        return \"LG\"\n",
    "    if \"Asus\" in list:\n",
    "        return \"Asus\"\n",
    "    if \"iPad\" in list:\n",
    "        return \"iPad\"\n",
    "    if \"Quantum\" in list:\n",
    "        return \"Quantum\"\n",
    "    return obj\n",
    "\n",
    "df1['model'] = df1['model'].apply(modelo)"
   ]
  },
  {
   "cell_type": "code",
   "execution_count": 6,
   "metadata": {},
   "outputs": [
    {
     "data": {
      "text/plain": [
       "iPhone              593603\n",
       "Samsung             501307\n",
       "Motorola            162914\n",
       "LG                   24814\n",
       "Sony                 15599\n",
       "Lenovo               11382\n",
       "iPad                  5663\n",
       "Asus                  4536\n",
       "Quantum               1693\n",
       "Outros TV LED 15         1\n",
       "Xiaomi Redmi 2           1\n",
       "Name: model, dtype: int64"
      ]
     },
     "execution_count": 6,
     "metadata": {},
     "output_type": "execute_result"
    }
   ],
   "source": [
    "df1['model'].value_counts()"
   ]
  },
  {
   "cell_type": "code",
   "execution_count": 7,
   "metadata": {},
   "outputs": [
    {
     "data": {
      "text/plain": [
       "viewed product       1248124\n",
       "brand listing         216312\n",
       "visited site          204069\n",
       "ad campaign hit       191388\n",
       "generic listing       160176\n",
       "searched products     130616\n",
       "search engine hit     106406\n",
       "checkout               65315\n",
       "staticpage             11201\n",
       "conversion              7091\n",
       "lead                     983\n",
       "Name: event, dtype: int64"
      ]
     },
     "execution_count": 7,
     "metadata": {},
     "output_type": "execute_result"
    }
   ],
   "source": [
    "df1['event'].value_counts()"
   ]
  },
  {
   "cell_type": "markdown",
   "metadata": {},
   "source": [
    "# Aalisis para evento convercion"
   ]
  },
  {
   "cell_type": "code",
   "execution_count": 8,
   "metadata": {},
   "outputs": [],
   "source": [
    "df_a = df1.loc[df1['event']=='conversion',:]"
   ]
  },
  {
   "cell_type": "code",
   "execution_count": 9,
   "metadata": {},
   "outputs": [
    {
     "data": {
      "text/plain": [
       "timestamp                      0\n",
       "event                          0\n",
       "person                         0\n",
       "url                         7091\n",
       "sku                            0\n",
       "model                          0\n",
       "condition                      0\n",
       "storage                        0\n",
       "color                          0\n",
       "skus                        6918\n",
       "search_term                 7091\n",
       "staticpage                  7091\n",
       "campaign_source             7091\n",
       "search_engine               7091\n",
       "channel                     7091\n",
       "new_vs_returning            7091\n",
       "city                        7091\n",
       "region                      7091\n",
       "country                     7091\n",
       "device_type                 7091\n",
       "screen_resolution           7091\n",
       "operating_system_version    7091\n",
       "browser_version             7091\n",
       "dtype: int64"
      ]
     },
     "execution_count": 9,
     "metadata": {},
     "output_type": "execute_result"
    }
   ],
   "source": [
    "df_a.isnull().sum()"
   ]
  },
  {
   "cell_type": "code",
   "execution_count": 10,
   "metadata": {},
   "outputs": [],
   "source": [
    "df_a_model = df_a.loc[:,['person','model','storage','color']].groupby('person')\\\n",
    "                .apply(lambda x: x['model'].value_counts().idxmax())\\\n",
    "                .reset_index().rename(columns={0:\"model\"})\n",
    "        \n",
    "df_a_storage = df_a.loc[:,['person','storage']].groupby('person')\\\n",
    "                .apply(lambda x: x['storage'].value_counts().idxmax())\\\n",
    "                .reset_index().rename(columns={0:\"storage\"})\n",
    "        \n",
    "df_a_condition = df_a.loc[:,['person','condition']].groupby('person')\\\n",
    "                .apply(lambda x: x['condition'].value_counts().idxmax())\\\n",
    "                .reset_index().rename(columns={0:\"condition\"})\n",
    "        \n",
    "df_a_color = df_a.loc[:,['person','color']].groupby('person')\\\n",
    "                .apply(lambda x: x['color'].value_counts().idxmax())\\\n",
    "                .reset_index().rename(columns={0:\"color\"})"
   ]
  },
  {
   "cell_type": "code",
   "execution_count": 11,
   "metadata": {},
   "outputs": [],
   "source": [
    "df_datos_convercion = df_a_model.merge(df_a_storage,how='left',on='person')\\\n",
    "                                .merge(df_a_condition,how='left',on='person')\\\n",
    "                                .merge(df_a_color,how='left',on='person')\\"
   ]
  },
  {
   "cell_type": "code",
   "execution_count": 12,
   "metadata": {},
   "outputs": [],
   "source": [
    "#df_datos_convercion.to_csv(\"df_datos_convercion.csv\", index = True, header = True, sep = ',', \n",
    "#          encoding = 'utf-8-sig')"
   ]
  },
  {
   "cell_type": "markdown",
   "metadata": {},
   "source": [
    "# Analisis para los eventos distintos de convercion"
   ]
  },
  {
   "cell_type": "code",
   "execution_count": 13,
   "metadata": {},
   "outputs": [],
   "source": [
    "df_a = df1.loc[df1['event']!='conversion',:]"
   ]
  },
  {
   "cell_type": "code",
   "execution_count": 14,
   "metadata": {},
   "outputs": [],
   "source": [
    "df_a_model = df_a.dropna(subset=['model']).loc[:,['person','model']].groupby('person')\\\n",
    "                .apply(lambda x: x['model'].value_counts().idxmax())\\\n",
    "                .reset_index().rename(columns={0:\"model_no_convercion\"})\n",
    "\n",
    "\n",
    "df_a_storage = df_a.dropna(subset=['storage']).loc[:,['person','storage']].groupby('person')\\\n",
    "                .apply(lambda x: x['storage'].value_counts().idxmax())\\\n",
    "                .reset_index().rename(columns={0:\"storage_no_convercion\"})\n",
    "        \n",
    "        \n",
    "df_a_condition = df_a.dropna(subset=['condition']).loc[:,['person','condition']].groupby('person')\\\n",
    "                .apply(lambda x: x['condition'].value_counts().idxmax())\\\n",
    "                .reset_index().rename(columns={0:\"condition_no_convercion\"})\n",
    "        \n",
    "        \n",
    "df_a_color = df_a.dropna(subset=['color']).loc[:,['person','color']].groupby('person')\\\n",
    "                .apply(lambda x: x['color'].value_counts().idxmax())\\\n",
    "                .reset_index().rename(columns={0:\"color_no_convercion\"})"
   ]
  },
  {
   "cell_type": "code",
   "execution_count": 15,
   "metadata": {},
   "outputs": [],
   "source": [
    "df_datos_no_convercion = df_a_model.merge(df_a_storage,how='left',on='person')\\\n",
    "                                .merge(df_a_condition,how='left',on='person')\\\n",
    "                                .merge(df_a_color,how='left',on='person')\\"
   ]
  },
  {
   "cell_type": "code",
   "execution_count": 16,
   "metadata": {},
   "outputs": [],
   "source": [
    "#df_datos_no_convercion.to_csv(\"df_datos_no_convercion.csv\", index = True, header = True, sep = ',', \n",
    "#          encoding = 'utf-8-sig')"
   ]
  },
  {
   "cell_type": "markdown",
   "metadata": {},
   "source": [
    "# Mergeo de los DF y procesamiento"
   ]
  },
  {
   "cell_type": "code",
   "execution_count": 18,
   "metadata": {},
   "outputs": [],
   "source": [
    "DF_a_procesar = df_datos_convercion.merge(df_datos_no_convercion,how='left',on='person')\\\n",
    "                                    .merge(df2,how='left',on='person')"
   ]
  },
  {
   "cell_type": "code",
   "execution_count": 19,
   "metadata": {},
   "outputs": [],
   "source": [
    "DF_a_procesar = DF_a_procesar.dropna(subset=['label'])"
   ]
  },
  {
   "cell_type": "code",
   "execution_count": 20,
   "metadata": {},
   "outputs": [],
   "source": [
    "def procesar_df(df):\n",
    "    df_2 = df\n",
    "    for element in df.index.tolist():\n",
    "        label = df.at[element,'label']\n",
    "        if label==0:\n",
    "            person = df.at[element,'person']\n",
    "            df_2.loc[df_2.person==person,['model']] = df.at[element,'model_no_convercion']\n",
    "            df_2.loc[df_2.person==person,['storage']] = df.at[element,'storage_no_convercion']\n",
    "            df_2.loc[df_2.person==person,['condition']] = df.at[element,'condition_no_convercion']\n",
    "            df_2.loc[df_2.person==person,['color']] = df.at[element,'color_no_convercion']\n",
    "    df_2 = df_2.loc[:,['person','model','storage','condition','color','label']]\n",
    "    return df_2"
   ]
  },
  {
   "cell_type": "code",
   "execution_count": 21,
   "metadata": {},
   "outputs": [],
   "source": [
    "dffinal=procesar_df(DF_a_procesar)"
   ]
  },
  {
   "cell_type": "markdown",
   "metadata": {},
   "source": [
    "Le agrego el serch_engine a la persona"
   ]
  },
  {
   "cell_type": "code",
   "execution_count": 22,
   "metadata": {},
   "outputs": [
    {
     "data": {
      "text/html": [
       "<div>\n",
       "<style scoped>\n",
       "    .dataframe tbody tr th:only-of-type {\n",
       "        vertical-align: middle;\n",
       "    }\n",
       "\n",
       "    .dataframe tbody tr th {\n",
       "        vertical-align: top;\n",
       "    }\n",
       "\n",
       "    .dataframe thead th {\n",
       "        text-align: right;\n",
       "    }\n",
       "</style>\n",
       "<table border=\"1\" class=\"dataframe\">\n",
       "  <thead>\n",
       "    <tr style=\"text-align: right;\">\n",
       "      <th></th>\n",
       "      <th>person</th>\n",
       "      <th>search_engine</th>\n",
       "    </tr>\n",
       "  </thead>\n",
       "  <tbody>\n",
       "    <tr>\n",
       "      <th>0</th>\n",
       "      <td>000ba417</td>\n",
       "      <td>Google</td>\n",
       "    </tr>\n",
       "    <tr>\n",
       "      <th>1</th>\n",
       "      <td>000c79fe</td>\n",
       "      <td>Google</td>\n",
       "    </tr>\n",
       "    <tr>\n",
       "      <th>2</th>\n",
       "      <td>000e4d9e</td>\n",
       "      <td>Google</td>\n",
       "    </tr>\n",
       "    <tr>\n",
       "      <th>3</th>\n",
       "      <td>000e619d</td>\n",
       "      <td>Google</td>\n",
       "    </tr>\n",
       "    <tr>\n",
       "      <th>4</th>\n",
       "      <td>0019e639</td>\n",
       "      <td>Google</td>\n",
       "    </tr>\n",
       "  </tbody>\n",
       "</table>\n",
       "</div>"
      ],
      "text/plain": [
       "     person search_engine\n",
       "0  000ba417        Google\n",
       "1  000c79fe        Google\n",
       "2  000e4d9e        Google\n",
       "3  000e619d        Google\n",
       "4  0019e639        Google"
      ]
     },
     "execution_count": 22,
     "metadata": {},
     "output_type": "execute_result"
    }
   ],
   "source": [
    "df_a_search_engine = df_a.dropna(subset=['search_engine']).loc[:,['person','search_engine']].groupby('person')\\\n",
    "                .apply(lambda x: x['search_engine'].value_counts().idxmax())\\\n",
    "                .reset_index().rename(columns={0:\"search_engine\"})\n",
    "df_a_search_engine.head()"
   ]
  },
  {
   "cell_type": "code",
   "execution_count": 23,
   "metadata": {},
   "outputs": [],
   "source": [
    "dffinal = dffinal.merge(df_a_search_engine,how='left',on='person')"
   ]
  },
  {
   "cell_type": "code",
   "execution_count": 25,
   "metadata": {},
   "outputs": [
    {
     "name": "stdout",
     "output_type": "stream",
     "text": [
      "<class 'pandas.core.frame.DataFrame'>\n",
      "Int64Index: 1712 entries, 0 to 2163\n",
      "Data columns (total 7 columns):\n",
      "person           1712 non-null object\n",
      "model            1712 non-null object\n",
      "storage          1712 non-null object\n",
      "condition        1712 non-null object\n",
      "color            1712 non-null object\n",
      "label            1712 non-null float64\n",
      "search_engine    1712 non-null object\n",
      "dtypes: float64(1), object(6)\n",
      "memory usage: 107.0+ KB\n"
     ]
    }
   ],
   "source": [
    "dffinal = dffinal.dropna(subset=['search_engine'])\n",
    "dffinal.info()"
   ]
  },
  {
   "cell_type": "markdown",
   "metadata": {},
   "source": [
    "Escribo el data frame para usar machine learning"
   ]
  },
  {
   "cell_type": "code",
   "execution_count": 26,
   "metadata": {},
   "outputs": [],
   "source": [
    "dffinal.to_csv(\"df_a_procesar.csv\", index = True, header = True, sep = ',', \n",
    "          encoding = 'utf-8-sig')"
   ]
  },
  {
   "cell_type": "code",
   "execution_count": null,
   "metadata": {},
   "outputs": [],
   "source": []
  }
 ],
 "metadata": {
  "kernelspec": {
   "display_name": "Python 2",
   "language": "python",
   "name": "python2"
  },
  "language_info": {
   "codemirror_mode": {
    "name": "ipython",
    "version": 2
   },
   "file_extension": ".py",
   "mimetype": "text/x-python",
   "name": "python",
   "nbconvert_exporter": "python",
   "pygments_lexer": "ipython2",
   "version": "2.7.14"
  }
 },
 "nbformat": 4,
 "nbformat_minor": 2
}
