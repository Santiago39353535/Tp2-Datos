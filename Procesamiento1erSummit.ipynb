{
 "cells": [
  {
   "cell_type": "code",
   "execution_count": 1,
   "metadata": {},
   "outputs": [],
   "source": [
    "import pandas as pd\n",
    "import numpy as np\n",
    "from os import listdir"
   ]
  },
  {
   "cell_type": "code",
   "execution_count": 2,
   "metadata": {},
   "outputs": [],
   "source": [
    "df1 = pd.read_csv(\"./csv/events_up_to_01062018.csv\",low_memory=False)"
   ]
  },
  {
   "cell_type": "code",
   "execution_count": 3,
   "metadata": {},
   "outputs": [],
   "source": [
    "df2 = pd.read_csv(\"./csv/labels_training_set.csv\")"
   ]
  },
  {
   "cell_type": "code",
   "execution_count": 4,
   "metadata": {},
   "outputs": [],
   "source": [
    "df1['timestamp'] = pd.to_datetime(df1['timestamp'])"
   ]
  },
  {
   "cell_type": "code",
   "execution_count": 5,
   "metadata": {},
   "outputs": [],
   "source": [
    "def modelo(obj):\n",
    "    if(pd.isnull(obj)):\n",
    "        return obj\n",
    "    \n",
    "    list = obj.split(\" \")\n",
    "    if len(list) == 1:\n",
    "        return obj\n",
    "    if \"iPhone\" in list:\n",
    "        return \"iPhone\"\n",
    "    if \"Samsung\" in list:\n",
    "        return \"Samsung\"\n",
    "    if \"Motorola\" in list:\n",
    "        return \"Motorola\"\n",
    "    if \"Lenovo\" in list:\n",
    "        return \"Lenovo\"\n",
    "    if \"Sony\" in list:\n",
    "        return \"Sony\"\n",
    "    if \"LG\" in list:\n",
    "        return \"LG\"\n",
    "    if \"Asus\" in list:\n",
    "        return \"Asus\"\n",
    "    if \"iPad\" in list:\n",
    "        return \"iPad\"\n",
    "    if \"Quantum\" in list:\n",
    "        return \"Quantum\"\n",
    "    return obj\n",
    "\n",
    "df1['model'] = df1['model'].apply(modelo)"
   ]
  },
  {
   "cell_type": "code",
   "execution_count": 6,
   "metadata": {},
   "outputs": [
    {
     "data": {
      "text/plain": [
       "iPhone              593603\n",
       "Samsung             501307\n",
       "Motorola            162914\n",
       "LG                   24814\n",
       "Sony                 15599\n",
       "Lenovo               11382\n",
       "iPad                  5663\n",
       "Asus                  4536\n",
       "Quantum               1693\n",
       "Outros TV LED 15         1\n",
       "Xiaomi Redmi 2           1\n",
       "Name: model, dtype: int64"
      ]
     },
     "execution_count": 6,
     "metadata": {},
     "output_type": "execute_result"
    }
   ],
   "source": [
    "df1['model'].value_counts()"
   ]
  },
  {
   "cell_type": "code",
   "execution_count": 7,
   "metadata": {},
   "outputs": [
    {
     "data": {
      "text/plain": [
       "viewed product       1248124\n",
       "brand listing         216312\n",
       "visited site          204069\n",
       "ad campaign hit       191388\n",
       "generic listing       160176\n",
       "searched products     130616\n",
       "search engine hit     106406\n",
       "checkout               65315\n",
       "staticpage             11201\n",
       "conversion              7091\n",
       "lead                     983\n",
       "Name: event, dtype: int64"
      ]
     },
     "execution_count": 7,
     "metadata": {},
     "output_type": "execute_result"
    }
   ],
   "source": [
    "df1['event'].value_counts()"
   ]
  },
  {
   "cell_type": "markdown",
   "metadata": {},
   "source": [
    "# Analisis para los eventos distintos de convercion"
   ]
  },
  {
   "cell_type": "code",
   "execution_count": 8,
   "metadata": {},
   "outputs": [],
   "source": [
    "df_a = df1"
   ]
  },
  {
   "cell_type": "code",
   "execution_count": 9,
   "metadata": {},
   "outputs": [],
   "source": [
    "df_a_model = df_a.dropna(subset=['model']).loc[:,['person','model']].groupby('person')\\\n",
    "                .apply(lambda x: x['model'].value_counts().idxmax())\\\n",
    "                .reset_index().rename(columns={0:\"model_no_convercion\"})\n",
    "\n",
    "\n",
    "df_a_storage = df_a.dropna(subset=['storage']).loc[:,['person','storage']].groupby('person')\\\n",
    "                .apply(lambda x: x['storage'].value_counts().idxmax())\\\n",
    "                .reset_index().rename(columns={0:\"storage_no_convercion\"})\n",
    "        \n",
    "        \n",
    "df_a_condition = df_a.dropna(subset=['condition']).loc[:,['person','condition']].groupby('person')\\\n",
    "                .apply(lambda x: x['condition'].value_counts().idxmax())\\\n",
    "                .reset_index().rename(columns={0:\"condition_no_convercion\"})\n",
    "        \n",
    "        \n",
    "df_a_color = df_a.dropna(subset=['color']).loc[:,['person','color']].groupby('person')\\\n",
    "                .apply(lambda x: x['color'].value_counts().idxmax())\\\n",
    "                .reset_index().rename(columns={0:\"color_no_convercion\"})\n",
    "\n",
    "df_a_search_engine = df_a.dropna(subset=['search_engine']).loc[:,['person','search_engine']].groupby('person')\\\n",
    "                .apply(lambda x: x['search_engine'].value_counts().idxmax())\\\n",
    "                .reset_index().rename(columns={0:\"search_engine\"})"
   ]
  },
  {
   "cell_type": "code",
   "execution_count": 10,
   "metadata": {},
   "outputs": [],
   "source": [
    "df_datos_no_convercion = df_a_model.merge(df_a_storage,how='left',on='person')\\\n",
    "                                .merge(df_a_condition,how='left',on='person')\\\n",
    "                                .merge(df_a_color,how='left',on='person')\\\n",
    "                                .merge(df_a_search_engine,how='left',on='person')"
   ]
  },
  {
   "cell_type": "code",
   "execution_count": 11,
   "metadata": {},
   "outputs": [],
   "source": [
    "dffinal = df_datos_no_convercion"
   ]
  },
  {
   "cell_type": "markdown",
   "metadata": {},
   "source": [
    "# Date"
   ]
  },
  {
   "cell_type": "markdown",
   "metadata": {},
   "source": [
    "# eventos por dia x usr ( al temporario)"
   ]
  },
  {
   "cell_type": "code",
   "execution_count": 12,
   "metadata": {},
   "outputs": [],
   "source": [
    "\n",
    "def dds(ele):# 0 -> lunes\n",
    "    if(ele.month == 1):\n",
    "        return (((ele.day + 6) % 7) == (i))\n",
    "    if(ele.month == 2):\n",
    "        return (((ele.day + 3 + 6) % 7) == i)\n",
    "    if(ele.month == 3):\n",
    "        return (((ele.day + 3 + 6) % 7) ==(i))\n",
    "    if(ele.month == 4):\n",
    "        return (((ele.day + 12) % 7) ==(i))\n",
    "    if(ele.month == 5):\n",
    "        return (((ele.day + 1 + 6) % 7) == (i))\n",
    "i = 0\n",
    "df1[\"lunes\"] = df1[\"timestamp\"].apply(dds)\n",
    "i = 1\n",
    "df1[\"martes\"] = df1[\"timestamp\"].apply(dds)\n",
    "i = 2\n",
    "df1[\"miercoles\"] = df1[\"timestamp\"].apply(dds)\n",
    "i = 3\n",
    "df1[\"jueves\"] = df1[\"timestamp\"].apply(dds)\n",
    "i = 4\n",
    "df1[\"viernes\"] = df1[\"timestamp\"].apply(dds)\n",
    "i = 5\n",
    "df1[\"sabado\"] = df1[\"timestamp\"].apply(dds)\n",
    "i = 6\n",
    "df1[\"domingo\"] = df1[\"timestamp\"].apply(dds)\n"
   ]
  },
  {
   "cell_type": "code",
   "execution_count": 13,
   "metadata": {},
   "outputs": [],
   "source": [
    "dffinal = dffinal.set_index(\"person\")"
   ]
  },
  {
   "cell_type": "markdown",
   "metadata": {},
   "source": [
    "# mayor cantidad de eventos separados por dia de la semaan por usr "
   ]
  },
  {
   "cell_type": "code",
   "execution_count": 14,
   "metadata": {},
   "outputs": [],
   "source": [
    "def diaMasGrande(fila):\n",
    "    aux = fila[\"lunes\"]\n",
    "    if(aux < fila[\"martes\"]):\n",
    "        aux = fila[\"martes\"]\n",
    "    if(aux < fila[\"miercoles\"]):\n",
    "        aux = fila[\"miercoles\"]\n",
    "    if(aux < fila[\"jueves\"]):\n",
    "        aux = fila[\"jueves\"]\n",
    "    if(aux < fila[\"viernes\"]):\n",
    "        aux = fila[\"viernes\"]\n",
    "    if(aux < fila[\"sabado\"]):\n",
    "        aux = fila[\"sabado\"]\n",
    "    if(aux < fila[\"domingo\"]):\n",
    "        aux = fila[\"domingo\"]\n",
    "    return aux\n",
    "dffinal[\"numero mas usado dia\"] = df1[[\"lunes\",\"martes\",\"miercoles\",\"jueves\",\"viernes\",\"sabado\",\"domingo\",\"person\"]].groupby(\"person\").sum().apply(diaMasGrande,axis = 1)"
   ]
  },
  {
   "cell_type": "markdown",
   "metadata": {},
   "source": [
    "# dia de la semana con mas eventos por usr"
   ]
  },
  {
   "cell_type": "code",
   "execution_count": 15,
   "metadata": {},
   "outputs": [],
   "source": [
    "def strDiaMasGrande(fila):\n",
    "    strAux = \"lunes\"\n",
    "    aux = fila[\"lunes\"]\n",
    "    if(aux < fila[\"martes\"]):\n",
    "        strAux = \"martes\"\n",
    "        aux = fila[\"martes\"]\n",
    "    if(aux < fila[\"miercoles\"]):\n",
    "        strAux = \"miercoles\"\n",
    "        aux = fila[\"miercoles\"]\n",
    "    if(aux < fila[\"jueves\"]):\n",
    "        strAux = \"jueves\"\n",
    "        aux = fila[\"jueves\"]\n",
    "    if(aux < fila[\"viernes\"]):\n",
    "        strAux = \"viernes\"\n",
    "        aux = fila[\"viernes\"]\n",
    "    if(aux < fila[\"sabado\"]):\n",
    "        strAux = \"sabado\"\n",
    "        aux = fila[\"sabado\"]\n",
    "    if(aux < fila[\"domingo\"]):\n",
    "        strAux = \"domingo\"\n",
    "        aux = fila[\"domingo\"]\n",
    "    return strAux\n",
    "dffinal[\"nombre mas usado dia\"] = df1[[\"lunes\",\"martes\",\"miercoles\",\"jueves\",\"viernes\",\"sabado\",\"domingo\",\"person\"]].groupby(\"person\").sum().apply(strDiaMasGrande,axis = 1)"
   ]
  },
  {
   "cell_type": "markdown",
   "metadata": {},
   "source": [
    "# cuento eventos por persona"
   ]
  },
  {
   "cell_type": "code",
   "execution_count": 16,
   "metadata": {},
   "outputs": [
    {
     "name": "stderr",
     "output_type": "stream",
     "text": [
      "/home/tito/.local/lib/python3.5/site-packages/ipykernel_launcher.py:2: SettingWithCopyWarning: \n",
      "A value is trying to be set on a copy of a slice from a DataFrame.\n",
      "Try using .loc[row_indexer,col_indexer] = value instead\n",
      "\n",
      "See the caveats in the documentation: http://pandas.pydata.org/pandas-docs/stable/indexing.html#indexing-view-versus-copy\n",
      "  \n"
     ]
    }
   ],
   "source": [
    "aux = df1[[\"event\",\"person\"]]\n",
    "aux[\"aux\"] = 1\n",
    "aux = aux.groupby([\"person\",\"event\"]).count()\n",
    "aux = aux.unstack().fillna(0).reset_index().reset_index()\n",
    "aux.columns = aux.columns.droplevel()\n",
    "aux[\"person\"] = aux.iloc[:, 1].values\n",
    "aux = aux.drop(\"\",axis = 1)"
   ]
  },
  {
   "cell_type": "code",
   "execution_count": 17,
   "metadata": {},
   "outputs": [],
   "source": [
    "dffinal = dffinal.reset_index()"
   ]
  },
  {
   "cell_type": "code",
   "execution_count": 18,
   "metadata": {},
   "outputs": [],
   "source": [
    "aux = pd.merge(aux,dffinal,on=\"person\",how=\"inner\")"
   ]
  },
  {
   "cell_type": "code",
   "execution_count": 19,
   "metadata": {},
   "outputs": [
    {
     "data": {
      "text/plain": [
       "Index(['ad campaign hit', 'brand listing', 'checkout', 'conversion',\n",
       "       'generic listing', 'lead', 'search engine hit', 'searched products',\n",
       "       'staticpage', 'viewed product', 'visited site', 'person',\n",
       "       'model_no_convercion', 'storage_no_convercion',\n",
       "       'condition_no_convercion', 'color_no_convercion', 'search_engine',\n",
       "       'numero mas usado dia', 'nombre mas usado dia'],\n",
       "      dtype='object')"
      ]
     },
     "execution_count": 19,
     "metadata": {},
     "output_type": "execute_result"
    }
   ],
   "source": [
    "aux.columns"
   ]
  },
  {
   "cell_type": "code",
   "execution_count": 20,
   "metadata": {},
   "outputs": [],
   "source": [
    "aux = aux.dropna(subset=[\"storage_no_convercion\"])"
   ]
  },
  {
   "cell_type": "code",
   "execution_count": 21,
   "metadata": {},
   "outputs": [],
   "source": [
    "aux[\"search_engine\"] = aux[\"search_engine\"].fillna(\"not\")"
   ]
  },
  {
   "cell_type": "code",
   "execution_count": 22,
   "metadata": {},
   "outputs": [],
   "source": [
    "aux[\"storage_no_convercion\"] = aux[\"storage_no_convercion\"].str.replace(\"GB\",\"\").replace(\"512MB\",\"0.5\")"
   ]
  },
  {
   "cell_type": "markdown",
   "metadata": {},
   "source": [
    "# ultimo evento/fecha de actividad/de de la semana activo"
   ]
  },
  {
   "cell_type": "code",
   "execution_count": 37,
   "metadata": {},
   "outputs": [],
   "source": [
    "temp = df1[[\"person\",\"timestamp\"]].groupby(\"person\").max().reset_index()\n",
    "aux[\"ultima_fecha_de_actividad\"] = temp[\"timestamp\"]"
   ]
  },
  {
   "cell_type": "code",
   "execution_count": 24,
   "metadata": {},
   "outputs": [],
   "source": [
    "diasDeLaSemana =[\"lunes\",\"martes\",\"miercoles\",\"jueves\",\"viernes\",\"sabado\",\"domingo\"]\n",
    "def dds2(ele):# 0 -> lunes\n",
    "    if(ele.month == 1):\n",
    "        for i in range(0,7):\n",
    "            if(((ele.day + 6) % 7) == (i)):\n",
    "                return diasDeLaSemana[i]  \n",
    "    if(ele.month == 2):\n",
    "        for i in range(0,7):\n",
    "            if(((ele.day + 9) % 7) == (i)):\n",
    "                return diasDeLaSemana[i]\n",
    "    if(ele.month == 3):\n",
    "        for i in range(0,7):\n",
    "            if(((ele.day + 9) % 7) == (i)):\n",
    "                return diasDeLaSemana[i]\n",
    "    if(ele.month == 4):\n",
    "        for i in range(0,7):\n",
    "            if(((ele.day + 12) % 7) == (i)):\n",
    "                return diasDeLaSemana[i]\n",
    "    if(ele.month == 5):\n",
    "        for i in range(0,7):\n",
    "            if(((ele.day) % 7) == (i)):\n",
    "                return diasDeLaSemana[i]\n",
    "            \n",
    "aux[\"ultimo_dia_de_la_semana_activo\"] = aux[\"ultima_fecha_de_actividad\"].apply(dds2)"
   ]
  },
  {
   "cell_type": "code",
   "execution_count": 25,
   "metadata": {},
   "outputs": [],
   "source": [
    "temp = df1[[\"person\",\"timestamp\"]].groupby(\"person\")[\"timestamp\"].max().reset_index()"
   ]
  },
  {
   "cell_type": "code",
   "execution_count": 26,
   "metadata": {},
   "outputs": [],
   "source": [
    "df2 = pd.merge( df1[[\"person\",\"timestamp\",\"event\"]],temp,on=[\"person\",\"timestamp\"],how=\"right\")\n",
    "#personas con varios eventos en el mismo timestamp/ como elegir cual evento fue el ultimo? \n",
    "#-->uso moda x q no se me ocurre nada mejor\n",
    "tmpmod = df2.groupby(\"person\").agg(pd.Series.mode)"
   ]
  },
  {
   "cell_type": "code",
   "execution_count": null,
   "metadata": {},
   "outputs": [],
   "source": []
  },
  {
   "cell_type": "code",
   "execution_count": 27,
   "metadata": {},
   "outputs": [],
   "source": [
    "aux[\"ultimo_evento_registrado_cmode\"] = tmpmod.reset_index()[\"event\"]"
   ]
  },
  {
   "cell_type": "code",
   "execution_count": 28,
   "metadata": {},
   "outputs": [
    {
     "data": {
      "text/plain": [
       "Index(['ad campaign hit', 'brand listing', 'checkout', 'conversion',\n",
       "       'generic listing', 'lead', 'search engine hit', 'searched products',\n",
       "       'staticpage', 'viewed product', 'visited site', 'person',\n",
       "       'model_no_convercion', 'storage_no_convercion',\n",
       "       'condition_no_convercion', 'color_no_convercion', 'search_engine',\n",
       "       'numero mas usado dia', 'nombre mas usado dia',\n",
       "       'ultima_fecha_de_actividad', 'ultimo_dia_de_la_semana_activo',\n",
       "       'ultimo_evento_registrado_cmode'],\n",
       "      dtype='object')"
      ]
     },
     "execution_count": 28,
     "metadata": {},
     "output_type": "execute_result"
    }
   ],
   "source": [
    "aux.columns"
   ]
  },
  {
   "cell_type": "code",
   "execution_count": 29,
   "metadata": {},
   "outputs": [],
   "source": []
  },
  {
   "cell_type": "code",
   "execution_count": 76,
   "metadata": {},
   "outputs": [],
   "source": [
    "aux[\"ultimo_dia\"] = aux[\"ultima_fecha_de_actividad\"].dt.day\n",
    "aux[\"ultimo_mes\"] = aux[\"ultima_fecha_de_actividad\"].dt.month\n",
    "aux[\"ultimo_hora\"] = aux[\"ultima_fecha_de_actividad\"].dt.hour\n",
    "del aux[\"ultima_fecha_de_actividad\"]"
   ]
  },
  {
   "cell_type": "code",
   "execution_count": 56,
   "metadata": {},
   "outputs": [],
   "source": [
    "temp = pd.to_datetime(\"06.01.2018\") - aux[\"ultima_fecha_de_actividad\"]"
   ]
  },
  {
   "cell_type": "code",
   "execution_count": 74,
   "metadata": {},
   "outputs": [],
   "source": [
    "aux[\"dias_hasta\"] = temp.reset_index()[\"ultima_fecha_de_actividad\"].dt.days"
   ]
  },
  {
   "cell_type": "code",
   "execution_count": 77,
   "metadata": {},
   "outputs": [],
   "source": [
    "aux.to_csv(\"features0,1.csv\",index = False)"
   ]
  },
  {
   "cell_type": "code",
   "execution_count": null,
   "metadata": {},
   "outputs": [],
   "source": []
  }
 ],
 "metadata": {
  "kernelspec": {
   "display_name": "Python 3",
   "language": "python",
   "name": "python3"
  },
  "language_info": {
   "codemirror_mode": {
    "name": "ipython",
    "version": 3
   },
   "file_extension": ".py",
   "mimetype": "text/x-python",
   "name": "python",
   "nbconvert_exporter": "python",
   "pygments_lexer": "ipython3",
   "version": "3.5.2"
  }
 },
 "nbformat": 4,
 "nbformat_minor": 2
}
