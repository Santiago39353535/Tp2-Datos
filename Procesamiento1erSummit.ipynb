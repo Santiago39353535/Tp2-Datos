{
 "cells": [
  {
   "cell_type": "code",
   "execution_count": 441,
   "metadata": {},
   "outputs": [],
   "source": [
    "import pandas as pd\n",
    "from functools import reduce\n",
    "import numpy as np\n",
    "import math as math\n",
    "from os import listdir"
   ]
  },
  {
   "cell_type": "code",
   "execution_count": 442,
   "metadata": {},
   "outputs": [
    {
     "name": "stderr",
     "output_type": "stream",
     "text": [
      "/home/tito/.local/lib/python3.5/site-packages/IPython/core/interactiveshell.py:2728: DtypeWarning: Columns (3,5,6,7,8,9,10,11,12,13,14,15,16,17,18,19,20,21,22) have mixed types. Specify dtype option on import or set low_memory=False.\n",
      "  interactivity=interactivity, compiler=compiler, result=result)\n"
     ]
    }
   ],
   "source": [
    "df1 = pd.read_csv(\"./csv/events_up_to_01062018.csv\")"
   ]
  },
  {
   "cell_type": "code",
   "execution_count": 443,
   "metadata": {},
   "outputs": [],
   "source": [
    "df2 = pd.read_csv(\"./csv/labels_training_set.csv\")"
   ]
  },
  {
   "cell_type": "code",
   "execution_count": 444,
   "metadata": {},
   "outputs": [],
   "source": [
    "df1['timestamp'] = pd.to_datetime(df1['timestamp'])"
   ]
  },
  {
   "cell_type": "code",
   "execution_count": 445,
   "metadata": {},
   "outputs": [],
   "source": [
    "def modelo(obj):\n",
    "    if(pd.isnull(obj)):\n",
    "        return obj\n",
    "    \n",
    "    list = obj.split(\" \")\n",
    "    if len(list) == 1:\n",
    "        return obj\n",
    "    if \"iPhone\" in list:\n",
    "        return \"iPhone\"\n",
    "    if \"Samsung\" in list:\n",
    "        return \"Samsung\"\n",
    "    if \"Motorola\" in list:\n",
    "        return \"Motorola\"\n",
    "    if \"Lenovo\" in list:\n",
    "        return \"Lenovo\"\n",
    "    if \"Sony\" in list:\n",
    "        return \"Sony\"\n",
    "    if \"LG\" in list:\n",
    "        return \"LG\"\n",
    "    if \"Asus\" in list:\n",
    "        return \"Asus\"\n",
    "    if \"iPad\" in list:\n",
    "        return \"iPad\"\n",
    "    if \"Quantum\" in list:\n",
    "        return \"Quantum\"\n",
    "    return obj\n",
    "\n",
    "df1['model'] = df1['model'].apply(modelo)"
   ]
  },
  {
   "cell_type": "code",
   "execution_count": 446,
   "metadata": {},
   "outputs": [
    {
     "data": {
      "text/plain": [
       "iPhone              593603\n",
       "Samsung             501307\n",
       "Motorola            162914\n",
       "LG                   24814\n",
       "Sony                 15599\n",
       "Lenovo               11382\n",
       "iPad                  5663\n",
       "Asus                  4536\n",
       "Quantum               1693\n",
       "Outros TV LED 15         1\n",
       "Xiaomi Redmi 2           1\n",
       "Name: model, dtype: int64"
      ]
     },
     "execution_count": 446,
     "metadata": {},
     "output_type": "execute_result"
    }
   ],
   "source": [
    "df1['model'].value_counts()"
   ]
  },
  {
   "cell_type": "code",
   "execution_count": 447,
   "metadata": {},
   "outputs": [
    {
     "data": {
      "text/plain": [
       "viewed product       1248124\n",
       "brand listing         216312\n",
       "visited site          204069\n",
       "ad campaign hit       191388\n",
       "generic listing       160176\n",
       "searched products     130616\n",
       "search engine hit     106406\n",
       "checkout               65315\n",
       "staticpage             11201\n",
       "conversion              7091\n",
       "lead                     983\n",
       "Name: event, dtype: int64"
      ]
     },
     "execution_count": 447,
     "metadata": {},
     "output_type": "execute_result"
    }
   ],
   "source": [
    "df1['event'].value_counts()"
   ]
  },
  {
   "cell_type": "markdown",
   "metadata": {},
   "source": [
    "# Analisis para los eventos distintos de convercion"
   ]
  },
  {
   "cell_type": "code",
   "execution_count": 448,
   "metadata": {},
   "outputs": [],
   "source": [
    "df_a = df1"
   ]
  },
  {
   "cell_type": "code",
   "execution_count": 449,
   "metadata": {},
   "outputs": [],
   "source": [
    "#calculo medianas de los modelos con eventos por persona\n",
    "df_a_model = df_a.dropna(subset=['model']).loc[:,['person','model']].groupby('person')\\\n",
    "                .apply(lambda x: x['model'].value_counts().idxmax())\\\n",
    "                .reset_index().rename(columns={0:\"model_no_convercion\"})\n",
    "\n",
    "\n",
    "df_a_storage = df_a.dropna(subset=['storage']).loc[:,['person','storage']].groupby('person')\\\n",
    "                .apply(lambda x: x['storage'].value_counts().idxmax())\\\n",
    "                .reset_index().rename(columns={0:\"storage_no_convercion\"})\n",
    "        \n",
    "        \n",
    "df_a_condition = df_a.dropna(subset=['condition']).loc[:,['person','condition']].groupby('person')\\\n",
    "                .apply(lambda x: x['condition'].value_counts().idxmax())\\\n",
    "                .reset_index().rename(columns={0:\"condition_no_convercion\"})\n",
    "        \n",
    "        \n",
    "df_a_color = df_a.dropna(subset=['color']).loc[:,['person','color']].groupby('person')\\\n",
    "                .apply(lambda x: x['color'].value_counts().idxmax())\\\n",
    "                .reset_index().rename(columns={0:\"color_no_convercion\"})\n",
    "\n",
    "df_a_search_engine = df_a.dropna(subset=['search_engine']).loc[:,['person','search_engine']].groupby('person')\\\n",
    "                .apply(lambda x: x['search_engine'].value_counts().idxmax())\\\n",
    "                .reset_index().rename(columns={0:\"search_engine\"})"
   ]
  },
  {
   "cell_type": "code",
   "execution_count": 450,
   "metadata": {},
   "outputs": [],
   "source": [
    "df_datos_no_convercion = df_a_model.merge(df_a_storage,how='left',on='person')\\\n",
    "                                .merge(df_a_condition,how='left',on='person')\\\n",
    "                                .merge(df_a_color,how='left',on='person')\\\n",
    "                                .merge(df_a_search_engine,how='left',on='person')"
   ]
  },
  {
   "cell_type": "code",
   "execution_count": 451,
   "metadata": {},
   "outputs": [],
   "source": [
    "dffinal = df_datos_no_convercion"
   ]
  },
  {
   "cell_type": "markdown",
   "metadata": {},
   "source": [
    "# Date"
   ]
  },
  {
   "cell_type": "markdown",
   "metadata": {},
   "source": [
    "# eventos por dia x usr ( al temporario)"
   ]
  },
  {
   "cell_type": "code",
   "execution_count": 452,
   "metadata": {},
   "outputs": [],
   "source": [
    "# creo columnas con lunes == true o false\n",
    "def dds(ele):# 0 -> lunes\n",
    "    if(ele.month == 1):\n",
    "        return (((ele.day + 6) % 7) == (i))\n",
    "    if(ele.month == 2):\n",
    "        return (((ele.day + 3 + 6) % 7) == i)\n",
    "    if(ele.month == 3):\n",
    "        return (((ele.day + 3 + 6) % 7) ==(i))\n",
    "    if(ele.month == 4):\n",
    "        return (((ele.day + 12) % 7) ==(i))\n",
    "    if(ele.month == 5):\n",
    "        return (((ele.day + 1 + 6) % 7) == (i))\n",
    "i = 0\n",
    "df1[\"lunes\"] = df1[\"timestamp\"].apply(dds)\n",
    "i = 1\n",
    "df1[\"martes\"] = df1[\"timestamp\"].apply(dds)\n",
    "i = 2\n",
    "df1[\"miercoles\"] = df1[\"timestamp\"].apply(dds)\n",
    "i = 3\n",
    "df1[\"jueves\"] = df1[\"timestamp\"].apply(dds)\n",
    "i = 4\n",
    "df1[\"viernes\"] = df1[\"timestamp\"].apply(dds)\n",
    "i = 5\n",
    "df1[\"sabado\"] = df1[\"timestamp\"].apply(dds)\n",
    "i = 6\n",
    "df1[\"domingo\"] = df1[\"timestamp\"].apply(dds)\n"
   ]
  },
  {
   "cell_type": "code",
   "execution_count": 453,
   "metadata": {},
   "outputs": [],
   "source": [
    "dffinal = dffinal.set_index(\"person\")"
   ]
  },
  {
   "cell_type": "markdown",
   "metadata": {},
   "source": [
    "# mayor cantidad de eventos separados por dia de la semaan por usr "
   ]
  },
  {
   "cell_type": "code",
   "execution_count": 454,
   "metadata": {},
   "outputs": [],
   "source": [
    "# mas actividad x dia semana\n",
    "def diaMasGrande(fila):\n",
    "    aux = fila[\"lunes\"]\n",
    "    if(aux < fila[\"martes\"]):\n",
    "        aux = fila[\"martes\"]\n",
    "    if(aux < fila[\"miercoles\"]):\n",
    "        aux = fila[\"miercoles\"]\n",
    "    if(aux < fila[\"jueves\"]):\n",
    "        aux = fila[\"jueves\"]\n",
    "    if(aux < fila[\"viernes\"]):\n",
    "        aux = fila[\"viernes\"]\n",
    "    if(aux < fila[\"sabado\"]):\n",
    "        aux = fila[\"sabado\"]\n",
    "    if(aux < fila[\"domingo\"]):\n",
    "        aux = fila[\"domingo\"]\n",
    "    return aux\n",
    "dffinal[\"numero mas usado dia\"] = df1[[\"lunes\",\"martes\",\"miercoles\",\"jueves\",\"viernes\",\"sabado\",\"domingo\",\"person\"]].groupby(\"person\").sum().apply(diaMasGrande,axis = 1)"
   ]
  },
  {
   "cell_type": "markdown",
   "metadata": {},
   "source": [
    "# dia de la semana con mas eventos por usr"
   ]
  },
  {
   "cell_type": "code",
   "execution_count": 455,
   "metadata": {},
   "outputs": [],
   "source": [
    "# dia de la semaan mas activa\n",
    "def strDiaMasGrande(fila):\n",
    "    strAux = \"lunes\"\n",
    "    aux = fila[\"lunes\"]\n",
    "    if(aux < fila[\"martes\"]):\n",
    "        strAux = \"martes\"\n",
    "        aux = fila[\"martes\"]\n",
    "    if(aux < fila[\"miercoles\"]):\n",
    "        strAux = \"miercoles\"\n",
    "        aux = fila[\"miercoles\"]\n",
    "    if(aux < fila[\"jueves\"]):\n",
    "        strAux = \"jueves\"\n",
    "        aux = fila[\"jueves\"]\n",
    "    if(aux < fila[\"viernes\"]):\n",
    "        strAux = \"viernes\"\n",
    "        aux = fila[\"viernes\"]\n",
    "    if(aux < fila[\"sabado\"]):\n",
    "        strAux = \"sabado\"\n",
    "        aux = fila[\"sabado\"]\n",
    "    if(aux < fila[\"domingo\"]):\n",
    "        strAux = \"domingo\"\n",
    "        aux = fila[\"domingo\"]\n",
    "    return strAux\n",
    "dffinal[\"nombre mas usado dia\"] = df1[[\"lunes\",\"martes\",\"miercoles\",\"jueves\",\"viernes\",\"sabado\",\"domingo\",\"person\"]].groupby(\"person\").sum().apply(strDiaMasGrande,axis = 1)"
   ]
  },
  {
   "cell_type": "markdown",
   "metadata": {},
   "source": [
    "# cuento eventos por persona"
   ]
  },
  {
   "cell_type": "code",
   "execution_count": 456,
   "metadata": {},
   "outputs": [
    {
     "name": "stderr",
     "output_type": "stream",
     "text": [
      "/home/tito/.local/lib/python3.5/site-packages/ipykernel_launcher.py:2: SettingWithCopyWarning: \n",
      "A value is trying to be set on a copy of a slice from a DataFrame.\n",
      "Try using .loc[row_indexer,col_indexer] = value instead\n",
      "\n",
      "See the caveats in the documentation: http://pandas.pydata.org/pandas-docs/stable/indexing.html#indexing-view-versus-copy\n",
      "  \n"
     ]
    }
   ],
   "source": [
    "aux = df1[[\"event\",\"person\"]]\n",
    "aux[\"aux\"] = 1\n",
    "aux = aux.groupby([\"person\",\"event\"]).count()\n",
    "aux = aux.unstack().fillna(0).reset_index().reset_index()\n",
    "aux.columns = aux.columns.droplevel()\n",
    "aux[\"person\"] = aux.iloc[:, 1].values\n",
    "aux = aux.drop(\"\",axis = 1)"
   ]
  },
  {
   "cell_type": "code",
   "execution_count": 457,
   "metadata": {},
   "outputs": [],
   "source": [
    "dffinal = dffinal.reset_index()"
   ]
  },
  {
   "cell_type": "code",
   "execution_count": 458,
   "metadata": {},
   "outputs": [],
   "source": [
    "aux = pd.merge(aux,dffinal,on=\"person\",how=\"inner\")"
   ]
  },
  {
   "cell_type": "code",
   "execution_count": 459,
   "metadata": {},
   "outputs": [
    {
     "data": {
      "text/plain": [
       "Index(['ad campaign hit', 'brand listing', 'checkout', 'conversion',\n",
       "       'generic listing', 'lead', 'search engine hit', 'searched products',\n",
       "       'staticpage', 'viewed product', 'visited site', 'person',\n",
       "       'model_no_convercion', 'storage_no_convercion',\n",
       "       'condition_no_convercion', 'color_no_convercion', 'search_engine',\n",
       "       'numero mas usado dia', 'nombre mas usado dia'],\n",
       "      dtype='object')"
      ]
     },
     "execution_count": 459,
     "metadata": {},
     "output_type": "execute_result"
    }
   ],
   "source": [
    "aux.columns"
   ]
  },
  {
   "cell_type": "code",
   "execution_count": 460,
   "metadata": {},
   "outputs": [],
   "source": [
    "aux = aux.dropna(subset=[\"storage_no_convercion\"])"
   ]
  },
  {
   "cell_type": "code",
   "execution_count": 461,
   "metadata": {},
   "outputs": [],
   "source": [
    "aux[\"search_engine\"] = aux[\"search_engine\"].fillna(\"not\")"
   ]
  },
  {
   "cell_type": "code",
   "execution_count": 462,
   "metadata": {},
   "outputs": [],
   "source": [
    "aux[\"storage_no_convercion\"] = aux[\"storage_no_convercion\"].str.replace(\"GB\",\"\").replace(\"512MB\",\"0.5\")"
   ]
  },
  {
   "cell_type": "markdown",
   "metadata": {},
   "source": [
    "# ultimo evento/fecha de actividad/de de la semana activo\n",
    "ultimos evento y su fecha y dias de la semana"
   ]
  },
  {
   "cell_type": "code",
   "execution_count": 463,
   "metadata": {},
   "outputs": [],
   "source": [
    "temp = df1[[\"person\",\"timestamp\"]].groupby(\"person\").max().reset_index()\n",
    "aux[\"ultima_fecha_de_actividad\"] = temp[\"timestamp\"]"
   ]
  },
  {
   "cell_type": "code",
   "execution_count": 464,
   "metadata": {},
   "outputs": [],
   "source": [
    "diasDeLaSemana =[\"lunes\",\"martes\",\"miercoles\",\"jueves\",\"viernes\",\"sabado\",\"domingo\"]\n",
    "def dds2(ele):# 0 -> lunes\n",
    "    if(ele.month == 1):\n",
    "        for i in range(0,7):\n",
    "            if(((ele.day + 6) % 7) == (i)):\n",
    "                return diasDeLaSemana[i]  \n",
    "    if(ele.month == 2):\n",
    "        for i in range(0,7):\n",
    "            if(((ele.day + 9) % 7) == (i)):\n",
    "                return diasDeLaSemana[i]\n",
    "    if(ele.month == 3):\n",
    "        for i in range(0,7):\n",
    "            if(((ele.day + 9) % 7) == (i)):\n",
    "                return diasDeLaSemana[i]\n",
    "    if(ele.month == 4):\n",
    "        for i in range(0,7):\n",
    "            if(((ele.day + 12) % 7) == (i)):\n",
    "                return diasDeLaSemana[i]\n",
    "    if(ele.month == 5):\n",
    "        for i in range(0,7):\n",
    "            if(((ele.day) % 7) == (i)):\n",
    "                return diasDeLaSemana[i]\n",
    "            \n",
    "aux[\"ultimo_dia_de_la_semana_activo\"] = aux[\"ultima_fecha_de_actividad\"].apply(dds2)"
   ]
  },
  {
   "cell_type": "code",
   "execution_count": 465,
   "metadata": {},
   "outputs": [],
   "source": [
    "temp = df1[[\"person\",\"timestamp\"]].groupby(\"person\")[\"timestamp\"].max().reset_index()"
   ]
  },
  {
   "cell_type": "code",
   "execution_count": 466,
   "metadata": {},
   "outputs": [],
   "source": [
    "df2 = pd.merge( df1[[\"person\",\"timestamp\",\"event\"]],temp,on=[\"person\",\"timestamp\"],how=\"right\")\n",
    "#personas con varios eventos en el mismo timestamp/ como elegir cual evento fue el ultimo? \n",
    "#-->uso moda x q no se me ocurre nada mejor\n",
    "tmpmod = df2.groupby(\"person\").agg(pd.Series.mode)"
   ]
  },
  {
   "cell_type": "code",
   "execution_count": null,
   "metadata": {},
   "outputs": [],
   "source": []
  },
  {
   "cell_type": "code",
   "execution_count": 467,
   "metadata": {},
   "outputs": [],
   "source": [
    "aux[\"ultimo_evento_registrado_cmode\"] = tmpmod.reset_index()[\"event\"]"
   ]
  },
  {
   "cell_type": "code",
   "execution_count": 468,
   "metadata": {},
   "outputs": [
    {
     "data": {
      "text/plain": [
       "Index(['ad campaign hit', 'brand listing', 'checkout', 'conversion',\n",
       "       'generic listing', 'lead', 'search engine hit', 'searched products',\n",
       "       'staticpage', 'viewed product', 'visited site', 'person',\n",
       "       'model_no_convercion', 'storage_no_convercion',\n",
       "       'condition_no_convercion', 'color_no_convercion', 'search_engine',\n",
       "       'numero mas usado dia', 'nombre mas usado dia',\n",
       "       'ultima_fecha_de_actividad', 'ultimo_dia_de_la_semana_activo',\n",
       "       'ultimo_evento_registrado_cmode'],\n",
       "      dtype='object')"
      ]
     },
     "execution_count": 468,
     "metadata": {},
     "output_type": "execute_result"
    }
   ],
   "source": [
    "aux.columns"
   ]
  },
  {
   "cell_type": "code",
   "execution_count": 469,
   "metadata": {},
   "outputs": [],
   "source": [
    "temp = pd.to_datetime(\"06.01.2018\") - aux[\"ultima_fecha_de_actividad\"]"
   ]
  },
  {
   "cell_type": "code",
   "execution_count": 470,
   "metadata": {},
   "outputs": [],
   "source": [
    "#lo paso a dias hasta el 1 / 06\n",
    "aux[\"dias_hasta\"] = temp.reset_index()[\"ultima_fecha_de_actividad\"].dt.days"
   ]
  },
  {
   "cell_type": "code",
   "execution_count": 471,
   "metadata": {},
   "outputs": [
    {
     "data": {
      "text/plain": [
       "array(['viewed product', 'searched products', 'ad campaign hit',\n",
       "       'staticpage', 'checkout', 'search engine hit', 'conversion',\n",
       "       'generic listing', 'brand listing', 'visited site', 'lead'],\n",
       "      dtype=object)"
      ]
     },
     "execution_count": 471,
     "metadata": {},
     "output_type": "execute_result"
    }
   ],
   "source": [
    "word = df1[\"event\"].unique()\n",
    "word"
   ]
  },
  {
   "cell_type": "code",
   "execution_count": 472,
   "metadata": {},
   "outputs": [],
   "source": [
    "# fecha ultimo evento\n",
    "ultimosEveFecha = df1[[\"person\",\"timestamp\"]].groupby(\"person\")[\"timestamp\"].max().reset_index().set_index(\"person\")\n",
    "del ultimosEveFecha[\"timestamp\"]"
   ]
  },
  {
   "cell_type": "code",
   "execution_count": 473,
   "metadata": {},
   "outputs": [],
   "source": [
    "eventList = df1[\"event\"].unique()\n",
    "for word in eventList:\n",
    "    ultimosEveFecha[word + \"_last\"] = df1.loc[df1[\"event\"] == word][[\"person\",\"timestamp\"]].groupby(\"person\").max()"
   ]
  },
  {
   "cell_type": "code",
   "execution_count": 474,
   "metadata": {},
   "outputs": [],
   "source": [
    "for word in eventList:\n",
    "    ultimosEveFecha[word + \"_last\"] = (pd.to_datetime(\"06.01.2018\") - pd.to_datetime(ultimosEveFecha[word + \"_last\"])).dt.days\n",
    "    ultimosEveFecha[word + \"_last\"] = ultimosEveFecha[word + \"_last\"].fillna(ultimosEveFecha[word + \"_last\"].mode()[0])"
   ]
  },
  {
   "cell_type": "code",
   "execution_count": null,
   "metadata": {
    "scrolled": true
   },
   "outputs": [],
   "source": [
    "#testear diferentes fills : en la linea de arriba cambiar mode() por el modo de relleno"
   ]
  },
  {
   "cell_type": "code",
   "execution_count": 475,
   "metadata": {},
   "outputs": [],
   "source": [
    "\n",
    "ultimosEveFecha = ultimosEveFecha.reset_index()"
   ]
  },
  {
   "cell_type": "code",
   "execution_count": 476,
   "metadata": {},
   "outputs": [],
   "source": [
    "aux = pd.merge(aux,ultimosEveFecha,on=\"person\",how=\"left\")"
   ]
  },
  {
   "cell_type": "code",
   "execution_count": 477,
   "metadata": {},
   "outputs": [
    {
     "data": {
      "text/plain": [
       "ad campaign hit                   0\n",
       "brand listing                     0\n",
       "checkout                          0\n",
       "conversion                        0\n",
       "generic listing                   0\n",
       "lead                              0\n",
       "search engine hit                 0\n",
       "searched products                 0\n",
       "staticpage                        0\n",
       "viewed product                    0\n",
       "visited site                      0\n",
       "person                            0\n",
       "model_no_convercion               0\n",
       "storage_no_convercion             0\n",
       "condition_no_convercion           0\n",
       "color_no_convercion               0\n",
       "search_engine                     0\n",
       "numero mas usado dia              0\n",
       "nombre mas usado dia              0\n",
       "ultima_fecha_de_actividad         0\n",
       "ultimo_dia_de_la_semana_activo    0\n",
       "ultimo_evento_registrado_cmode    0\n",
       "dias_hasta                        6\n",
       "viewed product_last               0\n",
       "searched products_last            0\n",
       "ad campaign hit_last              0\n",
       "staticpage_last                   0\n",
       "checkout_last                     0\n",
       "search engine hit_last            0\n",
       "conversion_last                   0\n",
       "generic listing_last              0\n",
       "brand listing_last                0\n",
       "visited site_last                 0\n",
       "lead_last                         0\n",
       "dtype: int64"
      ]
     },
     "execution_count": 477,
     "metadata": {},
     "output_type": "execute_result"
    }
   ],
   "source": [
    "aux.isna().sum()"
   ]
  },
  {
   "cell_type": "code",
   "execution_count": 478,
   "metadata": {},
   "outputs": [],
   "source": [
    "#cantidad de dias en los q entro\n",
    "df1[\"dias_hasta_1/6\"] = (pd.to_datetime(\"06.01.2018\") - df1[\"timestamp\"]).dt.days"
   ]
  },
  {
   "cell_type": "code",
   "execution_count": 479,
   "metadata": {},
   "outputs": [],
   "source": [
    "aux = aux.set_index(\"person\")\n",
    "aux[\"cantidad_de_dias_utilizado\"] = df1[[\"person\",\"dias_hasta_1/6\"]].groupby(\"person\")[\"dias_hasta_1/6\"].nunique().reset_index().set_index(\"person\")\n",
    "aux = aux.reset_index()"
   ]
  },
  {
   "cell_type": "code",
   "execution_count": 480,
   "metadata": {},
   "outputs": [
    {
     "data": {
      "text/plain": [
       "array(['viewed product', 'searched products', 'ad campaign hit',\n",
       "       'staticpage', 'checkout', 'search engine hit', 'conversion',\n",
       "       'generic listing', 'brand listing', 'visited site', 'lead'],\n",
       "      dtype=object)"
      ]
     },
     "execution_count": 480,
     "metadata": {},
     "output_type": "execute_result"
    }
   ],
   "source": [
    "eventList"
   ]
  },
  {
   "cell_type": "code",
   "execution_count": 481,
   "metadata": {},
   "outputs": [],
   "source": [
    "def concatenador(item):\n",
    "       return reduce(lambda x, y: x + y, item)"
   ]
  },
  {
   "cell_type": "code",
   "execution_count": 482,
   "metadata": {},
   "outputs": [],
   "source": [
    "#def enlistar(x):\n",
    "#    return [x]\n",
    "#df1[\"dias_hasta_1/6\"] = df1[\"dias_hasta_1/6\"].apply(enlistar)"
   ]
  },
  {
   "cell_type": "code",
   "execution_count": 483,
   "metadata": {},
   "outputs": [],
   "source": [
    "#aux[\"fechas_de_conversiones\"] = df1[[\"event\",\"person\",\"dias_hasta_1/6\"]].loc[df1[\"event\"] == \"conversion\"].groupby(\"person\")[\"dias_hasta_1/6\"].agg(concatenador).reset_index()[0]"
   ]
  },
  {
   "cell_type": "code",
   "execution_count": 484,
   "metadata": {},
   "outputs": [],
   "source": [
    "#aux[\"fechas_de_busqueda\"] = df1[[\"event\",\"person\",\"dias_hasta_1/6\"]].loc[df1[\"event\"] == \"searched products\"].groupby(\"person\")[\"dias_hasta_1/6\"].agg(concatenador).reset_index()[0]"
   ]
  },
  {
   "cell_type": "code",
   "execution_count": 485,
   "metadata": {},
   "outputs": [],
   "source": [
    "df1[\"dia_de_la_semana\"]= df1[\"timestamp\"].dt.dayofweek"
   ]
  },
  {
   "cell_type": "code",
   "execution_count": 486,
   "metadata": {},
   "outputs": [],
   "source": [
    "#aux[\"media_dia_de_la_semana_convercion\"] = df1.loc[df1.event == \"conversion\",[\"person\",\"dia_de_la_semana\"]].groupby('person')\\\n",
    " #       .apply(lambda x: x[\"dia_de_la_semana\"].value_counts().idxmax()).reset_index()[0]"
   ]
  },
  {
   "cell_type": "code",
   "execution_count": 487,
   "metadata": {},
   "outputs": [],
   "source": [
    "aux[\"media_dia_de_la_semana_no_convercion\"] = df1.loc[df1.event != \"conversion\",[\"person\",\"dia_de_la_semana\"]].groupby('person')\\\n",
    "        .apply(lambda x: x[\"dia_de_la_semana\"].value_counts().idxmax()).reset_index()[0]"
   ]
  },
  {
   "cell_type": "code",
   "execution_count": null,
   "metadata": {},
   "outputs": [],
   "source": []
  },
  {
   "cell_type": "code",
   "execution_count": null,
   "metadata": {
    "scrolled": true
   },
   "outputs": [],
   "source": []
  },
  {
   "cell_type": "code",
   "execution_count": null,
   "metadata": {},
   "outputs": [],
   "source": []
  },
  {
   "cell_type": "code",
   "execution_count": 488,
   "metadata": {},
   "outputs": [],
   "source": [
    "temp = df1[[\"dias_hasta_1/6\",\"person\"]].groupby(\"person\").apply(lambda x: x[\"dias_hasta_1/6\"].max() - x[\"dias_hasta_1/6\"].min()).reset_index() \n",
    "\n",
    "aux = pd.merge(aux,temp,on=\"person\",how=\"left\").rename(index=str, columns={0: \"delta_ultimo_primer_dia_actividad\"})"
   ]
  },
  {
   "cell_type": "code",
   "execution_count": 489,
   "metadata": {},
   "outputs": [],
   "source": [
    "temp = df1[[\"dias_hasta_1/6\",\"person\"]].groupby(\"person\").apply(lambda x: x[\"dias_hasta_1/6\"].max() - x[\"dias_hasta_1/6\"].nlargest(2).values[-1]).reset_index()\n",
    "\n",
    "aux = pd.merge(aux,temp,on=\"person\",how=\"left\").rename(index=str, columns={0: \"delta_ultimo_anteulit_tiempo_actividad\"})"
   ]
  },
  {
   "cell_type": "code",
   "execution_count": 490,
   "metadata": {},
   "outputs": [],
   "source": [
    "temp = df1[[\"dias_hasta_1/6\",\"person\"]].groupby(\"person\").apply(lambda x: x[\"dias_hasta_1/6\"].nsmallest(2).values[-1] - x[\"dias_hasta_1/6\"].min()).reset_index()\n",
    "\n",
    "aux = pd.merge(aux,temp,on=\"person\",how=\"left\").rename(index=str, columns={0: \"delta_primer_seg_tiempo_actividad\"})"
   ]
  },
  {
   "cell_type": "code",
   "execution_count": 491,
   "metadata": {},
   "outputs": [],
   "source": [
    "df1 = df1.sort_values(by=['person', 'dias_hasta_1/6'])\n"
   ]
  },
  {
   "cell_type": "code",
   "execution_count": 492,
   "metadata": {},
   "outputs": [],
   "source": [
    "\n",
    "df1[\"dTimeEveMax\"] = df1[[\"dias_hasta_1/6\",\"person\"]].groupby('person').diff().fillna(0)"
   ]
  },
  {
   "cell_type": "code",
   "execution_count": 493,
   "metadata": {},
   "outputs": [],
   "source": [
    "temp = df1[[\"person\",\"dTimeEve\"]].groupby('person').max().reset_index()\n",
    "aux = pd.merge(aux,temp,on=\"person\",how=\"left\")"
   ]
  },
  {
   "cell_type": "code",
   "execution_count": 496,
   "metadata": {},
   "outputs": [
    {
     "data": {
      "text/plain": [
       "person                                    0\n",
       "ad campaign hit                           0\n",
       "brand listing                             0\n",
       "checkout                                  0\n",
       "conversion                                0\n",
       "generic listing                           0\n",
       "lead                                      0\n",
       "search engine hit                         0\n",
       "searched products                         0\n",
       "staticpage                                0\n",
       "viewed product                            0\n",
       "visited site                              0\n",
       "model_no_convercion                       0\n",
       "storage_no_convercion                     0\n",
       "condition_no_convercion                   0\n",
       "color_no_convercion                       0\n",
       "search_engine                             0\n",
       "numero mas usado dia                      0\n",
       "nombre mas usado dia                      0\n",
       "ultimo_dia_de_la_semana_activo            0\n",
       "ultimo_evento_registrado_cmode            0\n",
       "dias_hasta                                6\n",
       "viewed product_last                       0\n",
       "searched products_last                    0\n",
       "ad campaign hit_last                      0\n",
       "staticpage_last                           0\n",
       "checkout_last                             0\n",
       "search engine hit_last                    0\n",
       "conversion_last                           0\n",
       "generic listing_last                      0\n",
       "brand listing_last                        0\n",
       "visited site_last                         0\n",
       "lead_last                                 0\n",
       "cantidad_de_dias_utilizado                0\n",
       "media_dia_de_la_semana_no_convercion      0\n",
       "delta_ultimo_primer_dia_actividad         0\n",
       "delta_ultimo_anteulit_tiempo_actividad    0\n",
       "delta_primer_seg_tiempo_actividad         0\n",
       "dTimeEve                                  0\n",
       "dtype: int64"
      ]
     },
     "execution_count": 496,
     "metadata": {},
     "output_type": "execute_result"
    }
   ],
   "source": [
    "aux.isna().sum()"
   ]
  },
  {
   "cell_type": "code",
   "execution_count": null,
   "metadata": {},
   "outputs": [],
   "source": []
  },
  {
   "cell_type": "code",
   "execution_count": 495,
   "metadata": {},
   "outputs": [],
   "source": [
    "del aux[\"ultima_fecha_de_actividad\"]\n",
    "aux.to_csv(\"features.csv\",index = False)"
   ]
  }
 ],
 "metadata": {
  "kernelspec": {
   "display_name": "Python 3",
   "language": "python",
   "name": "python3"
  },
  "language_info": {
   "codemirror_mode": {
    "name": "ipython",
    "version": 3
   },
   "file_extension": ".py",
   "mimetype": "text/x-python",
   "name": "python",
   "nbconvert_exporter": "python",
   "pygments_lexer": "ipython3",
   "version": "3.5.2"
  }
 },
 "nbformat": 4,
 "nbformat_minor": 2
}
