{
 "cells": [
  {
   "cell_type": "code",
   "execution_count": 2,
   "metadata": {},
   "outputs": [],
   "source": [
    "import pandas as pd\n",
    "import numpy as np\n",
    "from os import listdir"
   ]
  },
  {
   "cell_type": "code",
   "execution_count": 3,
   "metadata": {},
   "outputs": [],
   "source": [
    "df1 = pd.read_csv(\"./csv/events_up_to_01062018.csv\",low_memory=False)"
   ]
  },
  {
   "cell_type": "code",
   "execution_count": 4,
   "metadata": {},
   "outputs": [],
   "source": [
    "df2 = pd.read_csv(\"./csv/labels_training_set.csv\")"
   ]
  },
  {
   "cell_type": "code",
   "execution_count": 5,
   "metadata": {},
   "outputs": [],
   "source": [
    "df1['timestamp'] = pd.to_datetime(df1['timestamp'])"
   ]
  },
  {
   "cell_type": "code",
   "execution_count": 6,
   "metadata": {},
   "outputs": [],
   "source": [
    "def modelo(obj):\n",
    "    if(pd.isnull(obj)):\n",
    "        return obj\n",
    "    \n",
    "    list = obj.split(\" \")\n",
    "    if len(list) == 1:\n",
    "        return obj\n",
    "    if \"iPhone\" in list:\n",
    "        return \"iPhone\"\n",
    "    if \"Samsung\" in list:\n",
    "        return \"Samsung\"\n",
    "    if \"Motorola\" in list:\n",
    "        return \"Motorola\"\n",
    "    if \"Lenovo\" in list:\n",
    "        return \"Lenovo\"\n",
    "    if \"Sony\" in list:\n",
    "        return \"Sony\"\n",
    "    if \"LG\" in list:\n",
    "        return \"LG\"\n",
    "    if \"Asus\" in list:\n",
    "        return \"Asus\"\n",
    "    if \"iPad\" in list:\n",
    "        return \"iPad\"\n",
    "    if \"Quantum\" in list:\n",
    "        return \"Quantum\"\n",
    "    return obj\n",
    "\n",
    "df1['model'] = df1['model'].apply(modelo)"
   ]
  },
  {
   "cell_type": "code",
   "execution_count": 7,
   "metadata": {},
   "outputs": [
    {
     "data": {
      "text/plain": [
       "iPhone              593603\n",
       "Samsung             501307\n",
       "Motorola            162914\n",
       "LG                   24814\n",
       "Sony                 15599\n",
       "Lenovo               11382\n",
       "iPad                  5663\n",
       "Asus                  4536\n",
       "Quantum               1693\n",
       "Outros TV LED 15         1\n",
       "Xiaomi Redmi 2           1\n",
       "Name: model, dtype: int64"
      ]
     },
     "execution_count": 7,
     "metadata": {},
     "output_type": "execute_result"
    }
   ],
   "source": [
    "df1['model'].value_counts()"
   ]
  },
  {
   "cell_type": "code",
   "execution_count": 8,
   "metadata": {},
   "outputs": [
    {
     "data": {
      "text/plain": [
       "viewed product       1248124\n",
       "brand listing         216312\n",
       "visited site          204069\n",
       "ad campaign hit       191388\n",
       "generic listing       160176\n",
       "searched products     130616\n",
       "search engine hit     106406\n",
       "checkout               65315\n",
       "staticpage             11201\n",
       "conversion              7091\n",
       "lead                     983\n",
       "Name: event, dtype: int64"
      ]
     },
     "execution_count": 8,
     "metadata": {},
     "output_type": "execute_result"
    }
   ],
   "source": [
    "df1['event'].value_counts()"
   ]
  },
  {
   "cell_type": "markdown",
   "metadata": {},
   "source": [
    "# Analisis para los eventos distintos de convercion"
   ]
  },
  {
   "cell_type": "code",
   "execution_count": 139,
   "metadata": {},
   "outputs": [],
   "source": [
    "df_a = df1"
   ]
  },
  {
   "cell_type": "code",
   "execution_count": 148,
   "metadata": {},
   "outputs": [],
   "source": [
    "df_a_model = df_a.dropna(subset=['model']).loc[:,['person','model']].groupby('person')\\\n",
    "                .apply(lambda x: x['model'].value_counts().idxmax())\\\n",
    "                .reset_index().rename(columns={0:\"model_no_convercion\"})\n",
    "\n",
    "\n",
    "df_a_storage = df_a.dropna(subset=['storage']).loc[:,['person','storage']].groupby('person')\\\n",
    "                .apply(lambda x: x['storage'].value_counts().idxmax())\\\n",
    "                .reset_index().rename(columns={0:\"storage_no_convercion\"})\n",
    "        \n",
    "        \n",
    "df_a_condition = df_a.dropna(subset=['condition']).loc[:,['person','condition']].groupby('person')\\\n",
    "                .apply(lambda x: x['condition'].value_counts().idxmax())\\\n",
    "                .reset_index().rename(columns={0:\"condition_no_convercion\"})\n",
    "        \n",
    "        \n",
    "df_a_color = df_a.dropna(subset=['color']).loc[:,['person','color']].groupby('person')\\\n",
    "                .apply(lambda x: x['color'].value_counts().idxmax())\\\n",
    "                .reset_index().rename(columns={0:\"color_no_convercion\"})\n",
    "\n",
    "df_a_search_engine = df_a.dropna(subset=['search_engine']).loc[:,['person','search_engine']].groupby('person')\\\n",
    "                .apply(lambda x: x['search_engine'].value_counts().idxmax())\\\n",
    "                .reset_index().rename(columns={0:\"search_engine\"})"
   ]
  },
  {
   "cell_type": "code",
   "execution_count": 149,
   "metadata": {},
   "outputs": [],
   "source": [
    "df_datos_no_convercion = df_a_model.merge(df_a_storage,how='left',on='person')\\\n",
    "                                .merge(df_a_condition,how='left',on='person')\\\n",
    "                                .merge(df_a_color,how='left',on='person')\\\n",
    "                                .merge(df_a_search_engine,how='left',on='person')"
   ]
  },
  {
   "cell_type": "code",
   "execution_count": 150,
   "metadata": {},
   "outputs": [],
   "source": [
    "dffinal = df_datos_no_convercion"
   ]
  },
  {
   "cell_type": "markdown",
   "metadata": {},
   "source": [
    "# Date"
   ]
  },
  {
   "cell_type": "markdown",
   "metadata": {},
   "source": [
    "# eventos por dia x usr ( al temporario)"
   ]
  },
  {
   "cell_type": "code",
   "execution_count": 246,
   "metadata": {},
   "outputs": [],
   "source": [
    "\n",
    "def dds(ele):# 0 -> lunes\n",
    "    if(ele.month == 1):\n",
    "        return (((ele.day + i) % 7) == (i + 1))\n",
    "    if(ele.month == 2):\n",
    "        return (((ele.day + i + 4) % 7) == (i + 1))\n",
    "    if(ele.month == 3):\n",
    "        return (((ele.day + i + 4) % 7) ==(i + 1))\n",
    "    if(ele.month == 4):\n",
    "        return (((ele.day +  1) % 7) ==(i + 1))\n",
    "    if(ele.month == 5):\n",
    "        return (((ele.day + 1) % 7) == (i + 1))\n",
    "i = 0\n",
    "df1[\"lunes\"] = df1[\"timestamp\"].apply(dds)\n",
    "i = 1\n",
    "df1[\"martes\"] = df1[\"timestamp\"].apply(dds)\n",
    "i = 2\n",
    "df1[\"miercoles\"] = df1[\"timestamp\"].apply(dds)\n",
    "i = 3\n",
    "df1[\"jueves\"] = df1[\"timestamp\"].apply(dds)\n",
    "i = 4\n",
    "df1[\"viernes\"] = df1[\"timestamp\"].apply(dds)\n",
    "i = 5\n",
    "df1[\"sabado\"] = df1[\"timestamp\"].apply(dds)\n",
    "i = 6\n",
    "df1[\"domingo\"] = df1[\"timestamp\"].apply(dds)\n"
   ]
  },
  {
   "cell_type": "code",
   "execution_count": 247,
   "metadata": {},
   "outputs": [],
   "source": [
    "dffinal = dffinal.set_index(\"person\")"
   ]
  },
  {
   "cell_type": "markdown",
   "metadata": {},
   "source": [
    "# mayor cantidad de eventos separados por dia de la semaan por usr "
   ]
  },
  {
   "cell_type": "code",
   "execution_count": 248,
   "metadata": {},
   "outputs": [],
   "source": [
    "def diaMasGrande(fila):\n",
    "    aux = fila[\"lunes\"]\n",
    "    if(aux < fila[\"martes\"]):\n",
    "        aux = fila[\"martes\"]\n",
    "    if(aux < fila[\"miercoles\"]):\n",
    "        aux = fila[\"miercoles\"]\n",
    "    if(aux < fila[\"jueves\"]):\n",
    "        aux = fila[\"jueves\"]\n",
    "    if(aux < fila[\"viernes\"]):\n",
    "        aux = fila[\"viernes\"]\n",
    "    if(aux < fila[\"sabado\"]):\n",
    "        aux = fila[\"sabado\"]\n",
    "    if(aux < fila[\"domingo\"]):\n",
    "        aux = fila[\"domingo\"]\n",
    "    return aux\n",
    "dffinal[\"numero mas usado dia\"] = df1[[\"lunes\",\"martes\",\"miercoles\",\"jueves\",\"viernes\",\"sabado\",\"domingo\",\"person\"]].groupby(\"person\").sum().apply(diaMasGrande,axis = 1)"
   ]
  },
  {
   "cell_type": "markdown",
   "metadata": {},
   "source": [
    "# dia de la semana con mas eventos por usr"
   ]
  },
  {
   "cell_type": "code",
   "execution_count": 249,
   "metadata": {},
   "outputs": [],
   "source": [
    "def strDiaMasGrande(fila):\n",
    "    strAux = \"lunes\"\n",
    "    aux = fila[\"lunes\"]\n",
    "    if(aux < fila[\"martes\"]):\n",
    "        strAux = \"martes\"\n",
    "        aux = fila[\"martes\"]\n",
    "    if(aux < fila[\"miercoles\"]):\n",
    "        strAux = \"miercoles\"\n",
    "        aux = fila[\"miercoles\"]\n",
    "    if(aux < fila[\"jueves\"]):\n",
    "        strAux = \"jueves\"\n",
    "        aux = fila[\"jueves\"]\n",
    "    if(aux < fila[\"viernes\"]):\n",
    "        strAux = \"viernes\"\n",
    "        aux = fila[\"viernes\"]\n",
    "    if(aux < fila[\"sabado\"]):\n",
    "        strAux = \"sabado\"\n",
    "        aux = fila[\"sabado\"]\n",
    "    if(aux < fila[\"domingo\"]):\n",
    "        strAux = \"domingo\"\n",
    "        aux = fila[\"domingo\"]\n",
    "    return strAux\n",
    "dffinal[\"nombre mas usado dia\"] = df1[[\"lunes\",\"martes\",\"miercoles\",\"jueves\",\"viernes\",\"sabado\",\"domingo\",\"person\"]].groupby(\"person\").sum().apply(strDiaMasGrande,axis = 1)"
   ]
  },
  {
   "cell_type": "markdown",
   "metadata": {},
   "source": [
    "# cuento eventos por persona"
   ]
  },
  {
   "cell_type": "code",
   "execution_count": 262,
   "metadata": {},
   "outputs": [
    {
     "name": "stderr",
     "output_type": "stream",
     "text": [
      "/home/tito/.local/lib/python3.5/site-packages/ipykernel_launcher.py:2: SettingWithCopyWarning: \n",
      "A value is trying to be set on a copy of a slice from a DataFrame.\n",
      "Try using .loc[row_indexer,col_indexer] = value instead\n",
      "\n",
      "See the caveats in the documentation: http://pandas.pydata.org/pandas-docs/stable/indexing.html#indexing-view-versus-copy\n",
      "  \n"
     ]
    }
   ],
   "source": [
    "aux = df1[[\"event\",\"person\"]]\n",
    "aux[\"aux\"] = 1\n",
    "aux = aux.groupby([\"person\",\"event\"]).count()\n",
    "aux = aux.unstack().fillna(0).reset_index().reset_index()\n",
    "aux.columns = aux.columns.droplevel()\n",
    "aux[\"person\"] = aux.iloc[:, 1].values\n",
    "aux = aux.drop(\"\",axis = 1)"
   ]
  },
  {
   "cell_type": "code",
   "execution_count": 263,
   "metadata": {},
   "outputs": [],
   "source": [
    "dffinal = dffinal.reset_index()"
   ]
  },
  {
   "cell_type": "code",
   "execution_count": 264,
   "metadata": {},
   "outputs": [],
   "source": [
    "aux = pd.merge(aux,dffinal,on=\"person\",how=\"inner\")"
   ]
  },
  {
   "cell_type": "code",
   "execution_count": 161,
   "metadata": {},
   "outputs": [
    {
     "data": {
      "text/plain": [
       "Index(['ad campaign hit', 'brand listing', 'checkout', 'conversion',\n",
       "       'generic listing', 'lead', 'search engine hit', 'searched products',\n",
       "       'staticpage', 'viewed product', 'visited site', 'person', 'index',\n",
       "       'model_no_convercion', 'storage_no_convercion',\n",
       "       'condition_no_convercion', 'color_no_convercion', 'search_engine'],\n",
       "      dtype='object')"
      ]
     },
     "execution_count": 161,
     "metadata": {},
     "output_type": "execute_result"
    }
   ],
   "source": [
    "aux.columns"
   ]
  },
  {
   "cell_type": "code",
   "execution_count": 178,
   "metadata": {},
   "outputs": [],
   "source": [
    "# https://www.kaggle.com/ogrellier/python-target-encoding-for-categorical-features\n",
    "\n",
    "def add_noise(series, noise_level):\n",
    "    return series * (1 + noise_level * np.random.randn(len(series)))\n",
    "\n",
    "def target_encode(trn_series=None, \n",
    "                  tst_series=None, \n",
    "                  target=None, \n",
    "                  min_samples_leaf=1, \n",
    "                  smoothing=1,\n",
    "                  noise_level=0):\n",
    "   \n",
    "    assert len(trn_series) == len(target)\n",
    "   # assert trn_series.name == tst_series.name\n",
    "    temp = pd.concat([trn_series, target], axis=1)\n",
    "    # Compute target mean \n",
    "    averages = temp.groupby(by=trn_series.name)[target.name].agg([\"mean\", \"count\"])\n",
    "    # Compute smoothing\n",
    "    smoothing = 1 / (1 + np.exp(-(averages[\"count\"] - min_samples_leaf) / smoothing))\n",
    "    # Apply average function to all target data\n",
    "    prior = target.mean()\n",
    "    # The bigger the count the less full_avg is taken into account\n",
    "    averages[target.name] = prior * (1 - smoothing) + averages[\"mean\"] * smoothing\n",
    "    averages.drop([\"mean\", \"count\"], axis=1, inplace=True)\n",
    "    # Apply averages to trn and tst series\n",
    "    ft_trn_series = pd.merge(\n",
    "        trn_series.to_frame(trn_series.name),\n",
    "        averages.reset_index().rename(columns={'index': target.name, target.name: 'average'}),\n",
    "        on=trn_series.name,\n",
    "        how='left')['average'].rename(trn_series.name + '_mean').fillna(prior)\n",
    "    # pd.merge does not keep the index so restore it\n",
    "    ft_trn_series.index = trn_series.index \n",
    "    return add_noise(ft_trn_series, noise_level)"
   ]
  },
  {
   "cell_type": "code",
   "execution_count": 162,
   "metadata": {},
   "outputs": [],
   "source": [
    "def setPred(col):\n",
    "    if(col != 0):\n",
    "        return 1\n",
    "    else:\n",
    "        return 0"
   ]
  },
  {
   "cell_type": "code",
   "execution_count": 265,
   "metadata": {},
   "outputs": [],
   "source": [
    "aux = aux.dropna(subset=[\"storage_no_convercion\"])"
   ]
  },
  {
   "cell_type": "code",
   "execution_count": 266,
   "metadata": {
    "scrolled": true
   },
   "outputs": [],
   "source": [
    "prediccion = aux[\"conversion\"].apply(setPred)"
   ]
  },
  {
   "cell_type": "code",
   "execution_count": 267,
   "metadata": {},
   "outputs": [],
   "source": [
    "aux[\"search_engine\"] = aux[\"search_engine\"].fillna(\"not\")"
   ]
  },
  {
   "cell_type": "code",
   "execution_count": 268,
   "metadata": {},
   "outputs": [],
   "source": [
    "aux[\"viewed product2\"] =  target_encode(trn_series = aux[\"model_no_convercion\"],  \\\n",
    "                         target=prediccion, \\\n",
    "                         min_samples_leaf=50,\\\n",
    "                         smoothing=5,\\\n",
    "                         noise_level=0.01)\n",
    "\n",
    "aux[\"condition_no_convercion2\"] =  target_encode(trn_series = aux[\"condition_no_convercion\"],  \\\n",
    "                         target=prediccion, \\\n",
    "                         min_samples_leaf=50,\\\n",
    "                         smoothing=5,\\\n",
    "                         noise_level=0.01)\n",
    "\n",
    "aux[\"color_no_convercion2\"] =  target_encode(trn_series = aux[\"color_no_convercion\"],  \\\n",
    "                         target=prediccion, \\\n",
    "                         min_samples_leaf=50,\\\n",
    "                         smoothing=5,\\\n",
    "                         noise_level=0.01)\n",
    "\n",
    "aux[\"search_engine2\"] =  target_encode(trn_series = aux[\"search_engine\"],  \\\n",
    "                         target=prediccion, \\\n",
    "                         min_samples_leaf=50,\\\n",
    "                         smoothing=5,\\\n",
    "                         noise_level=0.01)\n",
    "\n",
    "aux[\"nombre mas usado dia2\"] =  target_encode(trn_series = aux[\"nombre mas usado dia\"],  \\\n",
    "                         target=prediccion, \\\n",
    "                         min_samples_leaf=50,\\\n",
    "                         smoothing=5,\\\n",
    "                         noise_level=0.01)\n",
    "\n"
   ]
  },
  {
   "cell_type": "code",
   "execution_count": 269,
   "metadata": {},
   "outputs": [],
   "source": [
    "aux[\"storage_no_convercion\"] = aux[\"storage_no_convercion\"].str.replace(\"GB\",\"\").replace(\"512MB\",\"0.5\")"
   ]
  },
  {
   "cell_type": "code",
   "execution_count": 270,
   "metadata": {},
   "outputs": [],
   "source": [
    "aux = aux.drop([\"level_0\",\"nombre mas usado dia\",\"index\",\"model_no_convercion\",\"condition_no_convercion\",\"color_no_convercion\",\"search_engine\",\"viewed product2\"],axis = 1)"
   ]
  },
  {
   "cell_type": "code",
   "execution_count": 271,
   "metadata": {},
   "outputs": [
    {
     "data": {
      "text/html": [
       "<div>\n",
       "<style scoped>\n",
       "    .dataframe tbody tr th:only-of-type {\n",
       "        vertical-align: middle;\n",
       "    }\n",
       "\n",
       "    .dataframe tbody tr th {\n",
       "        vertical-align: top;\n",
       "    }\n",
       "\n",
       "    .dataframe thead th {\n",
       "        text-align: right;\n",
       "    }\n",
       "</style>\n",
       "<table border=\"1\" class=\"dataframe\">\n",
       "  <thead>\n",
       "    <tr style=\"text-align: right;\">\n",
       "      <th></th>\n",
       "      <th>ad campaign hit</th>\n",
       "      <th>brand listing</th>\n",
       "      <th>checkout</th>\n",
       "      <th>conversion</th>\n",
       "      <th>generic listing</th>\n",
       "      <th>lead</th>\n",
       "      <th>search engine hit</th>\n",
       "      <th>searched products</th>\n",
       "      <th>staticpage</th>\n",
       "      <th>viewed product</th>\n",
       "      <th>visited site</th>\n",
       "      <th>person</th>\n",
       "      <th>level_0</th>\n",
       "      <th>storage_no_convercion</th>\n",
       "      <th>numero mas usado dia</th>\n",
       "      <th>condition_no_convercion2</th>\n",
       "      <th>color_no_convercion2</th>\n",
       "      <th>search_engine2</th>\n",
       "      <th>nombre mas usado dia2</th>\n",
       "    </tr>\n",
       "  </thead>\n",
       "  <tbody>\n",
       "    <tr>\n",
       "      <th>0</th>\n",
       "      <td>0.0</td>\n",
       "      <td>0.0</td>\n",
       "      <td>3.0</td>\n",
       "      <td>0.0</td>\n",
       "      <td>1.0</td>\n",
       "      <td>0.0</td>\n",
       "      <td>0.0</td>\n",
       "      <td>0.0</td>\n",
       "      <td>0.0</td>\n",
       "      <td>0.0</td>\n",
       "      <td>2.0</td>\n",
       "      <td>0008ed71</td>\n",
       "      <td>0</td>\n",
       "      <td>32</td>\n",
       "      <td>6.0</td>\n",
       "      <td>0.110789</td>\n",
       "      <td>0.142831</td>\n",
       "      <td>0.068132</td>\n",
       "      <td>0.110431</td>\n",
       "    </tr>\n",
       "    <tr>\n",
       "      <th>1</th>\n",
       "      <td>15.0</td>\n",
       "      <td>25.0</td>\n",
       "      <td>2.0</td>\n",
       "      <td>0.0</td>\n",
       "      <td>0.0</td>\n",
       "      <td>0.0</td>\n",
       "      <td>0.0</td>\n",
       "      <td>0.0</td>\n",
       "      <td>0.0</td>\n",
       "      <td>372.0</td>\n",
       "      <td>34.0</td>\n",
       "      <td>00091926</td>\n",
       "      <td>1</td>\n",
       "      <td>32</td>\n",
       "      <td>86.0</td>\n",
       "      <td>0.125877</td>\n",
       "      <td>0.113719</td>\n",
       "      <td>0.068107</td>\n",
       "      <td>0.123239</td>\n",
       "    </tr>\n",
       "    <tr>\n",
       "      <th>2</th>\n",
       "      <td>1.0</td>\n",
       "      <td>5.0</td>\n",
       "      <td>0.0</td>\n",
       "      <td>0.0</td>\n",
       "      <td>0.0</td>\n",
       "      <td>0.0</td>\n",
       "      <td>0.0</td>\n",
       "      <td>0.0</td>\n",
       "      <td>0.0</td>\n",
       "      <td>3.0</td>\n",
       "      <td>1.0</td>\n",
       "      <td>00091a7a</td>\n",
       "      <td>2</td>\n",
       "      <td>16</td>\n",
       "      <td>0.0</td>\n",
       "      <td>0.108758</td>\n",
       "      <td>0.081010</td>\n",
       "      <td>0.067652</td>\n",
       "      <td>0.097313</td>\n",
       "    </tr>\n",
       "    <tr>\n",
       "      <th>3</th>\n",
       "      <td>1.0</td>\n",
       "      <td>24.0</td>\n",
       "      <td>6.0</td>\n",
       "      <td>1.0</td>\n",
       "      <td>14.0</td>\n",
       "      <td>0.0</td>\n",
       "      <td>1.0</td>\n",
       "      <td>0.0</td>\n",
       "      <td>0.0</td>\n",
       "      <td>153.0</td>\n",
       "      <td>6.0</td>\n",
       "      <td>000ba417</td>\n",
       "      <td>3</td>\n",
       "      <td>16</td>\n",
       "      <td>147.0</td>\n",
       "      <td>0.111960</td>\n",
       "      <td>0.142824</td>\n",
       "      <td>0.134858</td>\n",
       "      <td>0.113900</td>\n",
       "    </tr>\n",
       "    <tr>\n",
       "      <th>4</th>\n",
       "      <td>1.0</td>\n",
       "      <td>0.0</td>\n",
       "      <td>1.0</td>\n",
       "      <td>0.0</td>\n",
       "      <td>1.0</td>\n",
       "      <td>0.0</td>\n",
       "      <td>1.0</td>\n",
       "      <td>9.0</td>\n",
       "      <td>0.0</td>\n",
       "      <td>3.0</td>\n",
       "      <td>1.0</td>\n",
       "      <td>000c79fe</td>\n",
       "      <td>4</td>\n",
       "      <td>128</td>\n",
       "      <td>17.0</td>\n",
       "      <td>0.110775</td>\n",
       "      <td>0.062083</td>\n",
       "      <td>0.132483</td>\n",
       "      <td>0.112307</td>\n",
       "    </tr>\n",
       "  </tbody>\n",
       "</table>\n",
       "</div>"
      ],
      "text/plain": [
       "   ad campaign hit  brand listing  checkout  conversion  generic listing  \\\n",
       "0              0.0            0.0       3.0         0.0              1.0   \n",
       "1             15.0           25.0       2.0         0.0              0.0   \n",
       "2              1.0            5.0       0.0         0.0              0.0   \n",
       "3              1.0           24.0       6.0         1.0             14.0   \n",
       "4              1.0            0.0       1.0         0.0              1.0   \n",
       "\n",
       "   lead  search engine hit  searched products  staticpage  viewed product  \\\n",
       "0   0.0                0.0                0.0         0.0             0.0   \n",
       "1   0.0                0.0                0.0         0.0           372.0   \n",
       "2   0.0                0.0                0.0         0.0             3.0   \n",
       "3   0.0                1.0                0.0         0.0           153.0   \n",
       "4   0.0                1.0                9.0         0.0             3.0   \n",
       "\n",
       "   visited site    person  level_0 storage_no_convercion  \\\n",
       "0           2.0  0008ed71        0                    32   \n",
       "1          34.0  00091926        1                    32   \n",
       "2           1.0  00091a7a        2                    16   \n",
       "3           6.0  000ba417        3                    16   \n",
       "4           1.0  000c79fe        4                   128   \n",
       "\n",
       "   numero mas usado dia  condition_no_convercion2  color_no_convercion2  \\\n",
       "0                   6.0                  0.110789              0.142831   \n",
       "1                  86.0                  0.125877              0.113719   \n",
       "2                   0.0                  0.108758              0.081010   \n",
       "3                 147.0                  0.111960              0.142824   \n",
       "4                  17.0                  0.110775              0.062083   \n",
       "\n",
       "   search_engine2  nombre mas usado dia2  \n",
       "0        0.068132               0.110431  \n",
       "1        0.068107               0.123239  \n",
       "2        0.067652               0.097313  \n",
       "3        0.134858               0.113900  \n",
       "4        0.132483               0.112307  "
      ]
     },
     "execution_count": 271,
     "metadata": {},
     "output_type": "execute_result"
    }
   ],
   "source": [
    "aux.head()"
   ]
  },
  {
   "cell_type": "code",
   "execution_count": 272,
   "metadata": {},
   "outputs": [],
   "source": [
    "aux.to_csv(\"features0,0.csv\")"
   ]
  },
  {
   "cell_type": "code",
   "execution_count": null,
   "metadata": {},
   "outputs": [],
   "source": []
  },
  {
   "cell_type": "code",
   "execution_count": null,
   "metadata": {},
   "outputs": [],
   "source": []
  },
  {
   "cell_type": "code",
   "execution_count": null,
   "metadata": {},
   "outputs": [],
   "source": []
  },
  {
   "cell_type": "code",
   "execution_count": null,
   "metadata": {},
   "outputs": [],
   "source": []
  },
  {
   "cell_type": "code",
   "execution_count": null,
   "metadata": {},
   "outputs": [],
   "source": []
  },
  {
   "cell_type": "code",
   "execution_count": null,
   "metadata": {},
   "outputs": [],
   "source": []
  }
 ],
 "metadata": {
  "kernelspec": {
   "display_name": "Python 3",
   "language": "python",
   "name": "python3"
  },
  "language_info": {
   "codemirror_mode": {
    "name": "ipython",
    "version": 3
   },
   "file_extension": ".py",
   "mimetype": "text/x-python",
   "name": "python",
   "nbconvert_exporter": "python",
   "pygments_lexer": "ipython3",
   "version": "3.5.2"
  }
 },
 "nbformat": 4,
 "nbformat_minor": 2
}
