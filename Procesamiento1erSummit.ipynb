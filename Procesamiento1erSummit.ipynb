{
 "cells": [
  {
   "cell_type": "code",
   "execution_count": 1,
   "metadata": {},
   "outputs": [],
   "source": [
    "import pandas as pd\n",
    "from functools import reduce\n",
    "import numpy as np\n",
    "import math as math\n",
    "from os import listdir"
   ]
  },
  {
   "cell_type": "code",
   "execution_count": 2,
   "metadata": {},
   "outputs": [
    {
     "name": "stderr",
     "output_type": "stream",
     "text": [
      "c:\\python27\\lib\\site-packages\\IPython\\core\\interactiveshell.py:2718: DtypeWarning: Columns (3,5,6,7,8,9,10,11,12,13,14,15,16,17,18,19,20,21,22) have mixed types. Specify dtype option on import or set low_memory=False.\n",
      "  interactivity=interactivity, compiler=compiler, result=result)\n"
     ]
    }
   ],
   "source": [
    "df1 = pd.read_csv(\"./csv/events_up_to_01062018.csv\")"
   ]
  },
  {
   "cell_type": "code",
   "execution_count": 3,
   "metadata": {},
   "outputs": [],
   "source": [
    "df2 = pd.read_csv(\"./csv/labels_training_set.csv\")"
   ]
  },
  {
   "cell_type": "code",
   "execution_count": 4,
   "metadata": {},
   "outputs": [],
   "source": [
    "df1['timestamp'] = pd.to_datetime(df1['timestamp'])"
   ]
  },
  {
   "cell_type": "code",
   "execution_count": 5,
   "metadata": {},
   "outputs": [],
   "source": [
    "def modelo(obj):\n",
    "    if(pd.isnull(obj)):\n",
    "        return obj\n",
    "    \n",
    "    list = obj.split(\" \")\n",
    "    if len(list) == 1:\n",
    "        return obj\n",
    "    if \"iPhone\" in list:\n",
    "        return \"iPhone\"\n",
    "    if \"Samsung\" in list:\n",
    "        return \"Samsung\"\n",
    "    if \"Motorola\" in list:\n",
    "        return \"Motorola\"\n",
    "    if \"Lenovo\" in list:\n",
    "        return \"Lenovo\"\n",
    "    if \"Sony\" in list:\n",
    "        return \"Sony\"\n",
    "    if \"LG\" in list:\n",
    "        return \"LG\"\n",
    "    if \"Asus\" in list:\n",
    "        return \"Asus\"\n",
    "    if \"iPad\" in list:\n",
    "        return \"iPad\"\n",
    "    if \"Quantum\" in list:\n",
    "        return \"Quantum\"\n",
    "    return obj\n",
    "\n",
    "df1['model'] = df1['model'].apply(modelo)"
   ]
  },
  {
   "cell_type": "code",
   "execution_count": 6,
   "metadata": {},
   "outputs": [
    {
     "data": {
      "text/plain": [
       "iPhone              593603\n",
       "Samsung             501307\n",
       "Motorola            162914\n",
       "LG                   24814\n",
       "Sony                 15599\n",
       "Lenovo               11382\n",
       "iPad                  5663\n",
       "Asus                  4536\n",
       "Quantum               1693\n",
       "Outros TV LED 15         1\n",
       "Xiaomi Redmi 2           1\n",
       "Name: model, dtype: int64"
      ]
     },
     "execution_count": 6,
     "metadata": {},
     "output_type": "execute_result"
    }
   ],
   "source": [
    "df1['model'].value_counts()"
   ]
  },
  {
   "cell_type": "code",
   "execution_count": 7,
   "metadata": {},
   "outputs": [
    {
     "data": {
      "text/plain": [
       "viewed product       1248124\n",
       "brand listing         216312\n",
       "visited site          204069\n",
       "ad campaign hit       191388\n",
       "generic listing       160176\n",
       "searched products     130616\n",
       "search engine hit     106406\n",
       "checkout               65315\n",
       "staticpage             11201\n",
       "conversion              7091\n",
       "lead                     983\n",
       "Name: event, dtype: int64"
      ]
     },
     "execution_count": 7,
     "metadata": {},
     "output_type": "execute_result"
    }
   ],
   "source": [
    "df1['event'].value_counts()"
   ]
  },
  {
   "cell_type": "markdown",
   "metadata": {},
   "source": [
    "# Analisis para los eventos distintos de convercion"
   ]
  },
  {
   "cell_type": "code",
   "execution_count": 8,
   "metadata": {},
   "outputs": [],
   "source": [
    "df_a = df1"
   ]
  },
  {
   "cell_type": "code",
   "execution_count": 9,
   "metadata": {},
   "outputs": [],
   "source": [
    "#calculo medianas de los modelos con eventos por persona\n",
    "df_a_model = df_a.fillna(df1['model'].value_counts().idxmax()).loc[:,['person','model']].groupby('person')\\\n",
    "                .apply(lambda x: x['model'].value_counts().idxmax())\\\n",
    "                .reset_index().rename(columns={0:\"model_no_convercion\"})\n",
    "\n",
    "\n",
    "df_a_storage = df_a.fillna(df1['storage'].value_counts().idxmax()).loc[:,['person','storage']].groupby('person')\\\n",
    "                .apply(lambda x: x['storage'].value_counts().idxmax())\\\n",
    "                .reset_index().rename(columns={0:\"storage_no_convercion\"})\n",
    "        \n",
    "        \n",
    "df_a_condition = df_a.fillna(df1['condition'].value_counts().idxmax()).loc[:,['person','condition']].groupby('person')\\\n",
    "                .apply(lambda x: x['condition'].value_counts().idxmax())\\\n",
    "                .reset_index().rename(columns={0:\"condition_no_convercion\"})\n",
    "        \n",
    "        \n",
    "df_a_color = df_a.fillna(df1['color'].value_counts().idxmax()).loc[:,['person','color']].groupby('person')\\\n",
    "                .apply(lambda x: x['color'].value_counts().idxmax())\\\n",
    "                .reset_index().rename(columns={0:\"color_no_convercion\"})\n",
    "\n",
    "df_a_search_engine = df_a.fillna(df1['search_engine'].value_counts().idxmax()).loc[:,['person','search_engine']].groupby('person')\\\n",
    "                .apply(lambda x: x['search_engine'].value_counts().idxmax())\\\n",
    "                .reset_index().rename(columns={0:\"search_engine\"})"
   ]
  },
  {
   "cell_type": "code",
   "execution_count": 10,
   "metadata": {},
   "outputs": [],
   "source": [
    "df_datos_no_convercion = df_a_model.merge(df_a_storage,how='left',on='person')\\\n",
    "                                .merge(df_a_condition,how='left',on='person')\\\n",
    "                                .merge(df_a_color,how='left',on='person')\\\n",
    "                                .merge(df_a_search_engine,how='left',on='person')"
   ]
  },
  {
   "cell_type": "code",
   "execution_count": 11,
   "metadata": {},
   "outputs": [],
   "source": [
    "dffinal = df_datos_no_convercion"
   ]
  },
  {
   "cell_type": "markdown",
   "metadata": {},
   "source": [
    "# Date"
   ]
  },
  {
   "cell_type": "markdown",
   "metadata": {},
   "source": [
    "# eventos por dia x usr ( al temporario)"
   ]
  },
  {
   "cell_type": "code",
   "execution_count": 12,
   "metadata": {},
   "outputs": [],
   "source": [
    "# creo columnas con lunes == true o false\n",
    "def dds(ele):# 0 -> lunes\n",
    "    if(ele.month == 1):\n",
    "        return (((ele.day + 6) % 7) == (i))\n",
    "    if(ele.month == 2):\n",
    "        return (((ele.day + 3 + 6) % 7) == i)\n",
    "    if(ele.month == 3):\n",
    "        return (((ele.day + 3 + 6) % 7) ==(i))\n",
    "    if(ele.month == 4):\n",
    "        return (((ele.day + 12) % 7) ==(i))\n",
    "    if(ele.month == 5):\n",
    "        return (((ele.day + 1 + 6) % 7) == (i))\n",
    "i = 0\n",
    "df1[\"lunes\"] = df1[\"timestamp\"].apply(dds)\n",
    "i = 1\n",
    "df1[\"martes\"] = df1[\"timestamp\"].apply(dds)\n",
    "i = 2\n",
    "df1[\"miercoles\"] = df1[\"timestamp\"].apply(dds)\n",
    "i = 3\n",
    "df1[\"jueves\"] = df1[\"timestamp\"].apply(dds)\n",
    "i = 4\n",
    "df1[\"viernes\"] = df1[\"timestamp\"].apply(dds)\n",
    "i = 5\n",
    "df1[\"sabado\"] = df1[\"timestamp\"].apply(dds)\n",
    "i = 6\n",
    "df1[\"domingo\"] = df1[\"timestamp\"].apply(dds)\n"
   ]
  },
  {
   "cell_type": "code",
   "execution_count": 13,
   "metadata": {},
   "outputs": [],
   "source": [
    "dffinal = dffinal.set_index(\"person\")"
   ]
  },
  {
   "cell_type": "markdown",
   "metadata": {},
   "source": [
    "# mayor cantidad de eventos separados por dia de la semaan por usr "
   ]
  },
  {
   "cell_type": "code",
   "execution_count": 14,
   "metadata": {},
   "outputs": [],
   "source": [
    "# mas actividad x dia semana\n",
    "def diaMasGrande(fila):\n",
    "    aux = fila[\"lunes\"]\n",
    "    if(aux < fila[\"martes\"]):\n",
    "        aux = fila[\"martes\"]\n",
    "    if(aux < fila[\"miercoles\"]):\n",
    "        aux = fila[\"miercoles\"]\n",
    "    if(aux < fila[\"jueves\"]):\n",
    "        aux = fila[\"jueves\"]\n",
    "    if(aux < fila[\"viernes\"]):\n",
    "        aux = fila[\"viernes\"]\n",
    "    if(aux < fila[\"sabado\"]):\n",
    "        aux = fila[\"sabado\"]\n",
    "    if(aux < fila[\"domingo\"]):\n",
    "        aux = fila[\"domingo\"]\n",
    "    return aux\n",
    "dffinal[\"numero mas usado dia\"] = df1[[\"lunes\",\"martes\",\"miercoles\",\"jueves\",\"viernes\",\"sabado\",\"domingo\",\"person\"]].groupby(\"person\").sum().apply(diaMasGrande,axis = 1)"
   ]
  },
  {
   "cell_type": "markdown",
   "metadata": {},
   "source": [
    "# dia de la semana con mas eventos por usr"
   ]
  },
  {
   "cell_type": "code",
   "execution_count": 15,
   "metadata": {},
   "outputs": [],
   "source": [
    "# dia de la semaan mas activa\n",
    "def strDiaMasGrande(fila):\n",
    "    strAux = \"lunes\"\n",
    "    aux = fila[\"lunes\"]\n",
    "    if(aux < fila[\"martes\"]):\n",
    "        strAux = \"martes\"\n",
    "        aux = fila[\"martes\"]\n",
    "    if(aux < fila[\"miercoles\"]):\n",
    "        strAux = \"miercoles\"\n",
    "        aux = fila[\"miercoles\"]\n",
    "    if(aux < fila[\"jueves\"]):\n",
    "        strAux = \"jueves\"\n",
    "        aux = fila[\"jueves\"]\n",
    "    if(aux < fila[\"viernes\"]):\n",
    "        strAux = \"viernes\"\n",
    "        aux = fila[\"viernes\"]\n",
    "    if(aux < fila[\"sabado\"]):\n",
    "        strAux = \"sabado\"\n",
    "        aux = fila[\"sabado\"]\n",
    "    if(aux < fila[\"domingo\"]):\n",
    "        strAux = \"domingo\"\n",
    "        aux = fila[\"domingo\"]\n",
    "    return strAux\n",
    "dffinal[\"nombre mas usado dia\"] = df1[[\"lunes\",\"martes\",\"miercoles\",\"jueves\",\"viernes\",\"sabado\",\"domingo\",\"person\"]].groupby(\"person\").sum().apply(strDiaMasGrande,axis = 1)"
   ]
  },
  {
   "cell_type": "markdown",
   "metadata": {},
   "source": [
    "# cuento eventos por persona"
   ]
  },
  {
   "cell_type": "code",
   "execution_count": 16,
   "metadata": {},
   "outputs": [
    {
     "name": "stderr",
     "output_type": "stream",
     "text": [
      "c:\\python27\\lib\\site-packages\\ipykernel_launcher.py:2: SettingWithCopyWarning: \n",
      "A value is trying to be set on a copy of a slice from a DataFrame.\n",
      "Try using .loc[row_indexer,col_indexer] = value instead\n",
      "\n",
      "See the caveats in the documentation: http://pandas.pydata.org/pandas-docs/stable/indexing.html#indexing-view-versus-copy\n",
      "  \n"
     ]
    }
   ],
   "source": [
    "aux = df1[[\"event\",\"person\"]]\n",
    "aux[\"aux\"] = 1\n",
    "aux = aux.groupby([\"person\",\"event\"]).count()\n",
    "aux = aux.unstack().fillna(0).reset_index().reset_index()\n",
    "aux.columns = aux.columns.droplevel()\n",
    "aux[\"person\"] = aux.iloc[:, 1].values\n",
    "aux = aux.drop(\"\",axis = 1)"
   ]
  },
  {
   "cell_type": "code",
   "execution_count": 17,
   "metadata": {},
   "outputs": [],
   "source": [
    "dffinal = dffinal.reset_index()"
   ]
  },
  {
   "cell_type": "code",
   "execution_count": 18,
   "metadata": {},
   "outputs": [],
   "source": [
    "aux = pd.merge(aux,dffinal,on=\"person\",how=\"inner\")"
   ]
  },
  {
   "cell_type": "code",
   "execution_count": 19,
   "metadata": {},
   "outputs": [
    {
     "data": {
      "text/plain": [
       "Index([u'ad campaign hit', u'brand listing', u'checkout', u'conversion',\n",
       "       u'generic listing', u'lead', u'search engine hit', u'searched products',\n",
       "       u'staticpage', u'viewed product', u'visited site', u'person',\n",
       "       u'model_no_convercion', u'storage_no_convercion',\n",
       "       u'condition_no_convercion', u'color_no_convercion', u'search_engine',\n",
       "       u'numero mas usado dia', u'nombre mas usado dia'],\n",
       "      dtype='object')"
      ]
     },
     "execution_count": 19,
     "metadata": {},
     "output_type": "execute_result"
    }
   ],
   "source": [
    "aux.columns"
   ]
  },
  {
   "cell_type": "code",
   "execution_count": 20,
   "metadata": {},
   "outputs": [],
   "source": [
    "aux = aux.dropna(subset=[\"storage_no_convercion\"])"
   ]
  },
  {
   "cell_type": "code",
   "execution_count": 21,
   "metadata": {},
   "outputs": [],
   "source": [
    "aux[\"search_engine\"] = aux[\"search_engine\"].fillna(\"not\")"
   ]
  },
  {
   "cell_type": "code",
   "execution_count": 22,
   "metadata": {},
   "outputs": [],
   "source": [
    "aux[\"storage_no_convercion\"] = aux[\"storage_no_convercion\"].str.replace(\"GB\",\"\").replace(\"512MB\",\"0.5\")"
   ]
  },
  {
   "cell_type": "markdown",
   "metadata": {},
   "source": [
    "# ultimo evento/fecha de actividad/de de la semana activo\n",
    "ultimos evento y su fecha y dias de la semana"
   ]
  },
  {
   "cell_type": "code",
   "execution_count": 23,
   "metadata": {},
   "outputs": [],
   "source": [
    "temp = df1[[\"person\",\"timestamp\"]].groupby(\"person\").max().reset_index()\n",
    "aux[\"ultima_fecha_de_actividad\"] = temp[\"timestamp\"]"
   ]
  },
  {
   "cell_type": "code",
   "execution_count": 24,
   "metadata": {},
   "outputs": [],
   "source": [
    "diasDeLaSemana =[\"lunes\",\"martes\",\"miercoles\",\"jueves\",\"viernes\",\"sabado\",\"domingo\"]\n",
    "def dds2(ele):# 0 -> lunes\n",
    "    if(ele.month == 1):\n",
    "        for i in range(0,7):\n",
    "            if(((ele.day + 6) % 7) == (i)):\n",
    "                return diasDeLaSemana[i]  \n",
    "    if(ele.month == 2):\n",
    "        for i in range(0,7):\n",
    "            if(((ele.day + 9) % 7) == (i)):\n",
    "                return diasDeLaSemana[i]\n",
    "    if(ele.month == 3):\n",
    "        for i in range(0,7):\n",
    "            if(((ele.day + 9) % 7) == (i)):\n",
    "                return diasDeLaSemana[i]\n",
    "    if(ele.month == 4):\n",
    "        for i in range(0,7):\n",
    "            if(((ele.day + 12) % 7) == (i)):\n",
    "                return diasDeLaSemana[i]\n",
    "    if(ele.month == 5):\n",
    "        for i in range(0,7):\n",
    "            if(((ele.day) % 7) == (i)):\n",
    "                return diasDeLaSemana[i]\n",
    "            \n",
    "aux[\"ultimo_dia_de_la_semana_activo\"] = aux[\"ultima_fecha_de_actividad\"].apply(dds2)"
   ]
  },
  {
   "cell_type": "code",
   "execution_count": 25,
   "metadata": {},
   "outputs": [],
   "source": [
    "temp = df1[[\"person\",\"timestamp\"]].groupby(\"person\")[\"timestamp\"].max().reset_index()"
   ]
  },
  {
   "cell_type": "code",
   "execution_count": 26,
   "metadata": {},
   "outputs": [],
   "source": [
    "df2 = pd.merge( df1[[\"person\",\"timestamp\",\"event\"]],temp,on=[\"person\",\"timestamp\"],how=\"right\")\n",
    "#personas con varios eventos en el mismo timestamp/ como elegir cual evento fue el ultimo? \n",
    "#-->uso moda x q no se me ocurre nada mejor\n",
    "tmpmod = df2.groupby(\"person\").agg(pd.Series.mode)"
   ]
  },
  {
   "cell_type": "code",
   "execution_count": null,
   "metadata": {},
   "outputs": [],
   "source": []
  },
  {
   "cell_type": "code",
   "execution_count": 27,
   "metadata": {},
   "outputs": [],
   "source": [
    "aux[\"ultimo_evento_registrado_cmode\"] = tmpmod.reset_index()[\"event\"]"
   ]
  },
  {
   "cell_type": "code",
   "execution_count": 28,
   "metadata": {},
   "outputs": [
    {
     "data": {
      "text/plain": [
       "Index([u'ad campaign hit', u'brand listing', u'checkout', u'conversion',\n",
       "       u'generic listing', u'lead', u'search engine hit', u'searched products',\n",
       "       u'staticpage', u'viewed product', u'visited site', u'person',\n",
       "       u'model_no_convercion', u'storage_no_convercion',\n",
       "       u'condition_no_convercion', u'color_no_convercion', u'search_engine',\n",
       "       u'numero mas usado dia', u'nombre mas usado dia',\n",
       "       u'ultima_fecha_de_actividad', u'ultimo_dia_de_la_semana_activo',\n",
       "       u'ultimo_evento_registrado_cmode'],\n",
       "      dtype='object')"
      ]
     },
     "execution_count": 28,
     "metadata": {},
     "output_type": "execute_result"
    }
   ],
   "source": [
    "aux.columns"
   ]
  },
  {
   "cell_type": "code",
   "execution_count": 29,
   "metadata": {},
   "outputs": [],
   "source": [
    "temp = pd.to_datetime(\"06.01.2018\") - aux[\"ultima_fecha_de_actividad\"]"
   ]
  },
  {
   "cell_type": "code",
   "execution_count": 30,
   "metadata": {},
   "outputs": [],
   "source": [
    "#lo paso a dias hasta el 1 / 06\n",
    "aux[\"dias_hasta\"] = temp.reset_index()[\"ultima_fecha_de_actividad\"].dt.days"
   ]
  },
  {
   "cell_type": "code",
   "execution_count": 31,
   "metadata": {},
   "outputs": [
    {
     "data": {
      "text/plain": [
       "array(['viewed product', 'searched products', 'ad campaign hit',\n",
       "       'staticpage', 'checkout', 'search engine hit', 'conversion',\n",
       "       'generic listing', 'brand listing', 'visited site', 'lead'], dtype=object)"
      ]
     },
     "execution_count": 31,
     "metadata": {},
     "output_type": "execute_result"
    }
   ],
   "source": [
    "word = df1[\"event\"].unique()\n",
    "word"
   ]
  },
  {
   "cell_type": "code",
   "execution_count": 32,
   "metadata": {},
   "outputs": [],
   "source": [
    "# fecha ultimo evento\n",
    "ultimosEveFecha = df1[[\"person\",\"timestamp\"]].groupby(\"person\")[\"timestamp\"].max().reset_index().set_index(\"person\")\n",
    "del ultimosEveFecha[\"timestamp\"]"
   ]
  },
  {
   "cell_type": "code",
   "execution_count": 33,
   "metadata": {},
   "outputs": [],
   "source": [
    "eventList = df1[\"event\"].unique()\n",
    "for word in eventList:\n",
    "    ultimosEveFecha[word + \"_last\"] = df1.loc[df1[\"event\"] == word][[\"person\",\"timestamp\"]].groupby(\"person\").max()"
   ]
  },
  {
   "cell_type": "code",
   "execution_count": 34,
   "metadata": {},
   "outputs": [],
   "source": [
    "for word in eventList:\n",
    "    ultimosEveFecha[word + \"_last\"] = (pd.to_datetime(\"06.01.2018\") - pd.to_datetime(ultimosEveFecha[word + \"_last\"])).dt.days\n",
    "    ultimosEveFecha[word + \"_last\"] = ultimosEveFecha[word + \"_last\"].fillna(ultimosEveFecha[word + \"_last\"].mode()[0])"
   ]
  },
  {
   "cell_type": "code",
   "execution_count": 35,
   "metadata": {},
   "outputs": [],
   "source": [
    "\n",
    "ultimosEveFecha = ultimosEveFecha.reset_index()"
   ]
  },
  {
   "cell_type": "code",
   "execution_count": 36,
   "metadata": {},
   "outputs": [],
   "source": [
    "aux = pd.merge(aux,ultimosEveFecha,on=\"person\",how=\"left\")"
   ]
  },
  {
   "cell_type": "code",
   "execution_count": 37,
   "metadata": {},
   "outputs": [
    {
     "data": {
      "text/plain": [
       "ad campaign hit                   0\n",
       "brand listing                     0\n",
       "checkout                          0\n",
       "conversion                        0\n",
       "generic listing                   0\n",
       "lead                              0\n",
       "search engine hit                 0\n",
       "searched products                 0\n",
       "staticpage                        0\n",
       "viewed product                    0\n",
       "visited site                      0\n",
       "person                            0\n",
       "model_no_convercion               0\n",
       "storage_no_convercion             0\n",
       "condition_no_convercion           0\n",
       "color_no_convercion               0\n",
       "search_engine                     0\n",
       "numero mas usado dia              0\n",
       "nombre mas usado dia              0\n",
       "ultima_fecha_de_actividad         0\n",
       "ultimo_dia_de_la_semana_activo    0\n",
       "ultimo_evento_registrado_cmode    0\n",
       "dias_hasta                        0\n",
       "viewed product_last               0\n",
       "searched products_last            0\n",
       "ad campaign hit_last              0\n",
       "staticpage_last                   0\n",
       "checkout_last                     0\n",
       "search engine hit_last            0\n",
       "conversion_last                   0\n",
       "generic listing_last              0\n",
       "brand listing_last                0\n",
       "visited site_last                 0\n",
       "lead_last                         0\n",
       "dtype: int64"
      ]
     },
     "execution_count": 37,
     "metadata": {},
     "output_type": "execute_result"
    }
   ],
   "source": [
    "aux.isna().sum()"
   ]
  },
  {
   "cell_type": "code",
   "execution_count": 38,
   "metadata": {},
   "outputs": [],
   "source": [
    "#cantidad de dias en los q entro\n",
    "temp = (pd.to_datetime(\"06.01.2018\") - df1[\"timestamp\"])\n",
    "df1[\"dias_hasta_1/6\"] = temp.dt.days\n",
    "df1[\"horas_hasta_1/6\"] = temp.dt.seconds / 3600 +  temp.dt.days * 24"
   ]
  },
  {
   "cell_type": "code",
   "execution_count": 39,
   "metadata": {},
   "outputs": [],
   "source": [
    "aux = aux.set_index(\"person\")\n",
    "aux[\"cantidad_de_dias_utilizado\"] = df1[[\"person\",\"dias_hasta_1/6\"]].groupby(\"person\")[\"dias_hasta_1/6\"].nunique().reset_index().set_index(\"person\")\n",
    "aux = aux.reset_index()"
   ]
  },
  {
   "cell_type": "code",
   "execution_count": 40,
   "metadata": {},
   "outputs": [
    {
     "data": {
      "text/plain": [
       "array(['viewed product', 'searched products', 'ad campaign hit',\n",
       "       'staticpage', 'checkout', 'search engine hit', 'conversion',\n",
       "       'generic listing', 'brand listing', 'visited site', 'lead'], dtype=object)"
      ]
     },
     "execution_count": 40,
     "metadata": {},
     "output_type": "execute_result"
    }
   ],
   "source": [
    "eventList"
   ]
  },
  {
   "cell_type": "code",
   "execution_count": 41,
   "metadata": {},
   "outputs": [],
   "source": [
    "def concatenador(item):\n",
    "       return reduce(lambda x, y: x + y, item)"
   ]
  },
  {
   "cell_type": "code",
   "execution_count": 42,
   "metadata": {},
   "outputs": [],
   "source": [
    "#def enlistar(x):\n",
    "#    return [x]\n",
    "#df1[\"dias_hasta_1/6\"] = df1[\"dias_hasta_1/6\"].apply(enlistar)"
   ]
  },
  {
   "cell_type": "code",
   "execution_count": 43,
   "metadata": {},
   "outputs": [],
   "source": [
    "#aux[\"fechas_de_conversiones\"] = df1[[\"event\",\"person\",\"dias_hasta_1/6\"]].loc[df1[\"event\"] == \"conversion\"].groupby(\"person\")[\"dias_hasta_1/6\"].agg(concatenador).reset_index()[0]"
   ]
  },
  {
   "cell_type": "code",
   "execution_count": 44,
   "metadata": {},
   "outputs": [],
   "source": [
    "#aux[\"fechas_de_busqueda\"] = df1[[\"event\",\"person\",\"dias_hasta_1/6\"]].loc[df1[\"event\"] == \"searched products\"].groupby(\"person\")[\"dias_hasta_1/6\"].agg(concatenador).reset_index()[0]"
   ]
  },
  {
   "cell_type": "code",
   "execution_count": 45,
   "metadata": {},
   "outputs": [],
   "source": [
    "df1[\"dia_de_la_semana\"]= df1[\"timestamp\"].dt.dayofweek"
   ]
  },
  {
   "cell_type": "code",
   "execution_count": 46,
   "metadata": {},
   "outputs": [],
   "source": [
    "#aux[\"media_dia_de_la_semana_convercion\"] = df1.loc[df1.event == \"conversion\",[\"person\",\"dia_de_la_semana\"]].groupby('person')\\\n",
    " #       .apply(lambda x: x[\"dia_de_la_semana\"].value_counts().idxmax()).reset_index()[0]"
   ]
  },
  {
   "cell_type": "code",
   "execution_count": 47,
   "metadata": {},
   "outputs": [],
   "source": [
    "aux[\"media_dia_de_la_semana_no_convercion\"] = df1.loc[df1.event != \"conversion\",[\"person\",\"dia_de_la_semana\"]].groupby('person')\\\n",
    "        .apply(lambda x: x[\"dia_de_la_semana\"].value_counts().idxmax()).reset_index()[0]"
   ]
  },
  {
   "cell_type": "code",
   "execution_count": null,
   "metadata": {},
   "outputs": [],
   "source": []
  },
  {
   "cell_type": "code",
   "execution_count": null,
   "metadata": {
    "scrolled": true
   },
   "outputs": [],
   "source": []
  },
  {
   "cell_type": "code",
   "execution_count": null,
   "metadata": {},
   "outputs": [],
   "source": []
  },
  {
   "cell_type": "code",
   "execution_count": 48,
   "metadata": {},
   "outputs": [],
   "source": [
    "temp = df1[[\"dias_hasta_1/6\",\"person\"]].groupby(\"person\").apply(lambda x: x[\"dias_hasta_1/6\"].max() - x[\"dias_hasta_1/6\"].min()).reset_index() \n",
    "\n",
    "aux = pd.merge(aux,temp,on=\"person\",how=\"left\").rename(index=str, columns={0: \"delta_ultimo_primer_dia_actividad\"})"
   ]
  },
  {
   "cell_type": "code",
   "execution_count": 49,
   "metadata": {},
   "outputs": [],
   "source": [
    "temp = df1[[\"dias_hasta_1/6\",\"person\"]].groupby(\"person\").apply(lambda x: x[\"dias_hasta_1/6\"].max() - x[\"dias_hasta_1/6\"].nlargest(2).values[-1]).reset_index()\n",
    "\n",
    "aux = pd.merge(aux,temp,on=\"person\",how=\"left\").rename(index=str, columns={0: \"delta_ultimo_anteulit_tiempo_actividad\"})"
   ]
  },
  {
   "cell_type": "code",
   "execution_count": 50,
   "metadata": {},
   "outputs": [],
   "source": [
    "temp = df1[[\"dias_hasta_1/6\",\"person\"]].groupby(\"person\").apply(lambda x: x[\"dias_hasta_1/6\"].nsmallest(2).values[-1] - x[\"dias_hasta_1/6\"].min()).reset_index()\n",
    "\n",
    "aux = pd.merge(aux,temp,on=\"person\",how=\"left\").rename(index=str, columns={0: \"delta_primer_seg_tiempo_actividad\"})"
   ]
  },
  {
   "cell_type": "code",
   "execution_count": 51,
   "metadata": {},
   "outputs": [],
   "source": [
    "df1 = df1.sort_values(by=['person', 'dias_hasta_1/6'])\n"
   ]
  },
  {
   "cell_type": "code",
   "execution_count": 52,
   "metadata": {},
   "outputs": [],
   "source": [
    "temp =  df1[[\"dias_hasta_1/6\",\"person\"]].groupby('person').diff()\n",
    "df1[\"dTimeEve0\"] = temp.fillna(0)\n",
    "df1[\"dTimeEve1\"] = temp.fillna(1)"
   ]
  },
  {
   "cell_type": "code",
   "execution_count": 53,
   "metadata": {},
   "outputs": [],
   "source": [
    "temp = df1[[\"person\",\"dTimeEve0\"]].groupby('person').max().reset_index()\n",
    "aux = pd.merge(aux,temp,on=\"person\",how=\"left\")\n",
    "aux = aux.rename(columns={\"dTimeEve0\":\"dTimeEveMax\"})"
   ]
  },
  {
   "cell_type": "code",
   "execution_count": 54,
   "metadata": {},
   "outputs": [],
   "source": [
    "temp = df1[[\"person\",\"dTimeEve0\"]].groupby('person').mean().reset_index()\n",
    "aux = pd.merge(aux,temp,on=\"person\",how=\"left\")\n",
    "aux = aux.rename(columns={\"dTimeEve0\":\"dTimeEveMean0\"})"
   ]
  },
  {
   "cell_type": "code",
   "execution_count": 55,
   "metadata": {},
   "outputs": [],
   "source": [
    "temp = df1[[\"person\",\"dTimeEve1\"]].groupby('person').mean().reset_index()\n",
    "aux = pd.merge(aux,temp,on=\"person\",how=\"left\")\n",
    "aux = aux.rename(columns={\"dTimeEve1\":\"dTimeEveMean1\"})"
   ]
  },
  {
   "cell_type": "code",
   "execution_count": 56,
   "metadata": {},
   "outputs": [],
   "source": [
    "temp =  df1[[\"horas_hasta_1/6\",\"person\"]].groupby('person').diff()\n",
    "df1[\"dHTimeEve0\"] = temp.fillna(0)\n",
    "df1[\"dHTimeEve1\"] = temp.fillna(1)"
   ]
  },
  {
   "cell_type": "code",
   "execution_count": 57,
   "metadata": {},
   "outputs": [],
   "source": [
    "temp = df1[[\"person\",\"dHTimeEve0\"]].groupby('person').max().reset_index()\n",
    "aux = pd.merge(aux,temp,on=\"person\",how=\"left\")\n",
    "aux = aux.rename(columns={\"dHTimeEve0\":\"dHTimeEveMax\"})"
   ]
  },
  {
   "cell_type": "code",
   "execution_count": 58,
   "metadata": {},
   "outputs": [],
   "source": [
    "temp = df1[[\"person\",\"dHTimeEve1\"]].groupby('person').mean().reset_index()\n",
    "aux = pd.merge(aux,temp,on=\"person\",how=\"left\")\n",
    "aux = aux.rename(columns={\"dHTimeEve1\":\"dHTimeEveMean1\"})"
   ]
  },
  {
   "cell_type": "code",
   "execution_count": 59,
   "metadata": {},
   "outputs": [],
   "source": [
    "temp = df1[[\"person\",\"dHTimeEve0\"]].groupby('person').mean().reset_index()\n",
    "aux = pd.merge(aux,temp,on=\"person\",how=\"left\")\n",
    "aux = aux.rename(columns={\"dHTimeEve0\":\"dHTimeEveMean0\"})"
   ]
  },
  {
   "cell_type": "code",
   "execution_count": 60,
   "metadata": {},
   "outputs": [],
   "source": [
    "del aux[\"ultima_fecha_de_actividad\"]\n",
    "#aux.to_csv(\"features.csv\",index = False)"
   ]
  },
  {
   "cell_type": "markdown",
   "metadata": {},
   "source": [
    "# Cuento cantidad de eventos por modelo por persona"
   ]
  },
  {
   "cell_type": "code",
   "execution_count": 61,
   "metadata": {},
   "outputs": [
    {
     "data": {
      "text/plain": [
       "array(['Bom', 'Muito Bom', nan, 'Excelente', 'Novo', 'Bom - Sem Touch ID'], dtype=object)"
      ]
     },
     "execution_count": 61,
     "metadata": {},
     "output_type": "execute_result"
    }
   ],
   "source": [
    "df1.condition.unique()"
   ]
  },
  {
   "cell_type": "code",
   "execution_count": 62,
   "metadata": {},
   "outputs": [
    {
     "data": {
      "text/plain": [
       "Bom                   547617\n",
       "Excelente             378697\n",
       "Muito Bom             359053\n",
       "Bom - Sem Touch ID     31742\n",
       "Novo                    3421\n",
       "Name: condition, dtype: int64"
      ]
     },
     "execution_count": 62,
     "metadata": {},
     "output_type": "execute_result"
    }
   ],
   "source": [
    "df1['condition'].value_counts()"
   ]
  },
  {
   "cell_type": "code",
   "execution_count": 63,
   "metadata": {},
   "outputs": [],
   "source": [
    "def condicion(obj):\n",
    "    if(pd.isnull(obj)):\n",
    "        return obj\n",
    "    \n",
    "    obj = obj.replace(\"Excelente\",\"Estado Excelente\")\n",
    "    obj = obj.replace(\"Muito Bom\",\"Estado Muy Bien\")\n",
    "    obj = obj.replace(\"Novo\",\"Estado Nuevo\")\n",
    "    obj = obj.replace(\"Bom - Sem Touch ID\",\"Estado Bien\") #No se que quise encriptar Trofcafone con este cifrado\n",
    "                                                          #Asi que hare de cuenta que no existe\n",
    "    obj = obj.replace(\"Bom\",\"Estado Bien\")\n",
    "    return obj\n",
    "    \n",
    "df1[\"condition\"] = df1[\"condition\"].apply(condicion)"
   ]
  },
  {
   "cell_type": "code",
   "execution_count": 64,
   "metadata": {},
   "outputs": [
    {
     "data": {
      "text/plain": [
       "array(['Estado Bien', 'Estado Muy Bien', nan, 'Estado Excelente',\n",
       "       'Estado Nuevo'], dtype=object)"
      ]
     },
     "execution_count": 64,
     "metadata": {},
     "output_type": "execute_result"
    }
   ],
   "source": [
    "df1.condition.unique()"
   ]
  },
  {
   "cell_type": "code",
   "execution_count": 65,
   "metadata": {},
   "outputs": [
    {
     "data": {
      "text/plain": [
       "Estado Bien         579359\n",
       "Estado Excelente    378697\n",
       "Estado Muy Bien     359053\n",
       "Estado Nuevo          3421\n",
       "Name: condition, dtype: int64"
      ]
     },
     "execution_count": 65,
     "metadata": {},
     "output_type": "execute_result"
    }
   ],
   "source": [
    "df1['condition'].value_counts()"
   ]
  },
  {
   "cell_type": "code",
   "execution_count": 66,
   "metadata": {},
   "outputs": [
    {
     "name": "stderr",
     "output_type": "stream",
     "text": [
      "c:\\python27\\lib\\site-packages\\ipykernel_launcher.py:2: SettingWithCopyWarning: \n",
      "A value is trying to be set on a copy of a slice from a DataFrame.\n",
      "Try using .loc[row_indexer,col_indexer] = value instead\n",
      "\n",
      "See the caveats in the documentation: http://pandas.pydata.org/pandas-docs/stable/indexing.html#indexing-view-versus-copy\n",
      "  \n"
     ]
    },
    {
     "data": {
      "text/html": [
       "<div>\n",
       "<style scoped>\n",
       "    .dataframe tbody tr th:only-of-type {\n",
       "        vertical-align: middle;\n",
       "    }\n",
       "\n",
       "    .dataframe tbody tr th {\n",
       "        vertical-align: top;\n",
       "    }\n",
       "\n",
       "    .dataframe thead th {\n",
       "        text-align: right;\n",
       "    }\n",
       "</style>\n",
       "<table border=\"1\" class=\"dataframe\">\n",
       "  <thead>\n",
       "    <tr style=\"text-align: right;\">\n",
       "      <th></th>\n",
       "      <th>condition</th>\n",
       "      <th>person</th>\n",
       "      <th>cont</th>\n",
       "    </tr>\n",
       "  </thead>\n",
       "  <tbody>\n",
       "    <tr>\n",
       "      <th>1505383</th>\n",
       "      <td>Estado Bien</td>\n",
       "      <td>0008ed71</td>\n",
       "      <td>1</td>\n",
       "    </tr>\n",
       "    <tr>\n",
       "      <th>1507286</th>\n",
       "      <td>Estado Muy Bien</td>\n",
       "      <td>0008ed71</td>\n",
       "      <td>1</td>\n",
       "    </tr>\n",
       "    <tr>\n",
       "      <th>1507716</th>\n",
       "      <td>Estado Bien</td>\n",
       "      <td>0008ed71</td>\n",
       "      <td>1</td>\n",
       "    </tr>\n",
       "    <tr>\n",
       "      <th>2122051</th>\n",
       "      <td>NaN</td>\n",
       "      <td>0008ed71</td>\n",
       "      <td>1</td>\n",
       "    </tr>\n",
       "    <tr>\n",
       "      <th>2336760</th>\n",
       "      <td>NaN</td>\n",
       "      <td>0008ed71</td>\n",
       "      <td>1</td>\n",
       "    </tr>\n",
       "  </tbody>\n",
       "</table>\n",
       "</div>"
      ],
      "text/plain": [
       "               condition    person  cont\n",
       "1505383      Estado Bien  0008ed71     1\n",
       "1507286  Estado Muy Bien  0008ed71     1\n",
       "1507716      Estado Bien  0008ed71     1\n",
       "2122051              NaN  0008ed71     1\n",
       "2336760              NaN  0008ed71     1"
      ]
     },
     "execution_count": 66,
     "metadata": {},
     "output_type": "execute_result"
    }
   ],
   "source": [
    "auxi = df1[[\"condition\",\"person\"]]\n",
    "auxi[\"cont\"] = 1\n",
    "auxi.head()"
   ]
  },
  {
   "cell_type": "code",
   "execution_count": 67,
   "metadata": {},
   "outputs": [
    {
     "data": {
      "text/plain": [
       "Index([u'condition', u'person', u'cont'], dtype='object')"
      ]
     },
     "execution_count": 67,
     "metadata": {},
     "output_type": "execute_result"
    }
   ],
   "source": [
    "auxi.columns"
   ]
  },
  {
   "cell_type": "code",
   "execution_count": 68,
   "metadata": {},
   "outputs": [
    {
     "data": {
      "text/html": [
       "<div>\n",
       "<style scoped>\n",
       "    .dataframe tbody tr th:only-of-type {\n",
       "        vertical-align: middle;\n",
       "    }\n",
       "\n",
       "    .dataframe tbody tr th {\n",
       "        vertical-align: top;\n",
       "    }\n",
       "\n",
       "    .dataframe thead th {\n",
       "        text-align: right;\n",
       "    }\n",
       "</style>\n",
       "<table border=\"1\" class=\"dataframe\">\n",
       "  <thead>\n",
       "    <tr style=\"text-align: right;\">\n",
       "      <th></th>\n",
       "      <th></th>\n",
       "      <th>cont</th>\n",
       "    </tr>\n",
       "    <tr>\n",
       "      <th>person</th>\n",
       "      <th>condition</th>\n",
       "      <th></th>\n",
       "    </tr>\n",
       "  </thead>\n",
       "  <tbody>\n",
       "    <tr>\n",
       "      <th rowspan=\"2\" valign=\"top\">0008ed71</th>\n",
       "      <th>Estado Bien</th>\n",
       "      <td>2</td>\n",
       "    </tr>\n",
       "    <tr>\n",
       "      <th>Estado Muy Bien</th>\n",
       "      <td>1</td>\n",
       "    </tr>\n",
       "    <tr>\n",
       "      <th rowspan=\"3\" valign=\"top\">00091926</th>\n",
       "      <th>Estado Bien</th>\n",
       "      <td>102</td>\n",
       "    </tr>\n",
       "    <tr>\n",
       "      <th>Estado Excelente</th>\n",
       "      <td>108</td>\n",
       "    </tr>\n",
       "    <tr>\n",
       "      <th>Estado Muy Bien</th>\n",
       "      <td>163</td>\n",
       "    </tr>\n",
       "  </tbody>\n",
       "</table>\n",
       "</div>"
      ],
      "text/plain": [
       "                           cont\n",
       "person   condition             \n",
       "0008ed71 Estado Bien          2\n",
       "         Estado Muy Bien      1\n",
       "00091926 Estado Bien        102\n",
       "         Estado Excelente   108\n",
       "         Estado Muy Bien    163"
      ]
     },
     "execution_count": 68,
     "metadata": {},
     "output_type": "execute_result"
    }
   ],
   "source": [
    "auxi = auxi.groupby(['person','condition']).agg({'cont':sum})\n",
    "auxi.head()"
   ]
  },
  {
   "cell_type": "code",
   "execution_count": 69,
   "metadata": {},
   "outputs": [
    {
     "data": {
      "text/html": [
       "<div>\n",
       "<style scoped>\n",
       "    .dataframe tbody tr th:only-of-type {\n",
       "        vertical-align: middle;\n",
       "    }\n",
       "\n",
       "    .dataframe tbody tr th {\n",
       "        vertical-align: top;\n",
       "    }\n",
       "\n",
       "    .dataframe thead tr th {\n",
       "        text-align: left;\n",
       "    }\n",
       "\n",
       "    .dataframe thead tr:last-of-type th {\n",
       "        text-align: right;\n",
       "    }\n",
       "</style>\n",
       "<table border=\"1\" class=\"dataframe\">\n",
       "  <thead>\n",
       "    <tr>\n",
       "      <th></th>\n",
       "      <th colspan=\"4\" halign=\"left\">cont</th>\n",
       "    </tr>\n",
       "    <tr>\n",
       "      <th>condition</th>\n",
       "      <th>Estado Bien</th>\n",
       "      <th>Estado Excelente</th>\n",
       "      <th>Estado Muy Bien</th>\n",
       "      <th>Estado Nuevo</th>\n",
       "    </tr>\n",
       "    <tr>\n",
       "      <th>person</th>\n",
       "      <th></th>\n",
       "      <th></th>\n",
       "      <th></th>\n",
       "      <th></th>\n",
       "    </tr>\n",
       "  </thead>\n",
       "  <tbody>\n",
       "    <tr>\n",
       "      <th>0008ed71</th>\n",
       "      <td>2</td>\n",
       "      <td>0</td>\n",
       "      <td>1</td>\n",
       "      <td>0</td>\n",
       "    </tr>\n",
       "    <tr>\n",
       "      <th>00091926</th>\n",
       "      <td>102</td>\n",
       "      <td>108</td>\n",
       "      <td>163</td>\n",
       "      <td>1</td>\n",
       "    </tr>\n",
       "    <tr>\n",
       "      <th>00091a7a</th>\n",
       "      <td>1</td>\n",
       "      <td>2</td>\n",
       "      <td>0</td>\n",
       "      <td>0</td>\n",
       "    </tr>\n",
       "    <tr>\n",
       "      <th>000ba417</th>\n",
       "      <td>115</td>\n",
       "      <td>11</td>\n",
       "      <td>34</td>\n",
       "      <td>0</td>\n",
       "    </tr>\n",
       "    <tr>\n",
       "      <th>000c79fe</th>\n",
       "      <td>4</td>\n",
       "      <td>0</td>\n",
       "      <td>0</td>\n",
       "      <td>0</td>\n",
       "    </tr>\n",
       "  </tbody>\n",
       "</table>\n",
       "</div>"
      ],
      "text/plain": [
       "                 cont                                              \n",
       "condition Estado Bien Estado Excelente Estado Muy Bien Estado Nuevo\n",
       "person                                                             \n",
       "0008ed71            2                0               1            0\n",
       "00091926          102              108             163            1\n",
       "00091a7a            1                2               0            0\n",
       "000ba417          115               11              34            0\n",
       "000c79fe            4                0               0            0"
      ]
     },
     "execution_count": 69,
     "metadata": {},
     "output_type": "execute_result"
    }
   ],
   "source": [
    "auxi_listo = auxi.unstack(fill_value=0)\n",
    "auxi_listo.head()"
   ]
  },
  {
   "cell_type": "code",
   "execution_count": 70,
   "metadata": {},
   "outputs": [
    {
     "data": {
      "text/html": [
       "<div>\n",
       "<style scoped>\n",
       "    .dataframe tbody tr th:only-of-type {\n",
       "        vertical-align: middle;\n",
       "    }\n",
       "\n",
       "    .dataframe tbody tr th {\n",
       "        vertical-align: top;\n",
       "    }\n",
       "\n",
       "    .dataframe thead th {\n",
       "        text-align: right;\n",
       "    }\n",
       "</style>\n",
       "<table border=\"1\" class=\"dataframe\">\n",
       "  <thead>\n",
       "    <tr style=\"text-align: right;\">\n",
       "      <th>condition</th>\n",
       "      <th>Estado Bien</th>\n",
       "      <th>Estado Excelente</th>\n",
       "      <th>Estado Muy Bien</th>\n",
       "      <th>Estado Nuevo</th>\n",
       "    </tr>\n",
       "    <tr>\n",
       "      <th>person</th>\n",
       "      <th></th>\n",
       "      <th></th>\n",
       "      <th></th>\n",
       "      <th></th>\n",
       "    </tr>\n",
       "  </thead>\n",
       "  <tbody>\n",
       "    <tr>\n",
       "      <th>0008ed71</th>\n",
       "      <td>2</td>\n",
       "      <td>0</td>\n",
       "      <td>1</td>\n",
       "      <td>0</td>\n",
       "    </tr>\n",
       "    <tr>\n",
       "      <th>00091926</th>\n",
       "      <td>102</td>\n",
       "      <td>108</td>\n",
       "      <td>163</td>\n",
       "      <td>1</td>\n",
       "    </tr>\n",
       "    <tr>\n",
       "      <th>00091a7a</th>\n",
       "      <td>1</td>\n",
       "      <td>2</td>\n",
       "      <td>0</td>\n",
       "      <td>0</td>\n",
       "    </tr>\n",
       "    <tr>\n",
       "      <th>000ba417</th>\n",
       "      <td>115</td>\n",
       "      <td>11</td>\n",
       "      <td>34</td>\n",
       "      <td>0</td>\n",
       "    </tr>\n",
       "    <tr>\n",
       "      <th>000c79fe</th>\n",
       "      <td>4</td>\n",
       "      <td>0</td>\n",
       "      <td>0</td>\n",
       "      <td>0</td>\n",
       "    </tr>\n",
       "  </tbody>\n",
       "</table>\n",
       "</div>"
      ],
      "text/plain": [
       "condition  Estado Bien  Estado Excelente  Estado Muy Bien  Estado Nuevo\n",
       "person                                                                 \n",
       "0008ed71             2                 0                1             0\n",
       "00091926           102               108              163             1\n",
       "00091a7a             1                 2                0             0\n",
       "000ba417           115                11               34             0\n",
       "000c79fe             4                 0                0             0"
      ]
     },
     "execution_count": 70,
     "metadata": {},
     "output_type": "execute_result"
    }
   ],
   "source": [
    "auxi_listo.columns = auxi_listo.columns.droplevel(0)\n",
    "auxi_listo.head()"
   ]
  },
  {
   "cell_type": "code",
   "execution_count": 71,
   "metadata": {},
   "outputs": [
    {
     "data": {
      "text/html": [
       "<div>\n",
       "<style scoped>\n",
       "    .dataframe tbody tr th:only-of-type {\n",
       "        vertical-align: middle;\n",
       "    }\n",
       "\n",
       "    .dataframe tbody tr th {\n",
       "        vertical-align: top;\n",
       "    }\n",
       "\n",
       "    .dataframe thead th {\n",
       "        text-align: right;\n",
       "    }\n",
       "</style>\n",
       "<table border=\"1\" class=\"dataframe\">\n",
       "  <thead>\n",
       "    <tr style=\"text-align: right;\">\n",
       "      <th>condition</th>\n",
       "      <th>person</th>\n",
       "      <th>Estado Bien</th>\n",
       "      <th>Estado Excelente</th>\n",
       "      <th>Estado Muy Bien</th>\n",
       "      <th>Estado Nuevo</th>\n",
       "    </tr>\n",
       "  </thead>\n",
       "  <tbody>\n",
       "    <tr>\n",
       "      <th>0</th>\n",
       "      <td>0008ed71</td>\n",
       "      <td>2</td>\n",
       "      <td>0</td>\n",
       "      <td>1</td>\n",
       "      <td>0</td>\n",
       "    </tr>\n",
       "    <tr>\n",
       "      <th>1</th>\n",
       "      <td>00091926</td>\n",
       "      <td>102</td>\n",
       "      <td>108</td>\n",
       "      <td>163</td>\n",
       "      <td>1</td>\n",
       "    </tr>\n",
       "    <tr>\n",
       "      <th>2</th>\n",
       "      <td>00091a7a</td>\n",
       "      <td>1</td>\n",
       "      <td>2</td>\n",
       "      <td>0</td>\n",
       "      <td>0</td>\n",
       "    </tr>\n",
       "    <tr>\n",
       "      <th>3</th>\n",
       "      <td>000ba417</td>\n",
       "      <td>115</td>\n",
       "      <td>11</td>\n",
       "      <td>34</td>\n",
       "      <td>0</td>\n",
       "    </tr>\n",
       "    <tr>\n",
       "      <th>4</th>\n",
       "      <td>000c79fe</td>\n",
       "      <td>4</td>\n",
       "      <td>0</td>\n",
       "      <td>0</td>\n",
       "      <td>0</td>\n",
       "    </tr>\n",
       "  </tbody>\n",
       "</table>\n",
       "</div>"
      ],
      "text/plain": [
       "condition    person  Estado Bien  Estado Excelente  Estado Muy Bien  \\\n",
       "0          0008ed71            2                 0                1   \n",
       "1          00091926          102               108              163   \n",
       "2          00091a7a            1                 2                0   \n",
       "3          000ba417          115                11               34   \n",
       "4          000c79fe            4                 0                0   \n",
       "\n",
       "condition  Estado Nuevo  \n",
       "0                     0  \n",
       "1                     1  \n",
       "2                     0  \n",
       "3                     0  \n",
       "4                     0  "
      ]
     },
     "execution_count": 71,
     "metadata": {},
     "output_type": "execute_result"
    }
   ],
   "source": [
    "auxi_listo = auxi_listo.reset_index(level='person')\n",
    "auxi_listo.head()"
   ]
  },
  {
   "cell_type": "code",
   "execution_count": 72,
   "metadata": {},
   "outputs": [],
   "source": [
    "aux = aux.merge(auxi_listo, left_on = 'person', right_on = 'person', how = 'right')"
   ]
  },
  {
   "cell_type": "code",
   "execution_count": 73,
   "metadata": {},
   "outputs": [
    {
     "data": {
      "text/html": [
       "<div>\n",
       "<style scoped>\n",
       "    .dataframe tbody tr th:only-of-type {\n",
       "        vertical-align: middle;\n",
       "    }\n",
       "\n",
       "    .dataframe tbody tr th {\n",
       "        vertical-align: top;\n",
       "    }\n",
       "\n",
       "    .dataframe thead th {\n",
       "        text-align: right;\n",
       "    }\n",
       "</style>\n",
       "<table border=\"1\" class=\"dataframe\">\n",
       "  <thead>\n",
       "    <tr style=\"text-align: right;\">\n",
       "      <th></th>\n",
       "      <th>person</th>\n",
       "      <th>ad campaign hit</th>\n",
       "      <th>brand listing</th>\n",
       "      <th>checkout</th>\n",
       "      <th>conversion</th>\n",
       "      <th>generic listing</th>\n",
       "      <th>lead</th>\n",
       "      <th>search engine hit</th>\n",
       "      <th>searched products</th>\n",
       "      <th>staticpage</th>\n",
       "      <th>...</th>\n",
       "      <th>dTimeEveMax</th>\n",
       "      <th>dTimeEveMean0</th>\n",
       "      <th>dTimeEveMean1</th>\n",
       "      <th>dHTimeEveMax</th>\n",
       "      <th>dHTimeEveMean1</th>\n",
       "      <th>dHTimeEveMean0</th>\n",
       "      <th>Estado Bien</th>\n",
       "      <th>Estado Excelente</th>\n",
       "      <th>Estado Muy Bien</th>\n",
       "      <th>Estado Nuevo</th>\n",
       "    </tr>\n",
       "  </thead>\n",
       "  <tbody>\n",
       "    <tr>\n",
       "      <th>0</th>\n",
       "      <td>0008ed71</td>\n",
       "      <td>0.0</td>\n",
       "      <td>0.0</td>\n",
       "      <td>3.0</td>\n",
       "      <td>0.0</td>\n",
       "      <td>1.0</td>\n",
       "      <td>0.0</td>\n",
       "      <td>0.0</td>\n",
       "      <td>0.0</td>\n",
       "      <td>0.0</td>\n",
       "      <td>...</td>\n",
       "      <td>0.0</td>\n",
       "      <td>0.000000</td>\n",
       "      <td>0.166667</td>\n",
       "      <td>4.013889</td>\n",
       "      <td>0.185324</td>\n",
       "      <td>0.018657</td>\n",
       "      <td>2</td>\n",
       "      <td>0</td>\n",
       "      <td>1</td>\n",
       "      <td>0</td>\n",
       "    </tr>\n",
       "    <tr>\n",
       "      <th>1</th>\n",
       "      <td>00091926</td>\n",
       "      <td>15.0</td>\n",
       "      <td>25.0</td>\n",
       "      <td>2.0</td>\n",
       "      <td>0.0</td>\n",
       "      <td>0.0</td>\n",
       "      <td>0.0</td>\n",
       "      <td>0.0</td>\n",
       "      <td>0.0</td>\n",
       "      <td>0.0</td>\n",
       "      <td>...</td>\n",
       "      <td>3.0</td>\n",
       "      <td>0.062500</td>\n",
       "      <td>0.064732</td>\n",
       "      <td>74.207500</td>\n",
       "      <td>1.497148</td>\n",
       "      <td>1.494916</td>\n",
       "      <td>102</td>\n",
       "      <td>108</td>\n",
       "      <td>163</td>\n",
       "      <td>1</td>\n",
       "    </tr>\n",
       "    <tr>\n",
       "      <th>2</th>\n",
       "      <td>00091a7a</td>\n",
       "      <td>1.0</td>\n",
       "      <td>5.0</td>\n",
       "      <td>0.0</td>\n",
       "      <td>0.0</td>\n",
       "      <td>0.0</td>\n",
       "      <td>0.0</td>\n",
       "      <td>0.0</td>\n",
       "      <td>0.0</td>\n",
       "      <td>0.0</td>\n",
       "      <td>...</td>\n",
       "      <td>0.0</td>\n",
       "      <td>0.000000</td>\n",
       "      <td>0.100000</td>\n",
       "      <td>0.096389</td>\n",
       "      <td>0.108722</td>\n",
       "      <td>0.008722</td>\n",
       "      <td>1</td>\n",
       "      <td>2</td>\n",
       "      <td>0</td>\n",
       "      <td>0</td>\n",
       "    </tr>\n",
       "    <tr>\n",
       "      <th>3</th>\n",
       "      <td>000ba417</td>\n",
       "      <td>1.0</td>\n",
       "      <td>24.0</td>\n",
       "      <td>6.0</td>\n",
       "      <td>1.0</td>\n",
       "      <td>14.0</td>\n",
       "      <td>0.0</td>\n",
       "      <td>1.0</td>\n",
       "      <td>0.0</td>\n",
       "      <td>0.0</td>\n",
       "      <td>...</td>\n",
       "      <td>7.0</td>\n",
       "      <td>0.043689</td>\n",
       "      <td>0.048544</td>\n",
       "      <td>172.998056</td>\n",
       "      <td>1.026614</td>\n",
       "      <td>1.021760</td>\n",
       "      <td>115</td>\n",
       "      <td>11</td>\n",
       "      <td>34</td>\n",
       "      <td>0</td>\n",
       "    </tr>\n",
       "    <tr>\n",
       "      <th>4</th>\n",
       "      <td>000c79fe</td>\n",
       "      <td>1.0</td>\n",
       "      <td>0.0</td>\n",
       "      <td>1.0</td>\n",
       "      <td>0.0</td>\n",
       "      <td>1.0</td>\n",
       "      <td>0.0</td>\n",
       "      <td>1.0</td>\n",
       "      <td>9.0</td>\n",
       "      <td>0.0</td>\n",
       "      <td>...</td>\n",
       "      <td>0.0</td>\n",
       "      <td>0.000000</td>\n",
       "      <td>0.058824</td>\n",
       "      <td>0.172222</td>\n",
       "      <td>0.066667</td>\n",
       "      <td>0.007843</td>\n",
       "      <td>4</td>\n",
       "      <td>0</td>\n",
       "      <td>0</td>\n",
       "      <td>0</td>\n",
       "    </tr>\n",
       "  </tbody>\n",
       "</table>\n",
       "<p>5 rows × 48 columns</p>\n",
       "</div>"
      ],
      "text/plain": [
       "     person  ad campaign hit  brand listing  checkout  conversion  \\\n",
       "0  0008ed71              0.0            0.0       3.0         0.0   \n",
       "1  00091926             15.0           25.0       2.0         0.0   \n",
       "2  00091a7a              1.0            5.0       0.0         0.0   \n",
       "3  000ba417              1.0           24.0       6.0         1.0   \n",
       "4  000c79fe              1.0            0.0       1.0         0.0   \n",
       "\n",
       "   generic listing  lead  search engine hit  searched products  staticpage  \\\n",
       "0              1.0   0.0                0.0                0.0         0.0   \n",
       "1              0.0   0.0                0.0                0.0         0.0   \n",
       "2              0.0   0.0                0.0                0.0         0.0   \n",
       "3             14.0   0.0                1.0                0.0         0.0   \n",
       "4              1.0   0.0                1.0                9.0         0.0   \n",
       "\n",
       "      ...       dTimeEveMax  dTimeEveMean0 dTimeEveMean1 dHTimeEveMax  \\\n",
       "0     ...               0.0       0.000000      0.166667     4.013889   \n",
       "1     ...               3.0       0.062500      0.064732    74.207500   \n",
       "2     ...               0.0       0.000000      0.100000     0.096389   \n",
       "3     ...               7.0       0.043689      0.048544   172.998056   \n",
       "4     ...               0.0       0.000000      0.058824     0.172222   \n",
       "\n",
       "  dHTimeEveMean1 dHTimeEveMean0 Estado Bien  Estado Excelente Estado Muy Bien  \\\n",
       "0       0.185324       0.018657           2                 0               1   \n",
       "1       1.497148       1.494916         102               108             163   \n",
       "2       0.108722       0.008722           1                 2               0   \n",
       "3       1.026614       1.021760         115                11              34   \n",
       "4       0.066667       0.007843           4                 0               0   \n",
       "\n",
       "  Estado Nuevo  \n",
       "0            0  \n",
       "1            1  \n",
       "2            0  \n",
       "3            0  \n",
       "4            0  \n",
       "\n",
       "[5 rows x 48 columns]"
      ]
     },
     "execution_count": 73,
     "metadata": {},
     "output_type": "execute_result"
    }
   ],
   "source": [
    "aux.head()"
   ]
  },
  {
   "cell_type": "code",
   "execution_count": 74,
   "metadata": {},
   "outputs": [],
   "source": [
    "#auxilio.to_csv(\"features.csv\",index = False)"
   ]
  },
  {
   "cell_type": "code",
   "execution_count": null,
   "metadata": {},
   "outputs": [],
   "source": []
  },
  {
   "cell_type": "code",
   "execution_count": 75,
   "metadata": {},
   "outputs": [
    {
     "data": {
      "text/plain": [
       "Returning    165827\n",
       "New           38242\n",
       "Name: new_vs_returning, dtype: int64"
      ]
     },
     "execution_count": 75,
     "metadata": {},
     "output_type": "execute_result"
    }
   ],
   "source": [
    "df1['new_vs_returning'].value_counts()"
   ]
  },
  {
   "cell_type": "code",
   "execution_count": 77,
   "metadata": {},
   "outputs": [],
   "source": [
    "auxi_augusto = df1.loc[:,[\"person\",\"new_vs_returning\"]]\n",
    "auxi_augusto['contador_visitas_ret_new'] = 1\n",
    "auxi_augusto = auxi_augusto.dropna().reset_index()"
   ]
  },
  {
   "cell_type": "code",
   "execution_count": 78,
   "metadata": {},
   "outputs": [
    {
     "data": {
      "text/html": [
       "<div>\n",
       "<style scoped>\n",
       "    .dataframe tbody tr th:only-of-type {\n",
       "        vertical-align: middle;\n",
       "    }\n",
       "\n",
       "    .dataframe tbody tr th {\n",
       "        vertical-align: top;\n",
       "    }\n",
       "\n",
       "    .dataframe thead th {\n",
       "        text-align: right;\n",
       "    }\n",
       "</style>\n",
       "<table border=\"1\" class=\"dataframe\">\n",
       "  <thead>\n",
       "    <tr style=\"text-align: right;\">\n",
       "      <th></th>\n",
       "      <th>index</th>\n",
       "      <th>person</th>\n",
       "      <th>new_vs_returning</th>\n",
       "      <th>contador_visitas_ret_new</th>\n",
       "    </tr>\n",
       "  </thead>\n",
       "  <tbody>\n",
       "    <tr>\n",
       "      <th>0</th>\n",
       "      <td>2336760</td>\n",
       "      <td>0008ed71</td>\n",
       "      <td>New</td>\n",
       "      <td>1</td>\n",
       "    </tr>\n",
       "    <tr>\n",
       "      <th>1</th>\n",
       "      <td>2336761</td>\n",
       "      <td>0008ed71</td>\n",
       "      <td>Returning</td>\n",
       "      <td>1</td>\n",
       "    </tr>\n",
       "    <tr>\n",
       "      <th>2</th>\n",
       "      <td>2146952</td>\n",
       "      <td>00091926</td>\n",
       "      <td>Returning</td>\n",
       "      <td>1</td>\n",
       "    </tr>\n",
       "    <tr>\n",
       "      <th>3</th>\n",
       "      <td>2146953</td>\n",
       "      <td>00091926</td>\n",
       "      <td>Returning</td>\n",
       "      <td>1</td>\n",
       "    </tr>\n",
       "    <tr>\n",
       "      <th>4</th>\n",
       "      <td>2146951</td>\n",
       "      <td>00091926</td>\n",
       "      <td>Returning</td>\n",
       "      <td>1</td>\n",
       "    </tr>\n",
       "  </tbody>\n",
       "</table>\n",
       "</div>"
      ],
      "text/plain": [
       "     index    person new_vs_returning  contador_visitas_ret_new\n",
       "0  2336760  0008ed71              New                         1\n",
       "1  2336761  0008ed71        Returning                         1\n",
       "2  2146952  00091926        Returning                         1\n",
       "3  2146953  00091926        Returning                         1\n",
       "4  2146951  00091926        Returning                         1"
      ]
     },
     "execution_count": 78,
     "metadata": {},
     "output_type": "execute_result"
    }
   ],
   "source": [
    "auxi_augusto.head()"
   ]
  },
  {
   "cell_type": "code",
   "execution_count": 79,
   "metadata": {},
   "outputs": [],
   "source": [
    "auxi_augusto = auxi_augusto.groupby(['person']).agg({'contador_visitas_ret_new':sum})\n",
    "auxi_augusto.head()\n",
    "auxi_augusto = auxi_augusto.reset_index(level='person')\n"
   ]
  },
  {
   "cell_type": "code",
   "execution_count": 80,
   "metadata": {},
   "outputs": [
    {
     "data": {
      "text/html": [
       "<div>\n",
       "<style scoped>\n",
       "    .dataframe tbody tr th:only-of-type {\n",
       "        vertical-align: middle;\n",
       "    }\n",
       "\n",
       "    .dataframe tbody tr th {\n",
       "        vertical-align: top;\n",
       "    }\n",
       "\n",
       "    .dataframe thead th {\n",
       "        text-align: right;\n",
       "    }\n",
       "</style>\n",
       "<table border=\"1\" class=\"dataframe\">\n",
       "  <thead>\n",
       "    <tr style=\"text-align: right;\">\n",
       "      <th></th>\n",
       "      <th>person</th>\n",
       "      <th>ad campaign hit</th>\n",
       "      <th>brand listing</th>\n",
       "      <th>checkout</th>\n",
       "      <th>conversion</th>\n",
       "      <th>generic listing</th>\n",
       "      <th>lead</th>\n",
       "      <th>search engine hit</th>\n",
       "      <th>searched products</th>\n",
       "      <th>staticpage</th>\n",
       "      <th>...</th>\n",
       "      <th>dTimeEveMean0</th>\n",
       "      <th>dTimeEveMean1</th>\n",
       "      <th>dHTimeEveMax</th>\n",
       "      <th>dHTimeEveMean1</th>\n",
       "      <th>dHTimeEveMean0</th>\n",
       "      <th>Estado Bien</th>\n",
       "      <th>Estado Excelente</th>\n",
       "      <th>Estado Muy Bien</th>\n",
       "      <th>Estado Nuevo</th>\n",
       "      <th>contador_visitas_ret_new</th>\n",
       "    </tr>\n",
       "  </thead>\n",
       "  <tbody>\n",
       "    <tr>\n",
       "      <th>0</th>\n",
       "      <td>0008ed71</td>\n",
       "      <td>0.0</td>\n",
       "      <td>0.0</td>\n",
       "      <td>3.0</td>\n",
       "      <td>0.0</td>\n",
       "      <td>1.0</td>\n",
       "      <td>0.0</td>\n",
       "      <td>0.0</td>\n",
       "      <td>0.0</td>\n",
       "      <td>0.0</td>\n",
       "      <td>...</td>\n",
       "      <td>0.000000</td>\n",
       "      <td>0.166667</td>\n",
       "      <td>4.013889</td>\n",
       "      <td>0.185324</td>\n",
       "      <td>0.018657</td>\n",
       "      <td>2.0</td>\n",
       "      <td>0.0</td>\n",
       "      <td>1.0</td>\n",
       "      <td>0.0</td>\n",
       "      <td>2</td>\n",
       "    </tr>\n",
       "    <tr>\n",
       "      <th>1</th>\n",
       "      <td>00091926</td>\n",
       "      <td>15.0</td>\n",
       "      <td>25.0</td>\n",
       "      <td>2.0</td>\n",
       "      <td>0.0</td>\n",
       "      <td>0.0</td>\n",
       "      <td>0.0</td>\n",
       "      <td>0.0</td>\n",
       "      <td>0.0</td>\n",
       "      <td>0.0</td>\n",
       "      <td>...</td>\n",
       "      <td>0.062500</td>\n",
       "      <td>0.064732</td>\n",
       "      <td>74.207500</td>\n",
       "      <td>1.497148</td>\n",
       "      <td>1.494916</td>\n",
       "      <td>102.0</td>\n",
       "      <td>108.0</td>\n",
       "      <td>163.0</td>\n",
       "      <td>1.0</td>\n",
       "      <td>34</td>\n",
       "    </tr>\n",
       "    <tr>\n",
       "      <th>2</th>\n",
       "      <td>00091a7a</td>\n",
       "      <td>1.0</td>\n",
       "      <td>5.0</td>\n",
       "      <td>0.0</td>\n",
       "      <td>0.0</td>\n",
       "      <td>0.0</td>\n",
       "      <td>0.0</td>\n",
       "      <td>0.0</td>\n",
       "      <td>0.0</td>\n",
       "      <td>0.0</td>\n",
       "      <td>...</td>\n",
       "      <td>0.000000</td>\n",
       "      <td>0.100000</td>\n",
       "      <td>0.096389</td>\n",
       "      <td>0.108722</td>\n",
       "      <td>0.008722</td>\n",
       "      <td>1.0</td>\n",
       "      <td>2.0</td>\n",
       "      <td>0.0</td>\n",
       "      <td>0.0</td>\n",
       "      <td>1</td>\n",
       "    </tr>\n",
       "    <tr>\n",
       "      <th>3</th>\n",
       "      <td>000ba417</td>\n",
       "      <td>1.0</td>\n",
       "      <td>24.0</td>\n",
       "      <td>6.0</td>\n",
       "      <td>1.0</td>\n",
       "      <td>14.0</td>\n",
       "      <td>0.0</td>\n",
       "      <td>1.0</td>\n",
       "      <td>0.0</td>\n",
       "      <td>0.0</td>\n",
       "      <td>...</td>\n",
       "      <td>0.043689</td>\n",
       "      <td>0.048544</td>\n",
       "      <td>172.998056</td>\n",
       "      <td>1.026614</td>\n",
       "      <td>1.021760</td>\n",
       "      <td>115.0</td>\n",
       "      <td>11.0</td>\n",
       "      <td>34.0</td>\n",
       "      <td>0.0</td>\n",
       "      <td>6</td>\n",
       "    </tr>\n",
       "    <tr>\n",
       "      <th>4</th>\n",
       "      <td>000c79fe</td>\n",
       "      <td>1.0</td>\n",
       "      <td>0.0</td>\n",
       "      <td>1.0</td>\n",
       "      <td>0.0</td>\n",
       "      <td>1.0</td>\n",
       "      <td>0.0</td>\n",
       "      <td>1.0</td>\n",
       "      <td>9.0</td>\n",
       "      <td>0.0</td>\n",
       "      <td>...</td>\n",
       "      <td>0.000000</td>\n",
       "      <td>0.058824</td>\n",
       "      <td>0.172222</td>\n",
       "      <td>0.066667</td>\n",
       "      <td>0.007843</td>\n",
       "      <td>4.0</td>\n",
       "      <td>0.0</td>\n",
       "      <td>0.0</td>\n",
       "      <td>0.0</td>\n",
       "      <td>1</td>\n",
       "    </tr>\n",
       "  </tbody>\n",
       "</table>\n",
       "<p>5 rows × 49 columns</p>\n",
       "</div>"
      ],
      "text/plain": [
       "     person  ad campaign hit  brand listing  checkout  conversion  \\\n",
       "0  0008ed71              0.0            0.0       3.0         0.0   \n",
       "1  00091926             15.0           25.0       2.0         0.0   \n",
       "2  00091a7a              1.0            5.0       0.0         0.0   \n",
       "3  000ba417              1.0           24.0       6.0         1.0   \n",
       "4  000c79fe              1.0            0.0       1.0         0.0   \n",
       "\n",
       "   generic listing  lead  search engine hit  searched products  staticpage  \\\n",
       "0              1.0   0.0                0.0                0.0         0.0   \n",
       "1              0.0   0.0                0.0                0.0         0.0   \n",
       "2              0.0   0.0                0.0                0.0         0.0   \n",
       "3             14.0   0.0                1.0                0.0         0.0   \n",
       "4              1.0   0.0                1.0                9.0         0.0   \n",
       "\n",
       "            ...             dTimeEveMean0  dTimeEveMean1 dHTimeEveMax  \\\n",
       "0           ...                  0.000000       0.166667     4.013889   \n",
       "1           ...                  0.062500       0.064732    74.207500   \n",
       "2           ...                  0.000000       0.100000     0.096389   \n",
       "3           ...                  0.043689       0.048544   172.998056   \n",
       "4           ...                  0.000000       0.058824     0.172222   \n",
       "\n",
       "  dHTimeEveMean1 dHTimeEveMean0 Estado Bien Estado Excelente  Estado Muy Bien  \\\n",
       "0       0.185324       0.018657         2.0              0.0              1.0   \n",
       "1       1.497148       1.494916       102.0            108.0            163.0   \n",
       "2       0.108722       0.008722         1.0              2.0              0.0   \n",
       "3       1.026614       1.021760       115.0             11.0             34.0   \n",
       "4       0.066667       0.007843         4.0              0.0              0.0   \n",
       "\n",
       "  Estado Nuevo contador_visitas_ret_new  \n",
       "0          0.0                        2  \n",
       "1          1.0                       34  \n",
       "2          0.0                        1  \n",
       "3          0.0                        6  \n",
       "4          0.0                        1  \n",
       "\n",
       "[5 rows x 49 columns]"
      ]
     },
     "execution_count": 80,
     "metadata": {},
     "output_type": "execute_result"
    }
   ],
   "source": [
    "#hay que ver new vs returning en cuanto distancia de tiempo\n",
    "aux = aux.merge(auxi_augusto, left_on = 'person', right_on = 'person', how = 'right')\n",
    "aux.fillna(1, inplace = True)\n",
    "aux.head()"
   ]
  },
  {
   "cell_type": "code",
   "execution_count": 81,
   "metadata": {},
   "outputs": [],
   "source": [
    "temp = df1.loc[(~(df1[\"condition\"].isna()))&(~(df1[\"dias_hasta_1/6\"].isna()))][[\"person\",\"dias_hasta_1/6\",\"condition\"]]\\\n",
    "                .groupby(\"person\").apply(lambda x: x.loc[x[\"dias_hasta_1/6\"].idxmax(),[\"dias_hasta_1/6\",\"condition\"]])\\\n",
    "                .reset_index()[[\"person\",\"condition\"]].rename(columns={\"condition\":\"condition_last\"})\n",
    "aux = pd.merge(aux,temp,on=\"person\",how =\"left\")"
   ]
  },
  {
   "cell_type": "code",
   "execution_count": 82,
   "metadata": {},
   "outputs": [],
   "source": [
    "temp = df1.loc[(~(df1[\"condition\"].isna()))&(~(df1[\"dias_hasta_1/6\"].isna()))][[\"person\",\"dias_hasta_1/6\",\"condition\"]]\\\n",
    "                .groupby(\"person\").apply(lambda x: x.loc[x[\"dias_hasta_1/6\"].idxmin(),[\"dias_hasta_1/6\",\"condition\"]])\\\n",
    "                .reset_index()[[\"person\",\"condition\"]].rename(columns={\"condition\":\"condition_first\"})\n",
    "aux = pd.merge(aux,temp,on=\"person\",how =\"left\")"
   ]
  },
  {
   "cell_type": "code",
   "execution_count": 83,
   "metadata": {},
   "outputs": [],
   "source": [
    "temp = df1.loc[(~(df1[\"condition\"].isna()))&(~(df1[\"dias_hasta_1/6\"].isna()))][[\"person\",\"dias_hasta_1/6\",\"condition\"]]\\\n",
    "                .groupby(\"person\").apply(lambda x: x.loc[x[\"dias_hasta_1/6\"].median() == x[\"dias_hasta_1/6\"],[\"dias_hasta_1/6\",\"condition\"]].head(1))\\\n",
    "                .reset_index()[[\"person\",\"condition\"]].rename(columns={\"condition\":\"condition_med\"})\n",
    "\n",
    "aux = pd.merge(aux,temp,on=\"person\",how =\"left\")"
   ]
  },
  {
   "cell_type": "code",
   "execution_count": null,
   "metadata": {},
   "outputs": [],
   "source": []
  },
  {
   "cell_type": "code",
   "execution_count": 84,
   "metadata": {
    "scrolled": false
   },
   "outputs": [
    {
     "data": {
      "text/html": [
       "<div>\n",
       "<style scoped>\n",
       "    .dataframe tbody tr th:only-of-type {\n",
       "        vertical-align: middle;\n",
       "    }\n",
       "\n",
       "    .dataframe tbody tr th {\n",
       "        vertical-align: top;\n",
       "    }\n",
       "\n",
       "    .dataframe thead th {\n",
       "        text-align: right;\n",
       "    }\n",
       "</style>\n",
       "<table border=\"1\" class=\"dataframe\">\n",
       "  <thead>\n",
       "    <tr style=\"text-align: right;\">\n",
       "      <th></th>\n",
       "      <th>person</th>\n",
       "      <th>ad campaign hit</th>\n",
       "      <th>brand listing</th>\n",
       "      <th>checkout</th>\n",
       "      <th>conversion</th>\n",
       "      <th>generic listing</th>\n",
       "      <th>lead</th>\n",
       "      <th>search engine hit</th>\n",
       "      <th>searched products</th>\n",
       "      <th>staticpage</th>\n",
       "      <th>...</th>\n",
       "      <th>dHTimeEveMean1</th>\n",
       "      <th>dHTimeEveMean0</th>\n",
       "      <th>Estado Bien</th>\n",
       "      <th>Estado Excelente</th>\n",
       "      <th>Estado Muy Bien</th>\n",
       "      <th>Estado Nuevo</th>\n",
       "      <th>contador_visitas_ret_new</th>\n",
       "      <th>condition_last</th>\n",
       "      <th>condition_first</th>\n",
       "      <th>condition_med</th>\n",
       "    </tr>\n",
       "  </thead>\n",
       "  <tbody>\n",
       "    <tr>\n",
       "      <th>0</th>\n",
       "      <td>0008ed71</td>\n",
       "      <td>0.0</td>\n",
       "      <td>0.0</td>\n",
       "      <td>3.0</td>\n",
       "      <td>0.0</td>\n",
       "      <td>1.0</td>\n",
       "      <td>0.0</td>\n",
       "      <td>0.0</td>\n",
       "      <td>0.0</td>\n",
       "      <td>0.0</td>\n",
       "      <td>...</td>\n",
       "      <td>0.185324</td>\n",
       "      <td>0.018657</td>\n",
       "      <td>2.0</td>\n",
       "      <td>0.0</td>\n",
       "      <td>1.0</td>\n",
       "      <td>0.0</td>\n",
       "      <td>2</td>\n",
       "      <td>Estado Bien</td>\n",
       "      <td>Estado Bien</td>\n",
       "      <td>Estado Bien</td>\n",
       "    </tr>\n",
       "    <tr>\n",
       "      <th>1</th>\n",
       "      <td>00091926</td>\n",
       "      <td>15.0</td>\n",
       "      <td>25.0</td>\n",
       "      <td>2.0</td>\n",
       "      <td>0.0</td>\n",
       "      <td>0.0</td>\n",
       "      <td>0.0</td>\n",
       "      <td>0.0</td>\n",
       "      <td>0.0</td>\n",
       "      <td>0.0</td>\n",
       "      <td>...</td>\n",
       "      <td>1.497148</td>\n",
       "      <td>1.494916</td>\n",
       "      <td>102.0</td>\n",
       "      <td>108.0</td>\n",
       "      <td>163.0</td>\n",
       "      <td>1.0</td>\n",
       "      <td>34</td>\n",
       "      <td>Estado Nuevo</td>\n",
       "      <td>Estado Muy Bien</td>\n",
       "      <td>Estado Muy Bien</td>\n",
       "    </tr>\n",
       "    <tr>\n",
       "      <th>2</th>\n",
       "      <td>00091a7a</td>\n",
       "      <td>1.0</td>\n",
       "      <td>5.0</td>\n",
       "      <td>0.0</td>\n",
       "      <td>0.0</td>\n",
       "      <td>0.0</td>\n",
       "      <td>0.0</td>\n",
       "      <td>0.0</td>\n",
       "      <td>0.0</td>\n",
       "      <td>0.0</td>\n",
       "      <td>...</td>\n",
       "      <td>0.108722</td>\n",
       "      <td>0.008722</td>\n",
       "      <td>1.0</td>\n",
       "      <td>2.0</td>\n",
       "      <td>0.0</td>\n",
       "      <td>0.0</td>\n",
       "      <td>1</td>\n",
       "      <td>Estado Bien</td>\n",
       "      <td>Estado Bien</td>\n",
       "      <td>Estado Bien</td>\n",
       "    </tr>\n",
       "    <tr>\n",
       "      <th>3</th>\n",
       "      <td>000ba417</td>\n",
       "      <td>1.0</td>\n",
       "      <td>24.0</td>\n",
       "      <td>6.0</td>\n",
       "      <td>1.0</td>\n",
       "      <td>14.0</td>\n",
       "      <td>0.0</td>\n",
       "      <td>1.0</td>\n",
       "      <td>0.0</td>\n",
       "      <td>0.0</td>\n",
       "      <td>...</td>\n",
       "      <td>1.026614</td>\n",
       "      <td>1.021760</td>\n",
       "      <td>115.0</td>\n",
       "      <td>11.0</td>\n",
       "      <td>34.0</td>\n",
       "      <td>0.0</td>\n",
       "      <td>6</td>\n",
       "      <td>Estado Excelente</td>\n",
       "      <td>Estado Bien</td>\n",
       "      <td>Estado Bien</td>\n",
       "    </tr>\n",
       "    <tr>\n",
       "      <th>4</th>\n",
       "      <td>000c79fe</td>\n",
       "      <td>1.0</td>\n",
       "      <td>0.0</td>\n",
       "      <td>1.0</td>\n",
       "      <td>0.0</td>\n",
       "      <td>1.0</td>\n",
       "      <td>0.0</td>\n",
       "      <td>1.0</td>\n",
       "      <td>9.0</td>\n",
       "      <td>0.0</td>\n",
       "      <td>...</td>\n",
       "      <td>0.066667</td>\n",
       "      <td>0.007843</td>\n",
       "      <td>4.0</td>\n",
       "      <td>0.0</td>\n",
       "      <td>0.0</td>\n",
       "      <td>0.0</td>\n",
       "      <td>1</td>\n",
       "      <td>Estado Bien</td>\n",
       "      <td>Estado Bien</td>\n",
       "      <td>Estado Bien</td>\n",
       "    </tr>\n",
       "  </tbody>\n",
       "</table>\n",
       "<p>5 rows × 52 columns</p>\n",
       "</div>"
      ],
      "text/plain": [
       "     person  ad campaign hit  brand listing  checkout  conversion  \\\n",
       "0  0008ed71              0.0            0.0       3.0         0.0   \n",
       "1  00091926             15.0           25.0       2.0         0.0   \n",
       "2  00091a7a              1.0            5.0       0.0         0.0   \n",
       "3  000ba417              1.0           24.0       6.0         1.0   \n",
       "4  000c79fe              1.0            0.0       1.0         0.0   \n",
       "\n",
       "   generic listing  lead  search engine hit  searched products  staticpage  \\\n",
       "0              1.0   0.0                0.0                0.0         0.0   \n",
       "1              0.0   0.0                0.0                0.0         0.0   \n",
       "2              0.0   0.0                0.0                0.0         0.0   \n",
       "3             14.0   0.0                1.0                0.0         0.0   \n",
       "4              1.0   0.0                1.0                9.0         0.0   \n",
       "\n",
       "        ...         dHTimeEveMean1  dHTimeEveMean0 Estado Bien  \\\n",
       "0       ...               0.185324        0.018657         2.0   \n",
       "1       ...               1.497148        1.494916       102.0   \n",
       "2       ...               0.108722        0.008722         1.0   \n",
       "3       ...               1.026614        1.021760       115.0   \n",
       "4       ...               0.066667        0.007843         4.0   \n",
       "\n",
       "  Estado Excelente Estado Muy Bien Estado Nuevo contador_visitas_ret_new  \\\n",
       "0              0.0             1.0          0.0                        2   \n",
       "1            108.0           163.0          1.0                       34   \n",
       "2              2.0             0.0          0.0                        1   \n",
       "3             11.0            34.0          0.0                        6   \n",
       "4              0.0             0.0          0.0                        1   \n",
       "\n",
       "     condition_last  condition_first    condition_med  \n",
       "0       Estado Bien      Estado Bien      Estado Bien  \n",
       "1      Estado Nuevo  Estado Muy Bien  Estado Muy Bien  \n",
       "2       Estado Bien      Estado Bien      Estado Bien  \n",
       "3  Estado Excelente      Estado Bien      Estado Bien  \n",
       "4       Estado Bien      Estado Bien      Estado Bien  \n",
       "\n",
       "[5 rows x 52 columns]"
      ]
     },
     "execution_count": 84,
     "metadata": {},
     "output_type": "execute_result"
    }
   ],
   "source": [
    "aux.head()"
   ]
  },
  {
   "cell_type": "code",
   "execution_count": null,
   "metadata": {},
   "outputs": [],
   "source": []
  },
  {
   "cell_type": "code",
   "execution_count": 85,
   "metadata": {},
   "outputs": [],
   "source": [
    "def fun(serie):\n",
    "    if(pd.isnull(serie)):\n",
    "        return serie\n",
    "    lista = serie.split(\" \")\n",
    "    return lista[0]"
   ]
  },
  {
   "cell_type": "code",
   "execution_count": 86,
   "metadata": {},
   "outputs": [],
   "source": [
    "aux_sistema_op = df1.loc[:,['person','operating_system_version']]\n",
    "aux_sistema_op['operating_system_version']= aux_sistema_op['operating_system_version'].apply(fun)"
   ]
  },
  {
   "cell_type": "code",
   "execution_count": 88,
   "metadata": {},
   "outputs": [],
   "source": [
    "grupo = aux_sistema_op.fillna(aux_sistema_op['operating_system_version'].value_counts().idxmax()).groupby('person').\\\n",
    "                    apply(lambda x: x['operating_system_version'].value_counts().idxmax())\\\n",
    "                    .reset_index(level='person').\\\n",
    "                    rename(index=str, columns={0: \"sistema_operativo\"})"
   ]
  },
  {
   "cell_type": "code",
   "execution_count": null,
   "metadata": {},
   "outputs": [],
   "source": []
  },
  {
   "cell_type": "code",
   "execution_count": 89,
   "metadata": {},
   "outputs": [],
   "source": [
    "aux = aux.merge(grupo,left_on = 'person', right_on = 'person', how = 'left')"
   ]
  },
  {
   "cell_type": "code",
   "execution_count": null,
   "metadata": {},
   "outputs": [],
   "source": []
  },
  {
   "cell_type": "code",
   "execution_count": 90,
   "metadata": {},
   "outputs": [],
   "source": [
    "aux.to_csv(\"features.csv\",index = False)"
   ]
  },
  {
   "cell_type": "code",
   "execution_count": 91,
   "metadata": {
    "scrolled": false
   },
   "outputs": [
    {
     "data": {
      "text/plain": [
       "Index([u'person', u'ad campaign hit', u'brand listing', u'checkout',\n",
       "       u'conversion', u'generic listing', u'lead', u'search engine hit',\n",
       "       u'searched products', u'staticpage', u'viewed product', u'visited site',\n",
       "       u'model_no_convercion', u'storage_no_convercion',\n",
       "       u'condition_no_convercion', u'color_no_convercion', u'search_engine',\n",
       "       u'numero mas usado dia', u'nombre mas usado dia',\n",
       "       u'ultimo_dia_de_la_semana_activo', u'ultimo_evento_registrado_cmode',\n",
       "       u'dias_hasta', u'viewed product_last', u'searched products_last',\n",
       "       u'ad campaign hit_last', u'staticpage_last', u'checkout_last',\n",
       "       u'search engine hit_last', u'conversion_last', u'generic listing_last',\n",
       "       u'brand listing_last', u'visited site_last', u'lead_last',\n",
       "       u'cantidad_de_dias_utilizado', u'media_dia_de_la_semana_no_convercion',\n",
       "       u'delta_ultimo_primer_dia_actividad',\n",
       "       u'delta_ultimo_anteulit_tiempo_actividad',\n",
       "       u'delta_primer_seg_tiempo_actividad', u'dTimeEveMax', u'dTimeEveMean0',\n",
       "       u'dTimeEveMean1', u'dHTimeEveMax', u'dHTimeEveMean1', u'dHTimeEveMean0',\n",
       "       u'Estado Bien', u'Estado Excelente', u'Estado Muy Bien',\n",
       "       u'Estado Nuevo', u'contador_visitas_ret_new', u'condition_last',\n",
       "       u'condition_first', u'condition_med', u'sistema_operativo'],\n",
       "      dtype='object')"
      ]
     },
     "execution_count": 91,
     "metadata": {},
     "output_type": "execute_result"
    }
   ],
   "source": [
    "aux.columns"
   ]
  },
  {
   "cell_type": "code",
   "execution_count": null,
   "metadata": {},
   "outputs": [],
   "source": []
  }
 ],
 "metadata": {
  "kernelspec": {
   "display_name": "Python 2",
   "language": "python",
   "name": "python2"
  },
  "language_info": {
   "codemirror_mode": {
    "name": "ipython",
    "version": 2
   },
   "file_extension": ".py",
   "mimetype": "text/x-python",
   "name": "python",
   "nbconvert_exporter": "python",
   "pygments_lexer": "ipython2",
   "version": "2.7.14"
  }
 },
 "nbformat": 4,
 "nbformat_minor": 2
}
